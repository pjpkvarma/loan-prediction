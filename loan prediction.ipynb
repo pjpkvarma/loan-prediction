{
 "cells": [
  {
   "cell_type": "code",
   "execution_count": 1,
   "metadata": {},
   "outputs": [],
   "source": [
    "import numpy as np\n",
    "import pandas as pd\n",
    "import matplotlib.pyplot as plt\n",
    "%matplotlib inline"
   ]
  },
  {
   "cell_type": "code",
   "execution_count": 2,
   "metadata": {},
   "outputs": [],
   "source": [
    "train = pd.read_csv('train.csv')\n",
    "test = pd.read_csv('test.csv')"
   ]
  },
  {
   "cell_type": "code",
   "execution_count": 3,
   "metadata": {},
   "outputs": [
    {
     "data": {
      "text/html": [
       "<div>\n",
       "<style scoped>\n",
       "    .dataframe tbody tr th:only-of-type {\n",
       "        vertical-align: middle;\n",
       "    }\n",
       "\n",
       "    .dataframe tbody tr th {\n",
       "        vertical-align: top;\n",
       "    }\n",
       "\n",
       "    .dataframe thead th {\n",
       "        text-align: right;\n",
       "    }\n",
       "</style>\n",
       "<table border=\"1\" class=\"dataframe\">\n",
       "  <thead>\n",
       "    <tr style=\"text-align: right;\">\n",
       "      <th></th>\n",
       "      <th>Loan_ID</th>\n",
       "      <th>Gender</th>\n",
       "      <th>Married</th>\n",
       "      <th>Dependents</th>\n",
       "      <th>Education</th>\n",
       "      <th>Self_Employed</th>\n",
       "      <th>ApplicantIncome</th>\n",
       "      <th>CoapplicantIncome</th>\n",
       "      <th>LoanAmount</th>\n",
       "      <th>Loan_Amount_Term</th>\n",
       "      <th>Credit_History</th>\n",
       "      <th>Property_Area</th>\n",
       "      <th>Loan_Status</th>\n",
       "    </tr>\n",
       "  </thead>\n",
       "  <tbody>\n",
       "    <tr>\n",
       "      <th>0</th>\n",
       "      <td>LP001002</td>\n",
       "      <td>Male</td>\n",
       "      <td>No</td>\n",
       "      <td>0</td>\n",
       "      <td>Graduate</td>\n",
       "      <td>No</td>\n",
       "      <td>5849</td>\n",
       "      <td>0.0</td>\n",
       "      <td>NaN</td>\n",
       "      <td>360.0</td>\n",
       "      <td>1.0</td>\n",
       "      <td>Urban</td>\n",
       "      <td>Y</td>\n",
       "    </tr>\n",
       "    <tr>\n",
       "      <th>1</th>\n",
       "      <td>LP001003</td>\n",
       "      <td>Male</td>\n",
       "      <td>Yes</td>\n",
       "      <td>1</td>\n",
       "      <td>Graduate</td>\n",
       "      <td>No</td>\n",
       "      <td>4583</td>\n",
       "      <td>1508.0</td>\n",
       "      <td>128.0</td>\n",
       "      <td>360.0</td>\n",
       "      <td>1.0</td>\n",
       "      <td>Rural</td>\n",
       "      <td>N</td>\n",
       "    </tr>\n",
       "    <tr>\n",
       "      <th>2</th>\n",
       "      <td>LP001005</td>\n",
       "      <td>Male</td>\n",
       "      <td>Yes</td>\n",
       "      <td>0</td>\n",
       "      <td>Graduate</td>\n",
       "      <td>Yes</td>\n",
       "      <td>3000</td>\n",
       "      <td>0.0</td>\n",
       "      <td>66.0</td>\n",
       "      <td>360.0</td>\n",
       "      <td>1.0</td>\n",
       "      <td>Urban</td>\n",
       "      <td>Y</td>\n",
       "    </tr>\n",
       "    <tr>\n",
       "      <th>3</th>\n",
       "      <td>LP001006</td>\n",
       "      <td>Male</td>\n",
       "      <td>Yes</td>\n",
       "      <td>0</td>\n",
       "      <td>Not Graduate</td>\n",
       "      <td>No</td>\n",
       "      <td>2583</td>\n",
       "      <td>2358.0</td>\n",
       "      <td>120.0</td>\n",
       "      <td>360.0</td>\n",
       "      <td>1.0</td>\n",
       "      <td>Urban</td>\n",
       "      <td>Y</td>\n",
       "    </tr>\n",
       "    <tr>\n",
       "      <th>4</th>\n",
       "      <td>LP001008</td>\n",
       "      <td>Male</td>\n",
       "      <td>No</td>\n",
       "      <td>0</td>\n",
       "      <td>Graduate</td>\n",
       "      <td>No</td>\n",
       "      <td>6000</td>\n",
       "      <td>0.0</td>\n",
       "      <td>141.0</td>\n",
       "      <td>360.0</td>\n",
       "      <td>1.0</td>\n",
       "      <td>Urban</td>\n",
       "      <td>Y</td>\n",
       "    </tr>\n",
       "  </tbody>\n",
       "</table>\n",
       "</div>"
      ],
      "text/plain": [
       "    Loan_ID Gender Married Dependents     Education Self_Employed  \\\n",
       "0  LP001002   Male      No          0      Graduate            No   \n",
       "1  LP001003   Male     Yes          1      Graduate            No   \n",
       "2  LP001005   Male     Yes          0      Graduate           Yes   \n",
       "3  LP001006   Male     Yes          0  Not Graduate            No   \n",
       "4  LP001008   Male      No          0      Graduate            No   \n",
       "\n",
       "   ApplicantIncome  CoapplicantIncome  LoanAmount  Loan_Amount_Term  \\\n",
       "0             5849                0.0         NaN             360.0   \n",
       "1             4583             1508.0       128.0             360.0   \n",
       "2             3000                0.0        66.0             360.0   \n",
       "3             2583             2358.0       120.0             360.0   \n",
       "4             6000                0.0       141.0             360.0   \n",
       "\n",
       "   Credit_History Property_Area Loan_Status  \n",
       "0             1.0         Urban           Y  \n",
       "1             1.0         Rural           N  \n",
       "2             1.0         Urban           Y  \n",
       "3             1.0         Urban           Y  \n",
       "4             1.0         Urban           Y  "
      ]
     },
     "execution_count": 3,
     "metadata": {},
     "output_type": "execute_result"
    }
   ],
   "source": [
    "train.head()"
   ]
  },
  {
   "cell_type": "code",
   "execution_count": 4,
   "metadata": {},
   "outputs": [
    {
     "data": {
      "text/html": [
       "<div>\n",
       "<style scoped>\n",
       "    .dataframe tbody tr th:only-of-type {\n",
       "        vertical-align: middle;\n",
       "    }\n",
       "\n",
       "    .dataframe tbody tr th {\n",
       "        vertical-align: top;\n",
       "    }\n",
       "\n",
       "    .dataframe thead th {\n",
       "        text-align: right;\n",
       "    }\n",
       "</style>\n",
       "<table border=\"1\" class=\"dataframe\">\n",
       "  <thead>\n",
       "    <tr style=\"text-align: right;\">\n",
       "      <th></th>\n",
       "      <th>Loan_ID</th>\n",
       "      <th>Gender</th>\n",
       "      <th>Married</th>\n",
       "      <th>Dependents</th>\n",
       "      <th>Education</th>\n",
       "      <th>Self_Employed</th>\n",
       "      <th>ApplicantIncome</th>\n",
       "      <th>CoapplicantIncome</th>\n",
       "      <th>LoanAmount</th>\n",
       "      <th>Loan_Amount_Term</th>\n",
       "      <th>Credit_History</th>\n",
       "      <th>Property_Area</th>\n",
       "    </tr>\n",
       "  </thead>\n",
       "  <tbody>\n",
       "    <tr>\n",
       "      <th>0</th>\n",
       "      <td>LP001015</td>\n",
       "      <td>Male</td>\n",
       "      <td>Yes</td>\n",
       "      <td>0</td>\n",
       "      <td>Graduate</td>\n",
       "      <td>No</td>\n",
       "      <td>5720</td>\n",
       "      <td>0</td>\n",
       "      <td>110.0</td>\n",
       "      <td>360.0</td>\n",
       "      <td>1.0</td>\n",
       "      <td>Urban</td>\n",
       "    </tr>\n",
       "    <tr>\n",
       "      <th>1</th>\n",
       "      <td>LP001022</td>\n",
       "      <td>Male</td>\n",
       "      <td>Yes</td>\n",
       "      <td>1</td>\n",
       "      <td>Graduate</td>\n",
       "      <td>No</td>\n",
       "      <td>3076</td>\n",
       "      <td>1500</td>\n",
       "      <td>126.0</td>\n",
       "      <td>360.0</td>\n",
       "      <td>1.0</td>\n",
       "      <td>Urban</td>\n",
       "    </tr>\n",
       "    <tr>\n",
       "      <th>2</th>\n",
       "      <td>LP001031</td>\n",
       "      <td>Male</td>\n",
       "      <td>Yes</td>\n",
       "      <td>2</td>\n",
       "      <td>Graduate</td>\n",
       "      <td>No</td>\n",
       "      <td>5000</td>\n",
       "      <td>1800</td>\n",
       "      <td>208.0</td>\n",
       "      <td>360.0</td>\n",
       "      <td>1.0</td>\n",
       "      <td>Urban</td>\n",
       "    </tr>\n",
       "    <tr>\n",
       "      <th>3</th>\n",
       "      <td>LP001035</td>\n",
       "      <td>Male</td>\n",
       "      <td>Yes</td>\n",
       "      <td>2</td>\n",
       "      <td>Graduate</td>\n",
       "      <td>No</td>\n",
       "      <td>2340</td>\n",
       "      <td>2546</td>\n",
       "      <td>100.0</td>\n",
       "      <td>360.0</td>\n",
       "      <td>NaN</td>\n",
       "      <td>Urban</td>\n",
       "    </tr>\n",
       "    <tr>\n",
       "      <th>4</th>\n",
       "      <td>LP001051</td>\n",
       "      <td>Male</td>\n",
       "      <td>No</td>\n",
       "      <td>0</td>\n",
       "      <td>Not Graduate</td>\n",
       "      <td>No</td>\n",
       "      <td>3276</td>\n",
       "      <td>0</td>\n",
       "      <td>78.0</td>\n",
       "      <td>360.0</td>\n",
       "      <td>1.0</td>\n",
       "      <td>Urban</td>\n",
       "    </tr>\n",
       "  </tbody>\n",
       "</table>\n",
       "</div>"
      ],
      "text/plain": [
       "    Loan_ID Gender Married Dependents     Education Self_Employed  \\\n",
       "0  LP001015   Male     Yes          0      Graduate            No   \n",
       "1  LP001022   Male     Yes          1      Graduate            No   \n",
       "2  LP001031   Male     Yes          2      Graduate            No   \n",
       "3  LP001035   Male     Yes          2      Graduate            No   \n",
       "4  LP001051   Male      No          0  Not Graduate            No   \n",
       "\n",
       "   ApplicantIncome  CoapplicantIncome  LoanAmount  Loan_Amount_Term  \\\n",
       "0             5720                  0       110.0             360.0   \n",
       "1             3076               1500       126.0             360.0   \n",
       "2             5000               1800       208.0             360.0   \n",
       "3             2340               2546       100.0             360.0   \n",
       "4             3276                  0        78.0             360.0   \n",
       "\n",
       "   Credit_History Property_Area  \n",
       "0             1.0         Urban  \n",
       "1             1.0         Urban  \n",
       "2             1.0         Urban  \n",
       "3             NaN         Urban  \n",
       "4             1.0         Urban  "
      ]
     },
     "execution_count": 4,
     "metadata": {},
     "output_type": "execute_result"
    }
   ],
   "source": [
    "test.head()"
   ]
  },
  {
   "cell_type": "markdown",
   "metadata": {},
   "source": [
    "dependent variable - loan_status"
   ]
  },
  {
   "cell_type": "code",
   "execution_count": 5,
   "metadata": {},
   "outputs": [
    {
     "data": {
      "text/plain": [
       "(614, 13)"
      ]
     },
     "execution_count": 5,
     "metadata": {},
     "output_type": "execute_result"
    }
   ],
   "source": [
    "train.shape"
   ]
  },
  {
   "cell_type": "code",
   "execution_count": 7,
   "metadata": {},
   "outputs": [
    {
     "data": {
      "text/plain": [
       "Male      489\n",
       "Female    112\n",
       "Name: Gender, dtype: int64"
      ]
     },
     "execution_count": 7,
     "metadata": {},
     "output_type": "execute_result"
    }
   ],
   "source": [
    "train['Gender'].value_counts()"
   ]
  },
  {
   "cell_type": "code",
   "execution_count": 8,
   "metadata": {},
   "outputs": [
    {
     "data": {
      "text/plain": [
       "<matplotlib.axes._subplots.AxesSubplot at 0x25ffd50ea48>"
      ]
     },
     "execution_count": 8,
     "metadata": {},
     "output_type": "execute_result"
    },
    {
     "data": {
      "image/png": "[encoded data removed]",
      "text/plain": [
       "<Figure size 432x288 with 1 Axes>"
      ]
     },
     "metadata": {
      "needs_background": "light"
     },
     "output_type": "display_data"
    }
   ],
   "source": [
    "train['Gender'].value_counts().plot(kind='bar')"
   ]
  },
  {
   "cell_type": "code",
   "execution_count": 11,
   "metadata": {},
   "outputs": [
    {
     "data": {
      "text/plain": [
       "<matplotlib.axes._subplots.AxesSubplot at 0x25ffd8efd48>"
      ]
     },
     "execution_count": 11,
     "metadata": {},
     "output_type": "execute_result"
    },
    {
     "data": {
      "image/png": "[encoded data removed]",
      "text/plain": [
       "<Figure size 432x288 with 1 Axes>"
      ]
     },
     "metadata": {
      "needs_background": "light"
     },
     "output_type": "display_data"
    }
   ],
   "source": [
    "pd.crosstab(train['Gender'],train['Loan_Status']).plot(kind='bar')"
   ]
  },
  {
   "cell_type": "code",
   "execution_count": 12,
   "metadata": {},
   "outputs": [
    {
     "data": {
      "text/html": [
       "<div>\n",
       "<style scoped>\n",
       "    .dataframe tbody tr th:only-of-type {\n",
       "        vertical-align: middle;\n",
       "    }\n",
       "\n",
       "    .dataframe tbody tr th {\n",
       "        vertical-align: top;\n",
       "    }\n",
       "\n",
       "    .dataframe thead th {\n",
       "        text-align: right;\n",
       "    }\n",
       "</style>\n",
       "<table border=\"1\" class=\"dataframe\">\n",
       "  <thead>\n",
       "    <tr style=\"text-align: right;\">\n",
       "      <th>Loan_Status</th>\n",
       "      <th>N</th>\n",
       "      <th>Y</th>\n",
       "    </tr>\n",
       "    <tr>\n",
       "      <th>Gender</th>\n",
       "      <th></th>\n",
       "      <th></th>\n",
       "    </tr>\n",
       "  </thead>\n",
       "  <tbody>\n",
       "    <tr>\n",
       "      <th>Female</th>\n",
       "      <td>37</td>\n",
       "      <td>75</td>\n",
       "    </tr>\n",
       "    <tr>\n",
       "      <th>Male</th>\n",
       "      <td>150</td>\n",
       "      <td>339</td>\n",
       "    </tr>\n",
       "  </tbody>\n",
       "</table>\n",
       "</div>"
      ],
      "text/plain": [
       "Loan_Status    N    Y\n",
       "Gender               \n",
       "Female        37   75\n",
       "Male         150  339"
      ]
     },
     "execution_count": 12,
     "metadata": {},
     "output_type": "execute_result"
    }
   ],
   "source": [
    "pd.crosstab(train['Gender'],train['Loan_Status'])"
   ]
  },
  {
   "cell_type": "code",
   "execution_count": 13,
   "metadata": {},
   "outputs": [
    {
     "data": {
      "text/plain": [
       "0.33035714285714285"
      ]
     },
     "execution_count": 13,
     "metadata": {},
     "output_type": "execute_result"
    }
   ],
   "source": [
    "37/(37+75)"
   ]
  },
  {
   "cell_type": "code",
   "execution_count": 14,
   "metadata": {},
   "outputs": [
    {
     "data": {
      "text/plain": [
       "0.3067484662576687"
      ]
     },
     "execution_count": 14,
     "metadata": {},
     "output_type": "execute_result"
    }
   ],
   "source": [
    "150/(150+339)"
   ]
  },
  {
   "cell_type": "code",
   "execution_count": 15,
   "metadata": {},
   "outputs": [
    {
     "data": {
      "text/html": [
       "<div>\n",
       "<style scoped>\n",
       "    .dataframe tbody tr th:only-of-type {\n",
       "        vertical-align: middle;\n",
       "    }\n",
       "\n",
       "    .dataframe tbody tr th {\n",
       "        vertical-align: top;\n",
       "    }\n",
       "\n",
       "    .dataframe thead th {\n",
       "        text-align: right;\n",
       "    }\n",
       "</style>\n",
       "<table border=\"1\" class=\"dataframe\">\n",
       "  <thead>\n",
       "    <tr style=\"text-align: right;\">\n",
       "      <th>Loan_Status</th>\n",
       "      <th>N</th>\n",
       "      <th>Y</th>\n",
       "    </tr>\n",
       "    <tr>\n",
       "      <th>Self_Employed</th>\n",
       "      <th></th>\n",
       "      <th></th>\n",
       "    </tr>\n",
       "  </thead>\n",
       "  <tbody>\n",
       "    <tr>\n",
       "      <th>No</th>\n",
       "      <td>157</td>\n",
       "      <td>343</td>\n",
       "    </tr>\n",
       "    <tr>\n",
       "      <th>Yes</th>\n",
       "      <td>26</td>\n",
       "      <td>56</td>\n",
       "    </tr>\n",
       "  </tbody>\n",
       "</table>\n",
       "</div>"
      ],
      "text/plain": [
       "Loan_Status      N    Y\n",
       "Self_Employed          \n",
       "No             157  343\n",
       "Yes             26   56"
      ]
     },
     "execution_count": 15,
     "metadata": {},
     "output_type": "execute_result"
    }
   ],
   "source": [
    "pd.crosstab(train['Self_Employed'],train['Loan_Status'])"
   ]
  },
  {
   "cell_type": "code",
   "execution_count": 16,
   "metadata": {},
   "outputs": [
    {
     "data": {
      "text/plain": [
       "<matplotlib.axes._subplots.AxesSubplot at 0x25ffc119a88>"
      ]
     },
     "execution_count": 16,
     "metadata": {},
     "output_type": "execute_result"
    },
    {
     "data": {
      "image/png": "[encoded data removed]",
      "text/plain": [
       "<Figure size 432x288 with 1 Axes>"
      ]
     },
     "metadata": {
      "needs_background": "light"
     },
     "output_type": "display_data"
    }
   ],
   "source": [
    "pd.crosstab(train['Self_Employed'],train['Loan_Status']).plot(kind='bar')"
   ]
  },
  {
   "cell_type": "code",
   "execution_count": 17,
   "metadata": {},
   "outputs": [
    {
     "data": {
      "text/plain": [
       "<matplotlib.axes._subplots.AxesSubplot at 0x25ffd9deb88>"
      ]
     },
     "execution_count": 17,
     "metadata": {},
     "output_type": "execute_result"
    },
    {
     "data": {
      "image/png": "[encoded data removed]",
      "text/plain": [
       "<Figure size 432x288 with 1 Axes>"
      ]
     },
     "metadata": {
      "needs_background": "light"
     },
     "output_type": "display_data"
    }
   ],
   "source": [
    "pd.crosstab(train['Education'],train['Loan_Status']).plot(kind='bar')"
   ]
  },
  {
   "cell_type": "code",
   "execution_count": 18,
   "metadata": {},
   "outputs": [
    {
     "data": {
      "text/html": [
       "<div>\n",
       "<style scoped>\n",
       "    .dataframe tbody tr th:only-of-type {\n",
       "        vertical-align: middle;\n",
       "    }\n",
       "\n",
       "    .dataframe tbody tr th {\n",
       "        vertical-align: top;\n",
       "    }\n",
       "\n",
       "    .dataframe thead th {\n",
       "        text-align: right;\n",
       "    }\n",
       "</style>\n",
       "<table border=\"1\" class=\"dataframe\">\n",
       "  <thead>\n",
       "    <tr style=\"text-align: right;\">\n",
       "      <th>Loan_Status</th>\n",
       "      <th>N</th>\n",
       "      <th>Y</th>\n",
       "    </tr>\n",
       "    <tr>\n",
       "      <th>Education</th>\n",
       "      <th></th>\n",
       "      <th></th>\n",
       "    </tr>\n",
       "  </thead>\n",
       "  <tbody>\n",
       "    <tr>\n",
       "      <th>Graduate</th>\n",
       "      <td>140</td>\n",
       "      <td>340</td>\n",
       "    </tr>\n",
       "    <tr>\n",
       "      <th>Not Graduate</th>\n",
       "      <td>52</td>\n",
       "      <td>82</td>\n",
       "    </tr>\n",
       "  </tbody>\n",
       "</table>\n",
       "</div>"
      ],
      "text/plain": [
       "Loan_Status     N    Y\n",
       "Education             \n",
       "Graduate      140  340\n",
       "Not Graduate   52   82"
      ]
     },
     "execution_count": 18,
     "metadata": {},
     "output_type": "execute_result"
    }
   ],
   "source": [
    "pd.crosstab(train['Education'],train['Loan_Status'])"
   ]
  },
  {
   "cell_type": "code",
   "execution_count": 19,
   "metadata": {},
   "outputs": [
    {
     "data": {
      "text/html": [
       "<div>\n",
       "<style scoped>\n",
       "    .dataframe tbody tr th:only-of-type {\n",
       "        vertical-align: middle;\n",
       "    }\n",
       "\n",
       "    .dataframe tbody tr th {\n",
       "        vertical-align: top;\n",
       "    }\n",
       "\n",
       "    .dataframe thead th {\n",
       "        text-align: right;\n",
       "    }\n",
       "</style>\n",
       "<table border=\"1\" class=\"dataframe\">\n",
       "  <thead>\n",
       "    <tr style=\"text-align: right;\">\n",
       "      <th>Loan_Status</th>\n",
       "      <th>N</th>\n",
       "      <th>Y</th>\n",
       "    </tr>\n",
       "    <tr>\n",
       "      <th>Property_Area</th>\n",
       "      <th></th>\n",
       "      <th></th>\n",
       "    </tr>\n",
       "  </thead>\n",
       "  <tbody>\n",
       "    <tr>\n",
       "      <th>Rural</th>\n",
       "      <td>69</td>\n",
       "      <td>110</td>\n",
       "    </tr>\n",
       "    <tr>\n",
       "      <th>Semiurban</th>\n",
       "      <td>54</td>\n",
       "      <td>179</td>\n",
       "    </tr>\n",
       "    <tr>\n",
       "      <th>Urban</th>\n",
       "      <td>69</td>\n",
       "      <td>133</td>\n",
       "    </tr>\n",
       "  </tbody>\n",
       "</table>\n",
       "</div>"
      ],
      "text/plain": [
       "Loan_Status     N    Y\n",
       "Property_Area         \n",
       "Rural          69  110\n",
       "Semiurban      54  179\n",
       "Urban          69  133"
      ]
     },
     "execution_count": 19,
     "metadata": {},
     "output_type": "execute_result"
    }
   ],
   "source": [
    "pd.crosstab(train['Property_Area'],train['Loan_Status'])"
   ]
  },
  {
   "cell_type": "code",
   "execution_count": 20,
   "metadata": {},
   "outputs": [
    {
     "data": {
      "text/html": [
       "<div>\n",
       "<style scoped>\n",
       "    .dataframe tbody tr th:only-of-type {\n",
       "        vertical-align: middle;\n",
       "    }\n",
       "\n",
       "    .dataframe tbody tr th {\n",
       "        vertical-align: top;\n",
       "    }\n",
       "\n",
       "    .dataframe thead th {\n",
       "        text-align: right;\n",
       "    }\n",
       "</style>\n",
       "<table border=\"1\" class=\"dataframe\">\n",
       "  <thead>\n",
       "    <tr style=\"text-align: right;\">\n",
       "      <th>Loan_Status</th>\n",
       "      <th>N</th>\n",
       "      <th>Y</th>\n",
       "    </tr>\n",
       "    <tr>\n",
       "      <th>ApplicantIncome</th>\n",
       "      <th></th>\n",
       "      <th></th>\n",
       "    </tr>\n",
       "  </thead>\n",
       "  <tbody>\n",
       "    <tr>\n",
       "      <th>150</th>\n",
       "      <td>1</td>\n",
       "      <td>0</td>\n",
       "    </tr>\n",
       "    <tr>\n",
       "      <th>210</th>\n",
       "      <td>0</td>\n",
       "      <td>1</td>\n",
       "    </tr>\n",
       "    <tr>\n",
       "      <th>416</th>\n",
       "      <td>1</td>\n",
       "      <td>0</td>\n",
       "    </tr>\n",
       "    <tr>\n",
       "      <th>645</th>\n",
       "      <td>0</td>\n",
       "      <td>1</td>\n",
       "    </tr>\n",
       "    <tr>\n",
       "      <th>674</th>\n",
       "      <td>0</td>\n",
       "      <td>1</td>\n",
       "    </tr>\n",
       "    <tr>\n",
       "      <th>...</th>\n",
       "      <td>...</td>\n",
       "      <td>...</td>\n",
       "    </tr>\n",
       "    <tr>\n",
       "      <th>39147</th>\n",
       "      <td>0</td>\n",
       "      <td>1</td>\n",
       "    </tr>\n",
       "    <tr>\n",
       "      <th>39999</th>\n",
       "      <td>0</td>\n",
       "      <td>1</td>\n",
       "    </tr>\n",
       "    <tr>\n",
       "      <th>51763</th>\n",
       "      <td>0</td>\n",
       "      <td>1</td>\n",
       "    </tr>\n",
       "    <tr>\n",
       "      <th>63337</th>\n",
       "      <td>0</td>\n",
       "      <td>1</td>\n",
       "    </tr>\n",
       "    <tr>\n",
       "      <th>81000</th>\n",
       "      <td>1</td>\n",
       "      <td>0</td>\n",
       "    </tr>\n",
       "  </tbody>\n",
       "</table>\n",
       "<p>505 rows × 2 columns</p>\n",
       "</div>"
      ],
      "text/plain": [
       "Loan_Status      N  Y\n",
       "ApplicantIncome      \n",
       "150              1  0\n",
       "210              0  1\n",
       "416              1  0\n",
       "645              0  1\n",
       "674              0  1\n",
       "...             .. ..\n",
       "39147            0  1\n",
       "39999            0  1\n",
       "51763            0  1\n",
       "63337            0  1\n",
       "81000            1  0\n",
       "\n",
       "[505 rows x 2 columns]"
      ]
     },
     "execution_count": 20,
     "metadata": {},
     "output_type": "execute_result"
    }
   ],
   "source": [
    "pd.crosstab(train['ApplicantIncome'],train['Loan_Status'])"
   ]
  },
  {
   "cell_type": "code",
   "execution_count": 21,
   "metadata": {},
   "outputs": [
    {
     "data": {
      "text/plain": [
       "505"
      ]
     },
     "execution_count": 21,
     "metadata": {},
     "output_type": "execute_result"
    }
   ],
   "source": [
    "train['ApplicantIncome'].nunique()"
   ]
  },
  {
   "cell_type": "code",
   "execution_count": 22,
   "metadata": {},
   "outputs": [],
   "source": [
    "import seaborn as sns"
   ]
  },
  {
   "cell_type": "code",
   "execution_count": 23,
   "metadata": {},
   "outputs": [
    {
     "data": {
      "text/plain": [
       "<matplotlib.axes._subplots.AxesSubplot at 0x25fff99f208>"
      ]
     },
     "execution_count": 23,
     "metadata": {},
     "output_type": "execute_result"
    },
    {
     "data": {
      "image/png": "[encoded data removed]",
      "text/plain": [
       "<Figure size 432x288 with 1 Axes>"
      ]
     },
     "metadata": {
      "needs_background": "light"
     },
     "output_type": "display_data"
    }
   ],
   "source": [
    "sns.distplot(train['ApplicantIncome'])"
   ]
  },
  {
   "cell_type": "code",
   "execution_count": 24,
   "metadata": {},
   "outputs": [
    {
     "data": {
      "text/plain": [
       "Loan_ID               0\n",
       "Gender               13\n",
       "Married               3\n",
       "Dependents           15\n",
       "Education             0\n",
       "Self_Employed        32\n",
       "ApplicantIncome       0\n",
       "CoapplicantIncome     0\n",
       "LoanAmount           22\n",
       "Loan_Amount_Term     14\n",
       "Credit_History       50\n",
       "Property_Area         0\n",
       "Loan_Status           0\n",
       "dtype: int64"
      ]
     },
     "execution_count": 24,
     "metadata": {},
     "output_type": "execute_result"
    }
   ],
   "source": [
    "train.isna().sum()"
   ]
  },
  {
   "cell_type": "code",
   "execution_count": 29,
   "metadata": {},
   "outputs": [
    {
     "data": {
      "text/plain": [
       "1.0    475\n",
       "0.0     89\n",
       "Name: Credit_History, dtype: int64"
      ]
     },
     "execution_count": 29,
     "metadata": {},
     "output_type": "execute_result"
    }
   ],
   "source": [
    "train['Credit_History'].value_counts()"
   ]
  },
  {
   "cell_type": "code",
   "execution_count": 26,
   "metadata": {},
   "outputs": [
    {
     "data": {
      "text/html": [
       "<div>\n",
       "<style scoped>\n",
       "    .dataframe tbody tr th:only-of-type {\n",
       "        vertical-align: middle;\n",
       "    }\n",
       "\n",
       "    .dataframe tbody tr th {\n",
       "        vertical-align: top;\n",
       "    }\n",
       "\n",
       "    .dataframe thead th {\n",
       "        text-align: right;\n",
       "    }\n",
       "</style>\n",
       "<table border=\"1\" class=\"dataframe\">\n",
       "  <thead>\n",
       "    <tr style=\"text-align: right;\">\n",
       "      <th>Loan_Status</th>\n",
       "      <th>N</th>\n",
       "      <th>Y</th>\n",
       "    </tr>\n",
       "    <tr>\n",
       "      <th>Credit_History</th>\n",
       "      <th></th>\n",
       "      <th></th>\n",
       "    </tr>\n",
       "  </thead>\n",
       "  <tbody>\n",
       "    <tr>\n",
       "      <th>0.0</th>\n",
       "      <td>82</td>\n",
       "      <td>7</td>\n",
       "    </tr>\n",
       "    <tr>\n",
       "      <th>1.0</th>\n",
       "      <td>97</td>\n",
       "      <td>378</td>\n",
       "    </tr>\n",
       "  </tbody>\n",
       "</table>\n",
       "</div>"
      ],
      "text/plain": [
       "Loan_Status      N    Y\n",
       "Credit_History         \n",
       "0.0             82    7\n",
       "1.0             97  378"
      ]
     },
     "execution_count": 26,
     "metadata": {},
     "output_type": "execute_result"
    }
   ],
   "source": [
    "pd.crosstab(train['Credit_History'],train['Loan_Status'])"
   ]
  },
  {
   "cell_type": "code",
   "execution_count": 28,
   "metadata": {},
   "outputs": [
    {
     "data": {
      "text/plain": [
       "<matplotlib.axes._subplots.AxesSubplot at 0x25fffaadf48>"
      ]
     },
     "execution_count": 28,
     "metadata": {},
     "output_type": "execute_result"
    },
    {
     "data": {
      "image/png": "[encoded data removed]",
      "text/plain": [
       "<Figure size 432x288 with 1 Axes>"
      ]
     },
     "metadata": {
      "needs_background": "light"
     },
     "output_type": "display_data"
    }
   ],
   "source": [
    "pd.crosstab(train['Credit_History'],train['Loan_Status']).plot(kind='bar')"
   ]
  },
  {
   "cell_type": "code",
   "execution_count": 30,
   "metadata": {},
   "outputs": [],
   "source": [
    "train['Credit_History'].fillna(1, inplace=True)"
   ]
  },
  {
   "cell_type": "code",
   "execution_count": 31,
   "metadata": {},
   "outputs": [
    {
     "data": {
      "text/plain": [
       "<matplotlib.axes._subplots.AxesSubplot at 0x25fffb17508>"
      ]
     },
     "execution_count": 31,
     "metadata": {},
     "output_type": "execute_result"
    },
    {
     "data": {
      "image/png": "[encoded data removed]",
      "text/plain": [
       "<Figure size 432x288 with 1 Axes>"
      ]
     },
     "metadata": {
      "needs_background": "light"
     },
     "output_type": "display_data"
    }
   ],
   "source": [
    "pd.crosstab(train['Credit_History'],train['Loan_Status']).plot(kind='bar')"
   ]
  },
  {
   "cell_type": "code",
   "execution_count": 34,
   "metadata": {},
   "outputs": [
    {
     "data": {
      "text/plain": [
       "0     345\n",
       "1     102\n",
       "2     101\n",
       "3+     51\n",
       "Name: Dependents, dtype: int64"
      ]
     },
     "execution_count": 34,
     "metadata": {},
     "output_type": "execute_result"
    }
   ],
   "source": [
    "train['Dependents'].value_counts()"
   ]
  },
  {
   "cell_type": "code",
   "execution_count": 35,
   "metadata": {},
   "outputs": [
    {
     "data": {
      "text/html": [
       "<div>\n",
       "<style scoped>\n",
       "    .dataframe tbody tr th:only-of-type {\n",
       "        vertical-align: middle;\n",
       "    }\n",
       "\n",
       "    .dataframe tbody tr th {\n",
       "        vertical-align: top;\n",
       "    }\n",
       "\n",
       "    .dataframe thead th {\n",
       "        text-align: right;\n",
       "    }\n",
       "</style>\n",
       "<table border=\"1\" class=\"dataframe\">\n",
       "  <thead>\n",
       "    <tr style=\"text-align: right;\">\n",
       "      <th>Loan_Status</th>\n",
       "      <th>N</th>\n",
       "      <th>Y</th>\n",
       "    </tr>\n",
       "    <tr>\n",
       "      <th>Dependents</th>\n",
       "      <th></th>\n",
       "      <th></th>\n",
       "    </tr>\n",
       "  </thead>\n",
       "  <tbody>\n",
       "    <tr>\n",
       "      <th>0</th>\n",
       "      <td>107</td>\n",
       "      <td>238</td>\n",
       "    </tr>\n",
       "    <tr>\n",
       "      <th>1</th>\n",
       "      <td>36</td>\n",
       "      <td>66</td>\n",
       "    </tr>\n",
       "    <tr>\n",
       "      <th>2</th>\n",
       "      <td>25</td>\n",
       "      <td>76</td>\n",
       "    </tr>\n",
       "    <tr>\n",
       "      <th>3+</th>\n",
       "      <td>18</td>\n",
       "      <td>33</td>\n",
       "    </tr>\n",
       "  </tbody>\n",
       "</table>\n",
       "</div>"
      ],
      "text/plain": [
       "Loan_Status    N    Y\n",
       "Dependents           \n",
       "0            107  238\n",
       "1             36   66\n",
       "2             25   76\n",
       "3+            18   33"
      ]
     },
     "execution_count": 35,
     "metadata": {},
     "output_type": "execute_result"
    }
   ],
   "source": [
    "pd.crosstab(train['Dependents'],train['Loan_Status'])"
   ]
  },
  {
   "cell_type": "code",
   "execution_count": 36,
   "metadata": {},
   "outputs": [],
   "source": [
    "train['Dependents'].fillna(0, inplace=True)"
   ]
  },
  {
   "cell_type": "code",
   "execution_count": 38,
   "metadata": {},
   "outputs": [
    {
     "data": {
      "text/plain": [
       "No     500\n",
       "Yes     82\n",
       "Name: Self_Employed, dtype: int64"
      ]
     },
     "execution_count": 38,
     "metadata": {},
     "output_type": "execute_result"
    }
   ],
   "source": [
    "train['Self_Employed'].value_counts()"
   ]
  },
  {
   "cell_type": "code",
   "execution_count": 39,
   "metadata": {},
   "outputs": [],
   "source": [
    "train['Self_Employed'].fillna('No', inplace=True)"
   ]
  },
  {
   "cell_type": "code",
   "execution_count": 42,
   "metadata": {},
   "outputs": [
    {
     "data": {
      "text/plain": [
       "<matplotlib.axes._subplots.AxesSubplot at 0x25fffbd8348>"
      ]
     },
     "execution_count": 42,
     "metadata": {},
     "output_type": "execute_result"
    },
    {
     "data": {
      "image/png": "[encoded data removed]",
      "text/plain": [
       "<Figure size 432x288 with 1 Axes>"
      ]
     },
     "metadata": {
      "needs_background": "light"
     },
     "output_type": "display_data"
    }
   ],
   "source": [
    "train['LoanAmount'].value_counts().plot(kind='bar')"
   ]
  },
  {
   "cell_type": "code",
   "execution_count": 43,
   "metadata": {},
   "outputs": [
    {
     "data": {
      "text/plain": [
       "(146.41216216216216,\n",
       " 128.0,\n",
       " 0    120.0\n",
       " dtype: float64)"
      ]
     },
     "execution_count": 43,
     "metadata": {},
     "output_type": "execute_result"
    }
   ],
   "source": [
    "train['LoanAmount'].mean(), train['LoanAmount'].median(), train['LoanAmount'].mode()"
   ]
  },
  {
   "cell_type": "code",
   "execution_count": 44,
   "metadata": {},
   "outputs": [],
   "source": [
    "train['LoanAmount'].fillna(train['LoanAmount'].median(), inplace=True)"
   ]
  },
  {
   "cell_type": "code",
   "execution_count": 46,
   "metadata": {},
   "outputs": [
    {
     "data": {
      "text/plain": [
       "360.0    512\n",
       "180.0     44\n",
       "480.0     15\n",
       "300.0     13\n",
       "84.0       4\n",
       "240.0      4\n",
       "120.0      3\n",
       "36.0       2\n",
       "60.0       2\n",
       "12.0       1\n",
       "Name: Loan_Amount_Term, dtype: int64"
      ]
     },
     "execution_count": 46,
     "metadata": {},
     "output_type": "execute_result"
    }
   ],
   "source": [
    "train['Loan_Amount_Term'].value_counts()"
   ]
  },
  {
   "cell_type": "code",
   "execution_count": 47,
   "metadata": {},
   "outputs": [
    {
     "data": {
      "text/plain": [
       "(342.0,\n",
       " 360.0,\n",
       " 0    360.0\n",
       " dtype: float64)"
      ]
     },
     "execution_count": 47,
     "metadata": {},
     "output_type": "execute_result"
    }
   ],
   "source": [
    "train['Loan_Amount_Term'].mean(), train['Loan_Amount_Term'].median(), train['Loan_Amount_Term'].mode()"
   ]
  },
  {
   "cell_type": "code",
   "execution_count": 48,
   "metadata": {},
   "outputs": [],
   "source": [
    "train['Loan_Amount_Term'].fillna(train['Loan_Amount_Term'].median(), inplace=True)"
   ]
  },
  {
   "cell_type": "code",
   "execution_count": 50,
   "metadata": {},
   "outputs": [
    {
     "data": {
      "text/plain": [
       "1.0    525\n",
       "0.0     89\n",
       "Name: Credit_History, dtype: int64"
      ]
     },
     "execution_count": 50,
     "metadata": {},
     "output_type": "execute_result"
    }
   ],
   "source": [
    "train['Credit_History'].value_counts()"
   ]
  },
  {
   "cell_type": "code",
   "execution_count": 51,
   "metadata": {},
   "outputs": [],
   "source": [
    "train['Credit_History'].fillna(1.0, inplace=True)"
   ]
  },
  {
   "cell_type": "code",
   "execution_count": 52,
   "metadata": {},
   "outputs": [
    {
     "data": {
      "text/plain": [
       "Loan_ID               0\n",
       "Gender               13\n",
       "Married               3\n",
       "Dependents            0\n",
       "Education             0\n",
       "Self_Employed         0\n",
       "ApplicantIncome       0\n",
       "CoapplicantIncome     0\n",
       "LoanAmount            0\n",
       "Loan_Amount_Term      0\n",
       "Credit_History        0\n",
       "Property_Area         0\n",
       "Loan_Status           0\n",
       "dtype: int64"
      ]
     },
     "execution_count": 52,
     "metadata": {},
     "output_type": "execute_result"
    }
   ],
   "source": [
    "train.isna().sum()"
   ]
  },
  {
   "cell_type": "code",
   "execution_count": 53,
   "metadata": {},
   "outputs": [
    {
     "data": {
      "text/html": [
       "<div>\n",
       "<style scoped>\n",
       "    .dataframe tbody tr th:only-of-type {\n",
       "        vertical-align: middle;\n",
       "    }\n",
       "\n",
       "    .dataframe tbody tr th {\n",
       "        vertical-align: top;\n",
       "    }\n",
       "\n",
       "    .dataframe thead th {\n",
       "        text-align: right;\n",
       "    }\n",
       "</style>\n",
       "<table border=\"1\" class=\"dataframe\">\n",
       "  <thead>\n",
       "    <tr style=\"text-align: right;\">\n",
       "      <th></th>\n",
       "      <th>ApplicantIncome</th>\n",
       "      <th>CoapplicantIncome</th>\n",
       "      <th>LoanAmount</th>\n",
       "      <th>Loan_Amount_Term</th>\n",
       "      <th>Credit_History</th>\n",
       "    </tr>\n",
       "  </thead>\n",
       "  <tbody>\n",
       "    <tr>\n",
       "      <th>count</th>\n",
       "      <td>614.000000</td>\n",
       "      <td>614.000000</td>\n",
       "      <td>614.000000</td>\n",
       "      <td>614.000000</td>\n",
       "      <td>614.000000</td>\n",
       "    </tr>\n",
       "    <tr>\n",
       "      <th>mean</th>\n",
       "      <td>5403.459283</td>\n",
       "      <td>1621.245798</td>\n",
       "      <td>145.752443</td>\n",
       "      <td>342.410423</td>\n",
       "      <td>0.855049</td>\n",
       "    </tr>\n",
       "    <tr>\n",
       "      <th>std</th>\n",
       "      <td>6109.041673</td>\n",
       "      <td>2926.248369</td>\n",
       "      <td>84.107233</td>\n",
       "      <td>64.428629</td>\n",
       "      <td>0.352339</td>\n",
       "    </tr>\n",
       "    <tr>\n",
       "      <th>min</th>\n",
       "      <td>150.000000</td>\n",
       "      <td>0.000000</td>\n",
       "      <td>9.000000</td>\n",
       "      <td>12.000000</td>\n",
       "      <td>0.000000</td>\n",
       "    </tr>\n",
       "    <tr>\n",
       "      <th>25%</th>\n",
       "      <td>2877.500000</td>\n",
       "      <td>0.000000</td>\n",
       "      <td>100.250000</td>\n",
       "      <td>360.000000</td>\n",
       "      <td>1.000000</td>\n",
       "    </tr>\n",
       "    <tr>\n",
       "      <th>50%</th>\n",
       "      <td>3812.500000</td>\n",
       "      <td>1188.500000</td>\n",
       "      <td>128.000000</td>\n",
       "      <td>360.000000</td>\n",
       "      <td>1.000000</td>\n",
       "    </tr>\n",
       "    <tr>\n",
       "      <th>75%</th>\n",
       "      <td>5795.000000</td>\n",
       "      <td>2297.250000</td>\n",
       "      <td>164.750000</td>\n",
       "      <td>360.000000</td>\n",
       "      <td>1.000000</td>\n",
       "    </tr>\n",
       "    <tr>\n",
       "      <th>max</th>\n",
       "      <td>81000.000000</td>\n",
       "      <td>41667.000000</td>\n",
       "      <td>700.000000</td>\n",
       "      <td>480.000000</td>\n",
       "      <td>1.000000</td>\n",
       "    </tr>\n",
       "  </tbody>\n",
       "</table>\n",
       "</div>"
      ],
      "text/plain": [
       "       ApplicantIncome  CoapplicantIncome  LoanAmount  Loan_Amount_Term  \\\n",
       "count       614.000000         614.000000  614.000000        614.000000   \n",
       "mean       5403.459283        1621.245798  145.752443        342.410423   \n",
       "std        6109.041673        2926.248369   84.107233         64.428629   \n",
       "min         150.000000           0.000000    9.000000         12.000000   \n",
       "25%        2877.500000           0.000000  100.250000        360.000000   \n",
       "50%        3812.500000        1188.500000  128.000000        360.000000   \n",
       "75%        5795.000000        2297.250000  164.750000        360.000000   \n",
       "max       81000.000000       41667.000000  700.000000        480.000000   \n",
       "\n",
       "       Credit_History  \n",
       "count      614.000000  \n",
       "mean         0.855049  \n",
       "std          0.352339  \n",
       "min          0.000000  \n",
       "25%          1.000000  \n",
       "50%          1.000000  \n",
       "75%          1.000000  \n",
       "max          1.000000  "
      ]
     },
     "execution_count": 53,
     "metadata": {},
     "output_type": "execute_result"
    }
   ],
   "source": [
    "train.describe()"
   ]
  },
  {
   "cell_type": "code",
   "execution_count": 54,
   "metadata": {},
   "outputs": [
    {
     "data": {
      "text/plain": [
       "1.0    525\n",
       "0.0     89\n",
       "Name: Credit_History, dtype: int64"
      ]
     },
     "execution_count": 54,
     "metadata": {},
     "output_type": "execute_result"
    }
   ],
   "source": [
    "train['Credit_History'].value_counts()"
   ]
  },
  {
   "cell_type": "code",
   "execution_count": 56,
   "metadata": {},
   "outputs": [
    {
     "data": {
      "text/plain": [
       "<matplotlib.axes._subplots.AxesSubplot at 0x25ffffdbdc8>"
      ]
     },
     "execution_count": 56,
     "metadata": {},
     "output_type": "execute_result"
    },
    {
     "data": {
      "image/png": "[encoded data removed]",
      "text/plain": [
       "<Figure size 432x288 with 1 Axes>"
      ]
     },
     "metadata": {
      "needs_background": "light"
     },
     "output_type": "display_data"
    }
   ],
   "source": [
    "train['Property_Area'].value_counts().plot(kind='bar')"
   ]
  },
  {
   "cell_type": "code",
   "execution_count": 58,
   "metadata": {},
   "outputs": [
    {
     "data": {
      "text/plain": [
       "Yes    398\n",
       "No     213\n",
       "Name: Married, dtype: int64"
      ]
     },
     "execution_count": 58,
     "metadata": {},
     "output_type": "execute_result"
    }
   ],
   "source": [
    "train['Married'].value_counts()"
   ]
  },
  {
   "cell_type": "code",
   "execution_count": 59,
   "metadata": {},
   "outputs": [],
   "source": [
    "train['Married'].fillna('Yes', inplace=True)"
   ]
  },
  {
   "cell_type": "code",
   "execution_count": 61,
   "metadata": {},
   "outputs": [
    {
     "data": {
      "text/plain": [
       "13"
      ]
     },
     "execution_count": 61,
     "metadata": {},
     "output_type": "execute_result"
    }
   ],
   "source": [
    "train['Gender'].isna().sum()"
   ]
  },
  {
   "cell_type": "code",
   "execution_count": 62,
   "metadata": {},
   "outputs": [
    {
     "data": {
      "text/plain": [
       "Male      489\n",
       "Female    112\n",
       "Name: Gender, dtype: int64"
      ]
     },
     "execution_count": 62,
     "metadata": {},
     "output_type": "execute_result"
    }
   ],
   "source": [
    "train['Gender'].value_counts()"
   ]
  },
  {
   "cell_type": "code",
   "execution_count": 63,
   "metadata": {},
   "outputs": [],
   "source": [
    "train['Gender'].fillna('Male', inplace=True)"
   ]
  },
  {
   "cell_type": "code",
   "execution_count": 64,
   "metadata": {},
   "outputs": [
    {
     "data": {
      "text/plain": [
       "Loan_ID              0\n",
       "Gender               0\n",
       "Married              0\n",
       "Dependents           0\n",
       "Education            0\n",
       "Self_Employed        0\n",
       "ApplicantIncome      0\n",
       "CoapplicantIncome    0\n",
       "LoanAmount           0\n",
       "Loan_Amount_Term     0\n",
       "Credit_History       0\n",
       "Property_Area        0\n",
       "Loan_Status          0\n",
       "dtype: int64"
      ]
     },
     "execution_count": 64,
     "metadata": {},
     "output_type": "execute_result"
    }
   ],
   "source": [
    "train.isna().sum()"
   ]
  },
  {
   "cell_type": "code",
   "execution_count": 65,
   "metadata": {},
   "outputs": [
    {
     "name": "stdout",
     "output_type": "stream",
     "text": [
      "<class 'pandas.core.frame.DataFrame'>\n",
      "RangeIndex: 614 entries, 0 to 613\n",
      "Data columns (total 13 columns):\n",
      " #   Column             Non-Null Count  Dtype  \n",
      "---  ------             --------------  -----  \n",
      " 0   Loan_ID            614 non-null    object \n",
      " 1   Gender             614 non-null    object \n",
      " 2   Married            614 non-null    object \n",
      " 3   Dependents         614 non-null    object \n",
      " 4   Education          614 non-null    object \n",
      " 5   Self_Employed      614 non-null    object \n",
      " 6   ApplicantIncome    614 non-null    int64  \n",
      " 7   CoapplicantIncome  614 non-null    float64\n",
      " 8   LoanAmount         614 non-null    float64\n",
      " 9   Loan_Amount_Term   614 non-null    float64\n",
      " 10  Credit_History     614 non-null    float64\n",
      " 11  Property_Area      614 non-null    object \n",
      " 12  Loan_Status        614 non-null    object \n",
      "dtypes: float64(4), int64(1), object(8)\n",
      "memory usage: 62.5+ KB\n"
     ]
    }
   ],
   "source": [
    "train.info()"
   ]
  },
  {
   "cell_type": "code",
   "execution_count": 66,
   "metadata": {},
   "outputs": [
    {
     "data": {
      "text/html": [
       "<div>\n",
       "<style scoped>\n",
       "    .dataframe tbody tr th:only-of-type {\n",
       "        vertical-align: middle;\n",
       "    }\n",
       "\n",
       "    .dataframe tbody tr th {\n",
       "        vertical-align: top;\n",
       "    }\n",
       "\n",
       "    .dataframe thead th {\n",
       "        text-align: right;\n",
       "    }\n",
       "</style>\n",
       "<table border=\"1\" class=\"dataframe\">\n",
       "  <thead>\n",
       "    <tr style=\"text-align: right;\">\n",
       "      <th></th>\n",
       "      <th>ApplicantIncome</th>\n",
       "      <th>CoapplicantIncome</th>\n",
       "      <th>LoanAmount</th>\n",
       "      <th>Loan_Amount_Term</th>\n",
       "      <th>Credit_History</th>\n",
       "    </tr>\n",
       "  </thead>\n",
       "  <tbody>\n",
       "    <tr>\n",
       "      <th>count</th>\n",
       "      <td>614.000000</td>\n",
       "      <td>614.000000</td>\n",
       "      <td>614.000000</td>\n",
       "      <td>614.000000</td>\n",
       "      <td>614.000000</td>\n",
       "    </tr>\n",
       "    <tr>\n",
       "      <th>mean</th>\n",
       "      <td>5403.459283</td>\n",
       "      <td>1621.245798</td>\n",
       "      <td>145.752443</td>\n",
       "      <td>342.410423</td>\n",
       "      <td>0.855049</td>\n",
       "    </tr>\n",
       "    <tr>\n",
       "      <th>std</th>\n",
       "      <td>6109.041673</td>\n",
       "      <td>2926.248369</td>\n",
       "      <td>84.107233</td>\n",
       "      <td>64.428629</td>\n",
       "      <td>0.352339</td>\n",
       "    </tr>\n",
       "    <tr>\n",
       "      <th>min</th>\n",
       "      <td>150.000000</td>\n",
       "      <td>0.000000</td>\n",
       "      <td>9.000000</td>\n",
       "      <td>12.000000</td>\n",
       "      <td>0.000000</td>\n",
       "    </tr>\n",
       "    <tr>\n",
       "      <th>25%</th>\n",
       "      <td>2877.500000</td>\n",
       "      <td>0.000000</td>\n",
       "      <td>100.250000</td>\n",
       "      <td>360.000000</td>\n",
       "      <td>1.000000</td>\n",
       "    </tr>\n",
       "    <tr>\n",
       "      <th>50%</th>\n",
       "      <td>3812.500000</td>\n",
       "      <td>1188.500000</td>\n",
       "      <td>128.000000</td>\n",
       "      <td>360.000000</td>\n",
       "      <td>1.000000</td>\n",
       "    </tr>\n",
       "    <tr>\n",
       "      <th>75%</th>\n",
       "      <td>5795.000000</td>\n",
       "      <td>2297.250000</td>\n",
       "      <td>164.750000</td>\n",
       "      <td>360.000000</td>\n",
       "      <td>1.000000</td>\n",
       "    </tr>\n",
       "    <tr>\n",
       "      <th>max</th>\n",
       "      <td>81000.000000</td>\n",
       "      <td>41667.000000</td>\n",
       "      <td>700.000000</td>\n",
       "      <td>480.000000</td>\n",
       "      <td>1.000000</td>\n",
       "    </tr>\n",
       "  </tbody>\n",
       "</table>\n",
       "</div>"
      ],
      "text/plain": [
       "       ApplicantIncome  CoapplicantIncome  LoanAmount  Loan_Amount_Term  \\\n",
       "count       614.000000         614.000000  614.000000        614.000000   \n",
       "mean       5403.459283        1621.245798  145.752443        342.410423   \n",
       "std        6109.041673        2926.248369   84.107233         64.428629   \n",
       "min         150.000000           0.000000    9.000000         12.000000   \n",
       "25%        2877.500000           0.000000  100.250000        360.000000   \n",
       "50%        3812.500000        1188.500000  128.000000        360.000000   \n",
       "75%        5795.000000        2297.250000  164.750000        360.000000   \n",
       "max       81000.000000       41667.000000  700.000000        480.000000   \n",
       "\n",
       "       Credit_History  \n",
       "count      614.000000  \n",
       "mean         0.855049  \n",
       "std          0.352339  \n",
       "min          0.000000  \n",
       "25%          1.000000  \n",
       "50%          1.000000  \n",
       "75%          1.000000  \n",
       "max          1.000000  "
      ]
     },
     "execution_count": 66,
     "metadata": {},
     "output_type": "execute_result"
    }
   ],
   "source": [
    "train.describe()"
   ]
  },
  {
   "cell_type": "code",
   "execution_count": 67,
   "metadata": {},
   "outputs": [],
   "source": [
    "from sklearn.model_selection import train_test_split"
   ]
  },
  {
   "cell_type": "code",
   "execution_count": 89,
   "metadata": {},
   "outputs": [],
   "source": [
    "X = train.drop('Loan_Status', axis=1)\n",
    "y = train['Loan_Status']\n",
    "\n",
    "X = pd.get_dummies(X)\n",
    "y = pd.get_dummies(y)\n"
   ]
  },
  {
   "cell_type": "code",
   "execution_count": 94,
   "metadata": {},
   "outputs": [],
   "source": [
    "X = X.drop('Dependents_0', axis=1)"
   ]
  },
  {
   "cell_type": "code",
   "execution_count": 95,
   "metadata": {},
   "outputs": [],
   "source": [
    "X_train, X_val, y_train, y_val = train_test_split(X, y, test_size=0.2)"
   ]
  },
  {
   "cell_type": "code",
   "execution_count": 99,
   "metadata": {},
   "outputs": [],
   "source": [
    "from sklearn.ensemble import RandomForestClassifier"
   ]
  },
  {
   "cell_type": "code",
   "execution_count": 100,
   "metadata": {},
   "outputs": [],
   "source": [
    "model = RandomForestClassifier()"
   ]
  },
  {
   "cell_type": "code",
   "execution_count": 101,
   "metadata": {},
   "outputs": [
    {
     "data": {
      "text/plain": [
       "RandomForestClassifier(bootstrap=True, ccp_alpha=0.0, class_weight=None,\n",
       "                       criterion='gini', max_depth=None, max_features='auto',\n",
       "                       max_leaf_nodes=None, max_samples=None,\n",
       "                       min_impurity_decrease=0.0, min_impurity_split=None,\n",
       "                       min_samples_leaf=1, min_samples_split=2,\n",
       "                       min_weight_fraction_leaf=0.0, n_estimators=100,\n",
       "                       n_jobs=None, oob_score=False, random_state=None,\n",
       "                       verbose=0, warm_start=False)"
      ]
     },
     "execution_count": 101,
     "metadata": {},
     "output_type": "execute_result"
    }
   ],
   "source": [
    "model.fit(X_train, y_train)"
   ]
  },
  {
   "cell_type": "code",
   "execution_count": 103,
   "metadata": {},
   "outputs": [
    {
     "data": {
      "text/plain": [
       "1.0"
      ]
     },
     "execution_count": 103,
     "metadata": {},
     "output_type": "execute_result"
    }
   ],
   "source": [
    "model.score(X_train, y_train)"
   ]
  },
  {
   "cell_type": "code",
   "execution_count": 104,
   "metadata": {},
   "outputs": [
    {
     "data": {
      "text/plain": [
       "0.7560975609756098"
      ]
     },
     "execution_count": 104,
     "metadata": {},
     "output_type": "execute_result"
    }
   ],
   "source": [
    "model.score(X_val, y_val)"
   ]
  },
  {
   "cell_type": "code",
   "execution_count": 110,
   "metadata": {},
   "outputs": [
    {
     "data": {
      "text/html": [
       "<div>\n",
       "<style scoped>\n",
       "    .dataframe tbody tr th:only-of-type {\n",
       "        vertical-align: middle;\n",
       "    }\n",
       "\n",
       "    .dataframe tbody tr th {\n",
       "        vertical-align: top;\n",
       "    }\n",
       "\n",
       "    .dataframe thead th {\n",
       "        text-align: right;\n",
       "    }\n",
       "</style>\n",
       "<table border=\"1\" class=\"dataframe\">\n",
       "  <thead>\n",
       "    <tr style=\"text-align: right;\">\n",
       "      <th></th>\n",
       "      <th>Loan_ID</th>\n",
       "      <th>Gender</th>\n",
       "      <th>Married</th>\n",
       "      <th>Dependents</th>\n",
       "      <th>Education</th>\n",
       "      <th>Self_Employed</th>\n",
       "      <th>ApplicantIncome</th>\n",
       "      <th>CoapplicantIncome</th>\n",
       "      <th>LoanAmount</th>\n",
       "      <th>Loan_Amount_Term</th>\n",
       "      <th>Credit_History</th>\n",
       "      <th>Property_Area</th>\n",
       "    </tr>\n",
       "  </thead>\n",
       "  <tbody>\n",
       "    <tr>\n",
       "      <th>0</th>\n",
       "      <td>LP001015</td>\n",
       "      <td>Male</td>\n",
       "      <td>Yes</td>\n",
       "      <td>0</td>\n",
       "      <td>Graduate</td>\n",
       "      <td>No</td>\n",
       "      <td>5720</td>\n",
       "      <td>0</td>\n",
       "      <td>110.0</td>\n",
       "      <td>360.0</td>\n",
       "      <td>1.0</td>\n",
       "      <td>Urban</td>\n",
       "    </tr>\n",
       "    <tr>\n",
       "      <th>1</th>\n",
       "      <td>LP001022</td>\n",
       "      <td>Male</td>\n",
       "      <td>Yes</td>\n",
       "      <td>1</td>\n",
       "      <td>Graduate</td>\n",
       "      <td>No</td>\n",
       "      <td>3076</td>\n",
       "      <td>1500</td>\n",
       "      <td>126.0</td>\n",
       "      <td>360.0</td>\n",
       "      <td>1.0</td>\n",
       "      <td>Urban</td>\n",
       "    </tr>\n",
       "    <tr>\n",
       "      <th>2</th>\n",
       "      <td>LP001031</td>\n",
       "      <td>Male</td>\n",
       "      <td>Yes</td>\n",
       "      <td>2</td>\n",
       "      <td>Graduate</td>\n",
       "      <td>No</td>\n",
       "      <td>5000</td>\n",
       "      <td>1800</td>\n",
       "      <td>208.0</td>\n",
       "      <td>360.0</td>\n",
       "      <td>1.0</td>\n",
       "      <td>Urban</td>\n",
       "    </tr>\n",
       "    <tr>\n",
       "      <th>3</th>\n",
       "      <td>LP001035</td>\n",
       "      <td>Male</td>\n",
       "      <td>Yes</td>\n",
       "      <td>2</td>\n",
       "      <td>Graduate</td>\n",
       "      <td>No</td>\n",
       "      <td>2340</td>\n",
       "      <td>2546</td>\n",
       "      <td>100.0</td>\n",
       "      <td>360.0</td>\n",
       "      <td>NaN</td>\n",
       "      <td>Urban</td>\n",
       "    </tr>\n",
       "    <tr>\n",
       "      <th>4</th>\n",
       "      <td>LP001051</td>\n",
       "      <td>Male</td>\n",
       "      <td>No</td>\n",
       "      <td>0</td>\n",
       "      <td>Not Graduate</td>\n",
       "      <td>No</td>\n",
       "      <td>3276</td>\n",
       "      <td>0</td>\n",
       "      <td>78.0</td>\n",
       "      <td>360.0</td>\n",
       "      <td>1.0</td>\n",
       "      <td>Urban</td>\n",
       "    </tr>\n",
       "  </tbody>\n",
       "</table>\n",
       "</div>"
      ],
      "text/plain": [
       "    Loan_ID Gender Married Dependents     Education Self_Employed  \\\n",
       "0  LP001015   Male     Yes          0      Graduate            No   \n",
       "1  LP001022   Male     Yes          1      Graduate            No   \n",
       "2  LP001031   Male     Yes          2      Graduate            No   \n",
       "3  LP001035   Male     Yes          2      Graduate            No   \n",
       "4  LP001051   Male      No          0  Not Graduate            No   \n",
       "\n",
       "   ApplicantIncome  CoapplicantIncome  LoanAmount  Loan_Amount_Term  \\\n",
       "0             5720                  0       110.0             360.0   \n",
       "1             3076               1500       126.0             360.0   \n",
       "2             5000               1800       208.0             360.0   \n",
       "3             2340               2546       100.0             360.0   \n",
       "4             3276                  0        78.0             360.0   \n",
       "\n",
       "   Credit_History Property_Area  \n",
       "0             1.0         Urban  \n",
       "1             1.0         Urban  \n",
       "2             1.0         Urban  \n",
       "3             NaN         Urban  \n",
       "4             1.0         Urban  "
      ]
     },
     "execution_count": 110,
     "metadata": {},
     "output_type": "execute_result"
    }
   ],
   "source": [
    "test.head()"
   ]
  },
  {
   "cell_type": "code",
   "execution_count": 111,
   "metadata": {
    "scrolled": true
   },
   "outputs": [
    {
     "data": {
      "text/plain": [
       "Loan_ID               0\n",
       "Gender               11\n",
       "Married               0\n",
       "Dependents           10\n",
       "Education             0\n",
       "Self_Employed        23\n",
       "ApplicantIncome       0\n",
       "CoapplicantIncome     0\n",
       "LoanAmount            5\n",
       "Loan_Amount_Term      6\n",
       "Credit_History       29\n",
       "Property_Area         0\n",
       "dtype: int64"
      ]
     },
     "execution_count": 111,
     "metadata": {},
     "output_type": "execute_result"
    }
   ],
   "source": [
    "test.isna().sum()"
   ]
  },
  {
   "cell_type": "code",
   "execution_count": 112,
   "metadata": {},
   "outputs": [],
   "source": [
    "test['Gender'].fillna('Male', inplace=True)"
   ]
  },
  {
   "cell_type": "code",
   "execution_count": 113,
   "metadata": {},
   "outputs": [],
   "source": [
    "test['Dependents'].fillna(0, inplace=True)"
   ]
  },
  {
   "cell_type": "code",
   "execution_count": 114,
   "metadata": {},
   "outputs": [],
   "source": [
    "test['Self_Employed'].fillna('No', inplace=True)"
   ]
  },
  {
   "cell_type": "code",
   "execution_count": 115,
   "metadata": {},
   "outputs": [],
   "source": [
    "test['LoanAmount'].fillna(test['LoanAmount'].median(), inplace=True)"
   ]
  },
  {
   "cell_type": "code",
   "execution_count": 116,
   "metadata": {},
   "outputs": [],
   "source": [
    "test['Loan_Amount_Term'].fillna(test['Loan_Amount_Term'].median(), inplace=True)"
   ]
  },
  {
   "cell_type": "code",
   "execution_count": 117,
   "metadata": {},
   "outputs": [],
   "source": [
    "test['Credit_History'].fillna(1.0, inplace=True)"
   ]
  },
  {
   "cell_type": "code",
   "execution_count": 118,
   "metadata": {},
   "outputs": [
    {
     "data": {
      "text/plain": [
       "Loan_ID              0\n",
       "Gender               0\n",
       "Married              0\n",
       "Dependents           0\n",
       "Education            0\n",
       "Self_Employed        0\n",
       "ApplicantIncome      0\n",
       "CoapplicantIncome    0\n",
       "LoanAmount           0\n",
       "Loan_Amount_Term     0\n",
       "Credit_History       0\n",
       "Property_Area        0\n",
       "dtype: int64"
      ]
     },
     "execution_count": 118,
     "metadata": {},
     "output_type": "execute_result"
    }
   ],
   "source": [
    "test.isna().sum()"
   ]
  },
  {
   "cell_type": "code",
   "execution_count": 119,
   "metadata": {},
   "outputs": [],
   "source": [
    "X_test = pd.get_dummies(test)"
   ]
  },
  {
   "cell_type": "code",
   "execution_count": 120,
   "metadata": {},
   "outputs": [
    {
     "data": {
      "text/html": [
       "<div>\n",
       "<style scoped>\n",
       "    .dataframe tbody tr th:only-of-type {\n",
       "        vertical-align: middle;\n",
       "    }\n",
       "\n",
       "    .dataframe tbody tr th {\n",
       "        vertical-align: top;\n",
       "    }\n",
       "\n",
       "    .dataframe thead th {\n",
       "        text-align: right;\n",
       "    }\n",
       "</style>\n",
       "<table border=\"1\" class=\"dataframe\">\n",
       "  <thead>\n",
       "    <tr style=\"text-align: right;\">\n",
       "      <th></th>\n",
       "      <th>ApplicantIncome</th>\n",
       "      <th>CoapplicantIncome</th>\n",
       "      <th>LoanAmount</th>\n",
       "      <th>Loan_Amount_Term</th>\n",
       "      <th>Credit_History</th>\n",
       "      <th>Loan_ID_LP001015</th>\n",
       "      <th>Loan_ID_LP001022</th>\n",
       "      <th>Loan_ID_LP001031</th>\n",
       "      <th>Loan_ID_LP001035</th>\n",
       "      <th>Loan_ID_LP001051</th>\n",
       "      <th>...</th>\n",
       "      <th>Dependents_1</th>\n",
       "      <th>Dependents_2</th>\n",
       "      <th>Dependents_3+</th>\n",
       "      <th>Education_Graduate</th>\n",
       "      <th>Education_Not Graduate</th>\n",
       "      <th>Self_Employed_No</th>\n",
       "      <th>Self_Employed_Yes</th>\n",
       "      <th>Property_Area_Rural</th>\n",
       "      <th>Property_Area_Semiurban</th>\n",
       "      <th>Property_Area_Urban</th>\n",
       "    </tr>\n",
       "  </thead>\n",
       "  <tbody>\n",
       "    <tr>\n",
       "      <th>0</th>\n",
       "      <td>5720</td>\n",
       "      <td>0</td>\n",
       "      <td>110.0</td>\n",
       "      <td>360.0</td>\n",
       "      <td>1.0</td>\n",
       "      <td>1</td>\n",
       "      <td>0</td>\n",
       "      <td>0</td>\n",
       "      <td>0</td>\n",
       "      <td>0</td>\n",
       "      <td>...</td>\n",
       "      <td>0</td>\n",
       "      <td>0</td>\n",
       "      <td>0</td>\n",
       "      <td>1</td>\n",
       "      <td>0</td>\n",
       "      <td>1</td>\n",
       "      <td>0</td>\n",
       "      <td>0</td>\n",
       "      <td>0</td>\n",
       "      <td>1</td>\n",
       "    </tr>\n",
       "    <tr>\n",
       "      <th>1</th>\n",
       "      <td>3076</td>\n",
       "      <td>1500</td>\n",
       "      <td>126.0</td>\n",
       "      <td>360.0</td>\n",
       "      <td>1.0</td>\n",
       "      <td>0</td>\n",
       "      <td>1</td>\n",
       "      <td>0</td>\n",
       "      <td>0</td>\n",
       "      <td>0</td>\n",
       "      <td>...</td>\n",
       "      <td>1</td>\n",
       "      <td>0</td>\n",
       "      <td>0</td>\n",
       "      <td>1</td>\n",
       "      <td>0</td>\n",
       "      <td>1</td>\n",
       "      <td>0</td>\n",
       "      <td>0</td>\n",
       "      <td>0</td>\n",
       "      <td>1</td>\n",
       "    </tr>\n",
       "    <tr>\n",
       "      <th>2</th>\n",
       "      <td>5000</td>\n",
       "      <td>1800</td>\n",
       "      <td>208.0</td>\n",
       "      <td>360.0</td>\n",
       "      <td>1.0</td>\n",
       "      <td>0</td>\n",
       "      <td>0</td>\n",
       "      <td>1</td>\n",
       "      <td>0</td>\n",
       "      <td>0</td>\n",
       "      <td>...</td>\n",
       "      <td>0</td>\n",
       "      <td>1</td>\n",
       "      <td>0</td>\n",
       "      <td>1</td>\n",
       "      <td>0</td>\n",
       "      <td>1</td>\n",
       "      <td>0</td>\n",
       "      <td>0</td>\n",
       "      <td>0</td>\n",
       "      <td>1</td>\n",
       "    </tr>\n",
       "    <tr>\n",
       "      <th>3</th>\n",
       "      <td>2340</td>\n",
       "      <td>2546</td>\n",
       "      <td>100.0</td>\n",
       "      <td>360.0</td>\n",
       "      <td>1.0</td>\n",
       "      <td>0</td>\n",
       "      <td>0</td>\n",
       "      <td>0</td>\n",
       "      <td>1</td>\n",
       "      <td>0</td>\n",
       "      <td>...</td>\n",
       "      <td>0</td>\n",
       "      <td>1</td>\n",
       "      <td>0</td>\n",
       "      <td>1</td>\n",
       "      <td>0</td>\n",
       "      <td>1</td>\n",
       "      <td>0</td>\n",
       "      <td>0</td>\n",
       "      <td>0</td>\n",
       "      <td>1</td>\n",
       "    </tr>\n",
       "    <tr>\n",
       "      <th>4</th>\n",
       "      <td>3276</td>\n",
       "      <td>0</td>\n",
       "      <td>78.0</td>\n",
       "      <td>360.0</td>\n",
       "      <td>1.0</td>\n",
       "      <td>0</td>\n",
       "      <td>0</td>\n",
       "      <td>0</td>\n",
       "      <td>0</td>\n",
       "      <td>1</td>\n",
       "      <td>...</td>\n",
       "      <td>0</td>\n",
       "      <td>0</td>\n",
       "      <td>0</td>\n",
       "      <td>0</td>\n",
       "      <td>1</td>\n",
       "      <td>1</td>\n",
       "      <td>0</td>\n",
       "      <td>0</td>\n",
       "      <td>0</td>\n",
       "      <td>1</td>\n",
       "    </tr>\n",
       "  </tbody>\n",
       "</table>\n",
       "<p>5 rows × 388 columns</p>\n",
       "</div>"
      ],
      "text/plain": [
       "   ApplicantIncome  CoapplicantIncome  LoanAmount  Loan_Amount_Term  \\\n",
       "0             5720                  0       110.0             360.0   \n",
       "1             3076               1500       126.0             360.0   \n",
       "2             5000               1800       208.0             360.0   \n",
       "3             2340               2546       100.0             360.0   \n",
       "4             3276                  0        78.0             360.0   \n",
       "\n",
       "   Credit_History  Loan_ID_LP001015  Loan_ID_LP001022  Loan_ID_LP001031  \\\n",
       "0             1.0                 1                 0                 0   \n",
       "1             1.0                 0                 1                 0   \n",
       "2             1.0                 0                 0                 1   \n",
       "3             1.0                 0                 0                 0   \n",
       "4             1.0                 0                 0                 0   \n",
       "\n",
       "   Loan_ID_LP001035  Loan_ID_LP001051  ...  Dependents_1  Dependents_2  \\\n",
       "0                 0                 0  ...             0             0   \n",
       "1                 0                 0  ...             1             0   \n",
       "2                 0                 0  ...             0             1   \n",
       "3                 1                 0  ...             0             1   \n",
       "4                 0                 1  ...             0             0   \n",
       "\n",
       "   Dependents_3+  Education_Graduate  Education_Not Graduate  \\\n",
       "0              0                   1                       0   \n",
       "1              0                   1                       0   \n",
       "2              0                   1                       0   \n",
       "3              0                   1                       0   \n",
       "4              0                   0                       1   \n",
       "\n",
       "   Self_Employed_No  Self_Employed_Yes  Property_Area_Rural  \\\n",
       "0                 1                  0                    0   \n",
       "1                 1                  0                    0   \n",
       "2                 1                  0                    0   \n",
       "3                 1                  0                    0   \n",
       "4                 1                  0                    0   \n",
       "\n",
       "   Property_Area_Semiurban  Property_Area_Urban  \n",
       "0                        0                    1  \n",
       "1                        0                    1  \n",
       "2                        0                    1  \n",
       "3                        0                    1  \n",
       "4                        0                    1  \n",
       "\n",
       "[5 rows x 388 columns]"
      ]
     },
     "execution_count": 120,
     "metadata": {},
     "output_type": "execute_result"
    }
   ],
   "source": [
    "X_test.head()"
   ]
  },
  {
   "cell_type": "code",
   "execution_count": 124,
   "metadata": {},
   "outputs": [],
   "source": [
    "X_test = X_test.drop('Dependents_0', axis=1)"
   ]
  },
  {
   "cell_type": "code",
   "execution_count": 128,
   "metadata": {},
   "outputs": [],
   "source": [
    "x = pd.get_dummies(X)\n",
    "x1 = pd.get_dummies(test)"
   ]
  },
  {
   "cell_type": "code",
   "execution_count": 129,
   "metadata": {},
   "outputs": [
    {
     "data": {
      "text/plain": [
       "((614, 633), (367, 388))"
      ]
     },
     "execution_count": 129,
     "metadata": {},
     "output_type": "execute_result"
    }
   ],
   "source": [
    "x.shape, x1.shape"
   ]
  },
  {
   "cell_type": "code",
   "execution_count": 131,
   "metadata": {},
   "outputs": [
    {
     "data": {
      "text/plain": [
       "((614, 13), (367, 12))"
      ]
     },
     "execution_count": 131,
     "metadata": {},
     "output_type": "execute_result"
    }
   ],
   "source": [
    "train.shape, test.shape"
   ]
  },
  {
   "cell_type": "code",
   "execution_count": 133,
   "metadata": {},
   "outputs": [],
   "source": [
    "x=train.drop('Loan_Status', axis=1)"
   ]
  },
  {
   "cell_type": "code",
   "execution_count": 134,
   "metadata": {},
   "outputs": [],
   "source": [
    "x1=test"
   ]
  },
  {
   "cell_type": "code",
   "execution_count": 135,
   "metadata": {},
   "outputs": [
    {
     "data": {
      "text/plain": [
       "((614, 12), (367, 12))"
      ]
     },
     "execution_count": 135,
     "metadata": {},
     "output_type": "execute_result"
    }
   ],
   "source": [
    "x.shape, x1.shape"
   ]
  },
  {
   "cell_type": "code",
   "execution_count": 136,
   "metadata": {},
   "outputs": [],
   "source": [
    "x=pd.get_dummies(x)\n",
    "x1=pd.get_dummies(x1)"
   ]
  },
  {
   "cell_type": "code",
   "execution_count": 137,
   "metadata": {},
   "outputs": [
    {
     "data": {
      "text/plain": [
       "((614, 635), (367, 388))"
      ]
     },
     "execution_count": 137,
     "metadata": {},
     "output_type": "execute_result"
    }
   ],
   "source": [
    "x.shape, x1.shape"
   ]
  },
  {
   "cell_type": "code",
   "execution_count": 138,
   "metadata": {},
   "outputs": [
    {
     "name": "stdout",
     "output_type": "stream",
     "text": [
      "<class 'pandas.core.frame.DataFrame'>\n",
      "RangeIndex: 614 entries, 0 to 613\n",
      "Data columns (total 13 columns):\n",
      " #   Column             Non-Null Count  Dtype  \n",
      "---  ------             --------------  -----  \n",
      " 0   Loan_ID            614 non-null    object \n",
      " 1   Gender             614 non-null    object \n",
      " 2   Married            614 non-null    object \n",
      " 3   Dependents         614 non-null    object \n",
      " 4   Education          614 non-null    object \n",
      " 5   Self_Employed      614 non-null    object \n",
      " 6   ApplicantIncome    614 non-null    int64  \n",
      " 7   CoapplicantIncome  614 non-null    float64\n",
      " 8   LoanAmount         614 non-null    float64\n",
      " 9   Loan_Amount_Term   614 non-null    float64\n",
      " 10  Credit_History     614 non-null    float64\n",
      " 11  Property_Area      614 non-null    object \n",
      " 12  Loan_Status        614 non-null    object \n",
      "dtypes: float64(4), int64(1), object(8)\n",
      "memory usage: 62.5+ KB\n"
     ]
    }
   ],
   "source": [
    "train.info()"
   ]
  },
  {
   "cell_type": "code",
   "execution_count": 139,
   "metadata": {},
   "outputs": [
    {
     "name": "stdout",
     "output_type": "stream",
     "text": [
      "<class 'pandas.core.frame.DataFrame'>\n",
      "RangeIndex: 367 entries, 0 to 366\n",
      "Data columns (total 12 columns):\n",
      " #   Column             Non-Null Count  Dtype  \n",
      "---  ------             --------------  -----  \n",
      " 0   Loan_ID            367 non-null    object \n",
      " 1   Gender             367 non-null    object \n",
      " 2   Married            367 non-null    object \n",
      " 3   Dependents         367 non-null    object \n",
      " 4   Education          367 non-null    object \n",
      " 5   Self_Employed      367 non-null    object \n",
      " 6   ApplicantIncome    367 non-null    int64  \n",
      " 7   CoapplicantIncome  367 non-null    int64  \n",
      " 8   LoanAmount         367 non-null    float64\n",
      " 9   Loan_Amount_Term   367 non-null    float64\n",
      " 10  Credit_History     367 non-null    float64\n",
      " 11  Property_Area      367 non-null    object \n",
      "dtypes: float64(3), int64(2), object(7)\n",
      "memory usage: 34.5+ KB\n"
     ]
    }
   ],
   "source": [
    "test.info()"
   ]
  },
  {
   "cell_type": "code",
   "execution_count": 141,
   "metadata": {},
   "outputs": [
    {
     "data": {
      "text/plain": [
       "Loan_ID              0\n",
       "Gender               0\n",
       "Married              0\n",
       "Dependents           0\n",
       "Education            0\n",
       "Self_Employed        0\n",
       "ApplicantIncome      0\n",
       "CoapplicantIncome    0\n",
       "LoanAmount           0\n",
       "Loan_Amount_Term     0\n",
       "Credit_History       0\n",
       "Property_Area        0\n",
       "Loan_Status          0\n",
       "dtype: int64"
      ]
     },
     "execution_count": 141,
     "metadata": {},
     "output_type": "execute_result"
    }
   ],
   "source": [
    "train.isna().sum()"
   ]
  },
  {
   "cell_type": "code",
   "execution_count": 142,
   "metadata": {},
   "outputs": [
    {
     "data": {
      "text/plain": [
       "Loan_ID              0\n",
       "Gender               0\n",
       "Married              0\n",
       "Dependents           0\n",
       "Education            0\n",
       "Self_Employed        0\n",
       "ApplicantIncome      0\n",
       "CoapplicantIncome    0\n",
       "LoanAmount           0\n",
       "Loan_Amount_Term     0\n",
       "Credit_History       0\n",
       "Property_Area        0\n",
       "dtype: int64"
      ]
     },
     "execution_count": 142,
     "metadata": {},
     "output_type": "execute_result"
    }
   ],
   "source": [
    "test.isna().sum()"
   ]
  },
  {
   "cell_type": "code",
   "execution_count": 143,
   "metadata": {},
   "outputs": [],
   "source": [
    "train_data = train"
   ]
  },
  {
   "cell_type": "code",
   "execution_count": 144,
   "metadata": {},
   "outputs": [],
   "source": [
    "test_data = test"
   ]
  },
  {
   "cell_type": "code",
   "execution_count": 145,
   "metadata": {},
   "outputs": [
    {
     "data": {
      "text/html": [
       "<div>\n",
       "<style scoped>\n",
       "    .dataframe tbody tr th:only-of-type {\n",
       "        vertical-align: middle;\n",
       "    }\n",
       "\n",
       "    .dataframe tbody tr th {\n",
       "        vertical-align: top;\n",
       "    }\n",
       "\n",
       "    .dataframe thead th {\n",
       "        text-align: right;\n",
       "    }\n",
       "</style>\n",
       "<table border=\"1\" class=\"dataframe\">\n",
       "  <thead>\n",
       "    <tr style=\"text-align: right;\">\n",
       "      <th></th>\n",
       "      <th>Loan_ID</th>\n",
       "      <th>Gender</th>\n",
       "      <th>Married</th>\n",
       "      <th>Dependents</th>\n",
       "      <th>Education</th>\n",
       "      <th>Self_Employed</th>\n",
       "      <th>ApplicantIncome</th>\n",
       "      <th>CoapplicantIncome</th>\n",
       "      <th>LoanAmount</th>\n",
       "      <th>Loan_Amount_Term</th>\n",
       "      <th>Credit_History</th>\n",
       "      <th>Property_Area</th>\n",
       "      <th>Loan_Status</th>\n",
       "    </tr>\n",
       "  </thead>\n",
       "  <tbody>\n",
       "    <tr>\n",
       "      <th>0</th>\n",
       "      <td>LP001002</td>\n",
       "      <td>Male</td>\n",
       "      <td>No</td>\n",
       "      <td>0</td>\n",
       "      <td>Graduate</td>\n",
       "      <td>No</td>\n",
       "      <td>5849</td>\n",
       "      <td>0.0</td>\n",
       "      <td>128.0</td>\n",
       "      <td>360.0</td>\n",
       "      <td>1.0</td>\n",
       "      <td>Urban</td>\n",
       "      <td>Y</td>\n",
       "    </tr>\n",
       "    <tr>\n",
       "      <th>1</th>\n",
       "      <td>LP001003</td>\n",
       "      <td>Male</td>\n",
       "      <td>Yes</td>\n",
       "      <td>1</td>\n",
       "      <td>Graduate</td>\n",
       "      <td>No</td>\n",
       "      <td>4583</td>\n",
       "      <td>1508.0</td>\n",
       "      <td>128.0</td>\n",
       "      <td>360.0</td>\n",
       "      <td>1.0</td>\n",
       "      <td>Rural</td>\n",
       "      <td>N</td>\n",
       "    </tr>\n",
       "    <tr>\n",
       "      <th>2</th>\n",
       "      <td>LP001005</td>\n",
       "      <td>Male</td>\n",
       "      <td>Yes</td>\n",
       "      <td>0</td>\n",
       "      <td>Graduate</td>\n",
       "      <td>Yes</td>\n",
       "      <td>3000</td>\n",
       "      <td>0.0</td>\n",
       "      <td>66.0</td>\n",
       "      <td>360.0</td>\n",
       "      <td>1.0</td>\n",
       "      <td>Urban</td>\n",
       "      <td>Y</td>\n",
       "    </tr>\n",
       "    <tr>\n",
       "      <th>3</th>\n",
       "      <td>LP001006</td>\n",
       "      <td>Male</td>\n",
       "      <td>Yes</td>\n",
       "      <td>0</td>\n",
       "      <td>Not Graduate</td>\n",
       "      <td>No</td>\n",
       "      <td>2583</td>\n",
       "      <td>2358.0</td>\n",
       "      <td>120.0</td>\n",
       "      <td>360.0</td>\n",
       "      <td>1.0</td>\n",
       "      <td>Urban</td>\n",
       "      <td>Y</td>\n",
       "    </tr>\n",
       "    <tr>\n",
       "      <th>4</th>\n",
       "      <td>LP001008</td>\n",
       "      <td>Male</td>\n",
       "      <td>No</td>\n",
       "      <td>0</td>\n",
       "      <td>Graduate</td>\n",
       "      <td>No</td>\n",
       "      <td>6000</td>\n",
       "      <td>0.0</td>\n",
       "      <td>141.0</td>\n",
       "      <td>360.0</td>\n",
       "      <td>1.0</td>\n",
       "      <td>Urban</td>\n",
       "      <td>Y</td>\n",
       "    </tr>\n",
       "  </tbody>\n",
       "</table>\n",
       "</div>"
      ],
      "text/plain": [
       "    Loan_ID Gender Married Dependents     Education Self_Employed  \\\n",
       "0  LP001002   Male      No          0      Graduate            No   \n",
       "1  LP001003   Male     Yes          1      Graduate            No   \n",
       "2  LP001005   Male     Yes          0      Graduate           Yes   \n",
       "3  LP001006   Male     Yes          0  Not Graduate            No   \n",
       "4  LP001008   Male      No          0      Graduate            No   \n",
       "\n",
       "   ApplicantIncome  CoapplicantIncome  LoanAmount  Loan_Amount_Term  \\\n",
       "0             5849                0.0       128.0             360.0   \n",
       "1             4583             1508.0       128.0             360.0   \n",
       "2             3000                0.0        66.0             360.0   \n",
       "3             2583             2358.0       120.0             360.0   \n",
       "4             6000                0.0       141.0             360.0   \n",
       "\n",
       "   Credit_History Property_Area Loan_Status  \n",
       "0             1.0         Urban           Y  \n",
       "1             1.0         Rural           N  \n",
       "2             1.0         Urban           Y  \n",
       "3             1.0         Urban           Y  \n",
       "4             1.0         Urban           Y  "
      ]
     },
     "execution_count": 145,
     "metadata": {},
     "output_type": "execute_result"
    }
   ],
   "source": [
    "train_data.head()"
   ]
  },
  {
   "cell_type": "code",
   "execution_count": 169,
   "metadata": {},
   "outputs": [],
   "source": [
    "for label,content in train_data.items():\n",
    "    if pd.api.types.is_string_dtype(content):\n",
    "        train_data[label]=content.astype('category').cat.as_ordered()\n",
    "        train_data[label]=train_data[label].cat.codes"
   ]
  },
  {
   "cell_type": "code",
   "execution_count": 170,
   "metadata": {},
   "outputs": [
    {
     "name": "stdout",
     "output_type": "stream",
     "text": [
      "<class 'pandas.core.frame.DataFrame'>\n",
      "RangeIndex: 614 entries, 0 to 613\n",
      "Data columns (total 13 columns):\n",
      " #   Column             Non-Null Count  Dtype  \n",
      "---  ------             --------------  -----  \n",
      " 0   Loan_ID            614 non-null    int16  \n",
      " 1   Gender             614 non-null    int8   \n",
      " 2   Married            614 non-null    int8   \n",
      " 3   Dependents         614 non-null    int8   \n",
      " 4   Education          614 non-null    int8   \n",
      " 5   Self_Employed      614 non-null    int8   \n",
      " 6   ApplicantIncome    614 non-null    int64  \n",
      " 7   CoapplicantIncome  614 non-null    float64\n",
      " 8   LoanAmount         614 non-null    float64\n",
      " 9   Loan_Amount_Term   614 non-null    float64\n",
      " 10  Credit_History     614 non-null    float64\n",
      " 11  Property_Area      614 non-null    int8   \n",
      " 12  Loan_Status        614 non-null    int8   \n",
      "dtypes: float64(4), int16(1), int64(1), int8(7)\n",
      "memory usage: 29.5 KB\n"
     ]
    }
   ],
   "source": [
    "train_data.info()"
   ]
  },
  {
   "cell_type": "code",
   "execution_count": 171,
   "metadata": {},
   "outputs": [],
   "source": [
    "for label,content in test_data.items():\n",
    "    if pd.api.types.is_string_dtype(content):\n",
    "        test_data[label]=content.astype('category').cat.as_ordered()\n",
    "        test_data[label]=test_data[label].cat.codes"
   ]
  },
  {
   "cell_type": "code",
   "execution_count": 172,
   "metadata": {},
   "outputs": [
    {
     "name": "stdout",
     "output_type": "stream",
     "text": [
      "<class 'pandas.core.frame.DataFrame'>\n",
      "RangeIndex: 367 entries, 0 to 366\n",
      "Data columns (total 12 columns):\n",
      " #   Column             Non-Null Count  Dtype  \n",
      "---  ------             --------------  -----  \n",
      " 0   Loan_ID            367 non-null    int16  \n",
      " 1   Gender             367 non-null    int8   \n",
      " 2   Married            367 non-null    int8   \n",
      " 3   Dependents         367 non-null    int8   \n",
      " 4   Education          367 non-null    int8   \n",
      " 5   Self_Employed      367 non-null    int8   \n",
      " 6   ApplicantIncome    367 non-null    int64  \n",
      " 7   CoapplicantIncome  367 non-null    int64  \n",
      " 8   LoanAmount         367 non-null    float64\n",
      " 9   Loan_Amount_Term   367 non-null    float64\n",
      " 10  Credit_History     367 non-null    float64\n",
      " 11  Property_Area      367 non-null    int8   \n",
      "dtypes: float64(3), int16(1), int64(2), int8(6)\n",
      "memory usage: 17.3 KB\n"
     ]
    }
   ],
   "source": [
    "test_data.info()"
   ]
  },
  {
   "cell_type": "code",
   "execution_count": 173,
   "metadata": {},
   "outputs": [
    {
     "data": {
      "text/plain": [
       "<matplotlib.axes._subplots.AxesSubplot at 0x25f8233fd88>"
      ]
     },
     "execution_count": 173,
     "metadata": {},
     "output_type": "execute_result"
    },
    {
     "data": {
      "image/png": "[encoded data removed]",
      "text/plain": [
       "<Figure size 432x288 with 1 Axes>"
      ]
     },
     "metadata": {
      "needs_background": "light"
     },
     "output_type": "display_data"
    }
   ],
   "source": [
    "sns.distplot(train_data['ApplicantIncome'])"
   ]
  },
  {
   "cell_type": "code",
   "execution_count": 174,
   "metadata": {},
   "outputs": [
    {
     "data": {
      "text/plain": [
       "<matplotlib.axes._subplots.AxesSubplot at 0x25f8240b048>"
      ]
     },
     "execution_count": 174,
     "metadata": {},
     "output_type": "execute_result"
    },
    {
     "data": {
      "image/png": "[encoded data removed]",
      "text/plain": [
       "<Figure size 432x288 with 1 Axes>"
      ]
     },
     "metadata": {
      "needs_background": "light"
     },
     "output_type": "display_data"
    }
   ],
   "source": [
    "sns.distplot(train_data['CoapplicantIncome'])"
   ]
  },
  {
   "cell_type": "code",
   "execution_count": 175,
   "metadata": {},
   "outputs": [
    {
     "data": {
      "text/plain": [
       "<matplotlib.axes._subplots.AxesSubplot at 0x25f8240b788>"
      ]
     },
     "execution_count": 175,
     "metadata": {},
     "output_type": "execute_result"
    },
    {
     "data": {
      "image/png": "[encoded data removed]",
      "text/plain": [
       "<Figure size 432x288 with 1 Axes>"
      ]
     },
     "metadata": {
      "needs_background": "light"
     },
     "output_type": "display_data"
    }
   ],
   "source": [
    "sns.distplot(train_data['LoanAmount'])"
   ]
  },
  {
   "cell_type": "code",
   "execution_count": 176,
   "metadata": {},
   "outputs": [
    {
     "data": {
      "text/plain": [
       "<matplotlib.axes._subplots.AxesSubplot at 0x25f8256c288>"
      ]
     },
     "execution_count": 176,
     "metadata": {},
     "output_type": "execute_result"
    },
    {
     "data": {
      "image/png": "[encoded data removed]",
      "text/plain": [
       "<Figure size 432x288 with 1 Axes>"
      ]
     },
     "metadata": {
      "needs_background": "light"
     },
     "output_type": "display_data"
    }
   ],
   "source": [
    "sns.distplot(train_data['Loan_Amount_Term'])"
   ]
  },
  {
   "cell_type": "code",
   "execution_count": 177,
   "metadata": {},
   "outputs": [],
   "source": [
    "X_train_data = train_data.drop(['Loan_ID', 'Loan_Status'], axis=1)"
   ]
  },
  {
   "cell_type": "code",
   "execution_count": 178,
   "metadata": {},
   "outputs": [
    {
     "data": {
      "text/html": [
       "<div>\n",
       "<style scoped>\n",
       "    .dataframe tbody tr th:only-of-type {\n",
       "        vertical-align: middle;\n",
       "    }\n",
       "\n",
       "    .dataframe tbody tr th {\n",
       "        vertical-align: top;\n",
       "    }\n",
       "\n",
       "    .dataframe thead th {\n",
       "        text-align: right;\n",
       "    }\n",
       "</style>\n",
       "<table border=\"1\" class=\"dataframe\">\n",
       "  <thead>\n",
       "    <tr style=\"text-align: right;\">\n",
       "      <th></th>\n",
       "      <th>Gender</th>\n",
       "      <th>Married</th>\n",
       "      <th>Dependents</th>\n",
       "      <th>Education</th>\n",
       "      <th>Self_Employed</th>\n",
       "      <th>ApplicantIncome</th>\n",
       "      <th>CoapplicantIncome</th>\n",
       "      <th>LoanAmount</th>\n",
       "      <th>Loan_Amount_Term</th>\n",
       "      <th>Credit_History</th>\n",
       "      <th>Property_Area</th>\n",
       "    </tr>\n",
       "  </thead>\n",
       "  <tbody>\n",
       "    <tr>\n",
       "      <th>0</th>\n",
       "      <td>1</td>\n",
       "      <td>0</td>\n",
       "      <td>1</td>\n",
       "      <td>0</td>\n",
       "      <td>0</td>\n",
       "      <td>5849</td>\n",
       "      <td>0.0</td>\n",
       "      <td>128.0</td>\n",
       "      <td>360.0</td>\n",
       "      <td>1.0</td>\n",
       "      <td>2</td>\n",
       "    </tr>\n",
       "    <tr>\n",
       "      <th>1</th>\n",
       "      <td>1</td>\n",
       "      <td>1</td>\n",
       "      <td>2</td>\n",
       "      <td>0</td>\n",
       "      <td>0</td>\n",
       "      <td>4583</td>\n",
       "      <td>1508.0</td>\n",
       "      <td>128.0</td>\n",
       "      <td>360.0</td>\n",
       "      <td>1.0</td>\n",
       "      <td>0</td>\n",
       "    </tr>\n",
       "    <tr>\n",
       "      <th>2</th>\n",
       "      <td>1</td>\n",
       "      <td>1</td>\n",
       "      <td>1</td>\n",
       "      <td>0</td>\n",
       "      <td>1</td>\n",
       "      <td>3000</td>\n",
       "      <td>0.0</td>\n",
       "      <td>66.0</td>\n",
       "      <td>360.0</td>\n",
       "      <td>1.0</td>\n",
       "      <td>2</td>\n",
       "    </tr>\n",
       "    <tr>\n",
       "      <th>3</th>\n",
       "      <td>1</td>\n",
       "      <td>1</td>\n",
       "      <td>1</td>\n",
       "      <td>1</td>\n",
       "      <td>0</td>\n",
       "      <td>2583</td>\n",
       "      <td>2358.0</td>\n",
       "      <td>120.0</td>\n",
       "      <td>360.0</td>\n",
       "      <td>1.0</td>\n",
       "      <td>2</td>\n",
       "    </tr>\n",
       "    <tr>\n",
       "      <th>4</th>\n",
       "      <td>1</td>\n",
       "      <td>0</td>\n",
       "      <td>1</td>\n",
       "      <td>0</td>\n",
       "      <td>0</td>\n",
       "      <td>6000</td>\n",
       "      <td>0.0</td>\n",
       "      <td>141.0</td>\n",
       "      <td>360.0</td>\n",
       "      <td>1.0</td>\n",
       "      <td>2</td>\n",
       "    </tr>\n",
       "    <tr>\n",
       "      <th>...</th>\n",
       "      <td>...</td>\n",
       "      <td>...</td>\n",
       "      <td>...</td>\n",
       "      <td>...</td>\n",
       "      <td>...</td>\n",
       "      <td>...</td>\n",
       "      <td>...</td>\n",
       "      <td>...</td>\n",
       "      <td>...</td>\n",
       "      <td>...</td>\n",
       "      <td>...</td>\n",
       "    </tr>\n",
       "    <tr>\n",
       "      <th>609</th>\n",
       "      <td>0</td>\n",
       "      <td>0</td>\n",
       "      <td>1</td>\n",
       "      <td>0</td>\n",
       "      <td>0</td>\n",
       "      <td>2900</td>\n",
       "      <td>0.0</td>\n",
       "      <td>71.0</td>\n",
       "      <td>360.0</td>\n",
       "      <td>1.0</td>\n",
       "      <td>0</td>\n",
       "    </tr>\n",
       "    <tr>\n",
       "      <th>610</th>\n",
       "      <td>1</td>\n",
       "      <td>1</td>\n",
       "      <td>4</td>\n",
       "      <td>0</td>\n",
       "      <td>0</td>\n",
       "      <td>4106</td>\n",
       "      <td>0.0</td>\n",
       "      <td>40.0</td>\n",
       "      <td>180.0</td>\n",
       "      <td>1.0</td>\n",
       "      <td>0</td>\n",
       "    </tr>\n",
       "    <tr>\n",
       "      <th>611</th>\n",
       "      <td>1</td>\n",
       "      <td>1</td>\n",
       "      <td>2</td>\n",
       "      <td>0</td>\n",
       "      <td>0</td>\n",
       "      <td>8072</td>\n",
       "      <td>240.0</td>\n",
       "      <td>253.0</td>\n",
       "      <td>360.0</td>\n",
       "      <td>1.0</td>\n",
       "      <td>2</td>\n",
       "    </tr>\n",
       "    <tr>\n",
       "      <th>612</th>\n",
       "      <td>1</td>\n",
       "      <td>1</td>\n",
       "      <td>3</td>\n",
       "      <td>0</td>\n",
       "      <td>0</td>\n",
       "      <td>7583</td>\n",
       "      <td>0.0</td>\n",
       "      <td>187.0</td>\n",
       "      <td>360.0</td>\n",
       "      <td>1.0</td>\n",
       "      <td>2</td>\n",
       "    </tr>\n",
       "    <tr>\n",
       "      <th>613</th>\n",
       "      <td>0</td>\n",
       "      <td>0</td>\n",
       "      <td>1</td>\n",
       "      <td>0</td>\n",
       "      <td>1</td>\n",
       "      <td>4583</td>\n",
       "      <td>0.0</td>\n",
       "      <td>133.0</td>\n",
       "      <td>360.0</td>\n",
       "      <td>0.0</td>\n",
       "      <td>1</td>\n",
       "    </tr>\n",
       "  </tbody>\n",
       "</table>\n",
       "<p>614 rows × 11 columns</p>\n",
       "</div>"
      ],
      "text/plain": [
       "     Gender  Married  Dependents  Education  Self_Employed  ApplicantIncome  \\\n",
       "0         1        0           1          0              0             5849   \n",
       "1         1        1           2          0              0             4583   \n",
       "2         1        1           1          0              1             3000   \n",
       "3         1        1           1          1              0             2583   \n",
       "4         1        0           1          0              0             6000   \n",
       "..      ...      ...         ...        ...            ...              ...   \n",
       "609       0        0           1          0              0             2900   \n",
       "610       1        1           4          0              0             4106   \n",
       "611       1        1           2          0              0             8072   \n",
       "612       1        1           3          0              0             7583   \n",
       "613       0        0           1          0              1             4583   \n",
       "\n",
       "     CoapplicantIncome  LoanAmount  Loan_Amount_Term  Credit_History  \\\n",
       "0                  0.0       128.0             360.0             1.0   \n",
       "1               1508.0       128.0             360.0             1.0   \n",
       "2                  0.0        66.0             360.0             1.0   \n",
       "3               2358.0       120.0             360.0             1.0   \n",
       "4                  0.0       141.0             360.0             1.0   \n",
       "..                 ...         ...               ...             ...   \n",
       "609                0.0        71.0             360.0             1.0   \n",
       "610                0.0        40.0             180.0             1.0   \n",
       "611              240.0       253.0             360.0             1.0   \n",
       "612                0.0       187.0             360.0             1.0   \n",
       "613                0.0       133.0             360.0             0.0   \n",
       "\n",
       "     Property_Area  \n",
       "0                2  \n",
       "1                0  \n",
       "2                2  \n",
       "3                2  \n",
       "4                2  \n",
       "..             ...  \n",
       "609              0  \n",
       "610              0  \n",
       "611              2  \n",
       "612              2  \n",
       "613              1  \n",
       "\n",
       "[614 rows x 11 columns]"
      ]
     },
     "execution_count": 178,
     "metadata": {},
     "output_type": "execute_result"
    }
   ],
   "source": [
    "X_train_data"
   ]
  },
  {
   "cell_type": "code",
   "execution_count": 179,
   "metadata": {},
   "outputs": [],
   "source": [
    "X_test_data = test_data.drop(['Loan_ID'], axis=1)"
   ]
  },
  {
   "cell_type": "code",
   "execution_count": 180,
   "metadata": {},
   "outputs": [
    {
     "data": {
      "text/plain": [
       "((367, 11), (614, 11))"
      ]
     },
     "execution_count": 180,
     "metadata": {},
     "output_type": "execute_result"
    }
   ],
   "source": [
    "X_test_data.shape, X_train_data.shape"
   ]
  },
  {
   "cell_type": "code",
   "execution_count": 181,
   "metadata": {},
   "outputs": [],
   "source": [
    "y_train_data = train_data['Loan_Status']"
   ]
  },
  {
   "cell_type": "code",
   "execution_count": 182,
   "metadata": {},
   "outputs": [],
   "source": [
    "rf = RandomForestClassifier()"
   ]
  },
  {
   "cell_type": "code",
   "execution_count": 183,
   "metadata": {},
   "outputs": [
    {
     "data": {
      "text/plain": [
       "RandomForestClassifier(bootstrap=True, ccp_alpha=0.0, class_weight=None,\n",
       "                       criterion='gini', max_depth=None, max_features='auto',\n",
       "                       max_leaf_nodes=None, max_samples=None,\n",
       "                       min_impurity_decrease=0.0, min_impurity_split=None,\n",
       "                       min_samples_leaf=1, min_samples_split=2,\n",
       "                       min_weight_fraction_leaf=0.0, n_estimators=100,\n",
       "                       n_jobs=None, oob_score=False, random_state=None,\n",
       "                       verbose=0, warm_start=False)"
      ]
     },
     "execution_count": 183,
     "metadata": {},
     "output_type": "execute_result"
    }
   ],
   "source": [
    "rf.fit(X_train_data, y_train_data)"
   ]
  },
  {
   "cell_type": "code",
   "execution_count": 184,
   "metadata": {},
   "outputs": [
    {
     "data": {
      "text/plain": [
       "1.0"
      ]
     },
     "execution_count": 184,
     "metadata": {},
     "output_type": "execute_result"
    }
   ],
   "source": [
    "rf.score(X_train_data, y_train_data)"
   ]
  },
  {
   "cell_type": "code",
   "execution_count": 185,
   "metadata": {},
   "outputs": [],
   "source": [
    "corr_mat = train_data.corr()"
   ]
  },
  {
   "cell_type": "code",
   "execution_count": 194,
   "metadata": {},
   "outputs": [
    {
     "data": {
      "text/plain": [
       "<matplotlib.axes._subplots.AxesSubplot at 0x25f83e52708>"
      ]
     },
     "execution_count": 194,
     "metadata": {},
     "output_type": "execute_result"
    },
    {
     "data": {
      "image/png": "[encoded data removed]",
      "text/plain": [
       "<Figure size 720x576 with 2 Axes>"
      ]
     },
     "metadata": {
      "needs_background": "light"
     },
     "output_type": "display_data"
    }
   ],
   "source": [
    "fig,ax = plt.subplots(figsize=(10,8))\n",
    "sns.heatmap(corr_mat, annot=True, linewidths=0.5, cmap=\"YlGnBu\", cbar=True)"
   ]
  },
  {
   "cell_type": "code",
   "execution_count": 195,
   "metadata": {},
   "outputs": [],
   "source": [
    "model2 = RandomForestClassifier()"
   ]
  },
  {
   "cell_type": "code",
   "execution_count": 199,
   "metadata": {},
   "outputs": [
    {
     "data": {
      "text/plain": [
       " 0.0    525\n",
       "-inf     89\n",
       "Name: Credit_History, dtype: int64"
      ]
     },
     "execution_count": 199,
     "metadata": {},
     "output_type": "execute_result"
    }
   ],
   "source": [
    "feature = np.log(X_train_data['Credit_History'])\n",
    "feature.value_counts()"
   ]
  },
  {
   "cell_type": "code",
   "execution_count": 207,
   "metadata": {},
   "outputs": [
    {
     "data": {
      "text/plain": [
       "RandomForestClassifier(bootstrap=True, ccp_alpha=0.0, class_weight=None,\n",
       "                       criterion='gini', max_depth=None, max_features='auto',\n",
       "                       max_leaf_nodes=None, max_samples=None,\n",
       "                       min_impurity_decrease=0.0, min_impurity_split=None,\n",
       "                       min_samples_leaf=1, min_samples_split=2,\n",
       "                       min_weight_fraction_leaf=0.0, n_estimators=100,\n",
       "                       n_jobs=None, oob_score=False, random_state=None,\n",
       "                       verbose=0, warm_start=False)"
      ]
     },
     "execution_count": 207,
     "metadata": {},
     "output_type": "execute_result"
    }
   ],
   "source": [
    "model2.fit(X_train_data[['Credit_History','Married','Education','Property_Area']], y_train_data)"
   ]
  },
  {
   "cell_type": "code",
   "execution_count": 208,
   "metadata": {},
   "outputs": [
    {
     "data": {
      "text/plain": [
       "0.8094462540716613"
      ]
     },
     "execution_count": 208,
     "metadata": {},
     "output_type": "execute_result"
    }
   ],
   "source": [
    "model2.score(X_train_data[['Credit_History','Married','Education','Property_Area']], y_train_data)"
   ]
  },
  {
   "cell_type": "code",
   "execution_count": 209,
   "metadata": {},
   "outputs": [],
   "source": [
    "from catboost import CatBoostClassifier"
   ]
  },
  {
   "cell_type": "code",
   "execution_count": 210,
   "metadata": {},
   "outputs": [],
   "source": [
    "cat = CatBoostClassifier()"
   ]
  },
  {
   "cell_type": "code",
   "execution_count": 211,
   "metadata": {},
   "outputs": [
    {
     "name": "stdout",
     "output_type": "stream",
     "text": [
      "Learning rate set to 0.008365\n",
      "0:\tlearn: 0.6884419\ttotal: 56.3ms\tremaining: 56.2s\n",
      "1:\tlearn: 0.6841554\ttotal: 57.8ms\tremaining: 28.9s\n",
      "2:\tlearn: 0.6796985\ttotal: 59.6ms\tremaining: 19.8s\n",
      "3:\tlearn: 0.6755895\ttotal: 61.7ms\tremaining: 15.4s\n",
      "4:\tlearn: 0.6712036\ttotal: 63.4ms\tremaining: 12.6s\n",
      "5:\tlearn: 0.6671956\ttotal: 65ms\tremaining: 10.8s\n",
      "6:\tlearn: 0.6634814\ttotal: 67.4ms\tremaining: 9.56s\n",
      "7:\tlearn: 0.6596312\ttotal: 68.9ms\tremaining: 8.54s\n",
      "8:\tlearn: 0.6554960\ttotal: 71.3ms\tremaining: 7.85s\n",
      "9:\tlearn: 0.6514701\ttotal: 72.7ms\tremaining: 7.2s\n",
      "10:\tlearn: 0.6474070\ttotal: 74.2ms\tremaining: 6.67s\n",
      "11:\tlearn: 0.6434795\ttotal: 75.7ms\tremaining: 6.24s\n",
      "12:\tlearn: 0.6399855\ttotal: 77.3ms\tremaining: 5.87s\n",
      "13:\tlearn: 0.6367974\ttotal: 78.8ms\tremaining: 5.55s\n",
      "14:\tlearn: 0.6330535\ttotal: 80.2ms\tremaining: 5.27s\n",
      "15:\tlearn: 0.6293603\ttotal: 81.7ms\tremaining: 5.02s\n",
      "16:\tlearn: 0.6257225\ttotal: 83.1ms\tremaining: 4.81s\n",
      "17:\tlearn: 0.6222754\ttotal: 84.8ms\tremaining: 4.63s\n",
      "18:\tlearn: 0.6188528\ttotal: 86.1ms\tremaining: 4.45s\n",
      "19:\tlearn: 0.6153275\ttotal: 87.5ms\tremaining: 4.29s\n",
      "20:\tlearn: 0.6126183\ttotal: 88.2ms\tremaining: 4.11s\n",
      "21:\tlearn: 0.6099604\ttotal: 88.9ms\tremaining: 3.95s\n",
      "22:\tlearn: 0.6065238\ttotal: 90.2ms\tremaining: 3.83s\n",
      "23:\tlearn: 0.6034614\ttotal: 91.5ms\tremaining: 3.72s\n",
      "24:\tlearn: 0.6003422\ttotal: 93ms\tremaining: 3.63s\n",
      "25:\tlearn: 0.5972534\ttotal: 94.2ms\tremaining: 3.53s\n",
      "26:\tlearn: 0.5947843\ttotal: 95.5ms\tremaining: 3.44s\n",
      "27:\tlearn: 0.5920135\ttotal: 96.8ms\tremaining: 3.36s\n",
      "28:\tlearn: 0.5891568\ttotal: 98.1ms\tremaining: 3.29s\n",
      "29:\tlearn: 0.5867825\ttotal: 99ms\tremaining: 3.2s\n",
      "30:\tlearn: 0.5839548\ttotal: 100ms\tremaining: 3.14s\n",
      "31:\tlearn: 0.5816024\ttotal: 102ms\tremaining: 3.07s\n",
      "32:\tlearn: 0.5791702\ttotal: 103ms\tremaining: 3.02s\n",
      "33:\tlearn: 0.5767840\ttotal: 104ms\tremaining: 2.96s\n",
      "34:\tlearn: 0.5744112\ttotal: 106ms\tremaining: 2.91s\n",
      "35:\tlearn: 0.5723409\ttotal: 106ms\tremaining: 2.85s\n",
      "36:\tlearn: 0.5699788\ttotal: 108ms\tremaining: 2.8s\n",
      "37:\tlearn: 0.5680341\ttotal: 108ms\tremaining: 2.75s\n",
      "38:\tlearn: 0.5659981\ttotal: 110ms\tremaining: 2.71s\n",
      "39:\tlearn: 0.5633940\ttotal: 111ms\tremaining: 2.67s\n",
      "40:\tlearn: 0.5611854\ttotal: 112ms\tremaining: 2.63s\n",
      "41:\tlearn: 0.5593882\ttotal: 113ms\tremaining: 2.58s\n",
      "42:\tlearn: 0.5573481\ttotal: 114ms\tremaining: 2.54s\n",
      "43:\tlearn: 0.5552378\ttotal: 116ms\tremaining: 2.51s\n",
      "44:\tlearn: 0.5530161\ttotal: 117ms\tremaining: 2.48s\n",
      "45:\tlearn: 0.5508936\ttotal: 118ms\tremaining: 2.45s\n",
      "46:\tlearn: 0.5489365\ttotal: 120ms\tremaining: 2.42s\n",
      "47:\tlearn: 0.5471429\ttotal: 121ms\tremaining: 2.4s\n",
      "48:\tlearn: 0.5454859\ttotal: 122ms\tremaining: 2.37s\n",
      "49:\tlearn: 0.5437902\ttotal: 123ms\tremaining: 2.33s\n",
      "50:\tlearn: 0.5413831\ttotal: 124ms\tremaining: 2.31s\n",
      "51:\tlearn: 0.5397609\ttotal: 125ms\tremaining: 2.28s\n",
      "52:\tlearn: 0.5380400\ttotal: 126ms\tremaining: 2.26s\n",
      "53:\tlearn: 0.5358442\ttotal: 128ms\tremaining: 2.23s\n",
      "54:\tlearn: 0.5339582\ttotal: 129ms\tremaining: 2.21s\n",
      "55:\tlearn: 0.5323828\ttotal: 130ms\tremaining: 2.19s\n",
      "56:\tlearn: 0.5308564\ttotal: 131ms\tremaining: 2.17s\n",
      "57:\tlearn: 0.5289807\ttotal: 133ms\tremaining: 2.15s\n",
      "58:\tlearn: 0.5271768\ttotal: 134ms\tremaining: 2.14s\n",
      "59:\tlearn: 0.5254348\ttotal: 135ms\tremaining: 2.12s\n",
      "60:\tlearn: 0.5239683\ttotal: 137ms\tremaining: 2.1s\n",
      "61:\tlearn: 0.5221787\ttotal: 138ms\tremaining: 2.08s\n",
      "62:\tlearn: 0.5203578\ttotal: 139ms\tremaining: 2.07s\n",
      "63:\tlearn: 0.5190446\ttotal: 140ms\tremaining: 2.05s\n",
      "64:\tlearn: 0.5174420\ttotal: 142ms\tremaining: 2.04s\n",
      "65:\tlearn: 0.5158886\ttotal: 143ms\tremaining: 2.02s\n",
      "66:\tlearn: 0.5146133\ttotal: 144ms\tremaining: 2s\n",
      "67:\tlearn: 0.5134278\ttotal: 145ms\tremaining: 1.99s\n",
      "68:\tlearn: 0.5121339\ttotal: 147ms\tremaining: 1.98s\n",
      "69:\tlearn: 0.5106926\ttotal: 148ms\tremaining: 1.96s\n",
      "70:\tlearn: 0.5092888\ttotal: 149ms\tremaining: 1.95s\n",
      "71:\tlearn: 0.5078387\ttotal: 150ms\tremaining: 1.94s\n",
      "72:\tlearn: 0.5066280\ttotal: 152ms\tremaining: 1.93s\n",
      "73:\tlearn: 0.5050397\ttotal: 153ms\tremaining: 1.91s\n",
      "74:\tlearn: 0.5036803\ttotal: 154ms\tremaining: 1.9s\n",
      "75:\tlearn: 0.5022491\ttotal: 156ms\tremaining: 1.89s\n",
      "76:\tlearn: 0.5011806\ttotal: 157ms\tremaining: 1.88s\n",
      "77:\tlearn: 0.4997701\ttotal: 158ms\tremaining: 1.87s\n",
      "78:\tlearn: 0.4985279\ttotal: 159ms\tremaining: 1.85s\n",
      "79:\tlearn: 0.4972790\ttotal: 160ms\tremaining: 1.84s\n",
      "80:\tlearn: 0.4959765\ttotal: 162ms\tremaining: 1.83s\n",
      "81:\tlearn: 0.4947486\ttotal: 163ms\tremaining: 1.82s\n",
      "82:\tlearn: 0.4934147\ttotal: 164ms\tremaining: 1.81s\n",
      "83:\tlearn: 0.4920264\ttotal: 166ms\tremaining: 1.8s\n",
      "84:\tlearn: 0.4909907\ttotal: 167ms\tremaining: 1.79s\n",
      "85:\tlearn: 0.4899022\ttotal: 168ms\tremaining: 1.79s\n",
      "86:\tlearn: 0.4887623\ttotal: 169ms\tremaining: 1.78s\n",
      "87:\tlearn: 0.4873809\ttotal: 171ms\tremaining: 1.77s\n",
      "88:\tlearn: 0.4861622\ttotal: 172ms\tremaining: 1.76s\n",
      "89:\tlearn: 0.4851948\ttotal: 173ms\tremaining: 1.75s\n",
      "90:\tlearn: 0.4839150\ttotal: 175ms\tremaining: 1.75s\n",
      "91:\tlearn: 0.4824381\ttotal: 176ms\tremaining: 1.74s\n",
      "92:\tlearn: 0.4815575\ttotal: 177ms\tremaining: 1.73s\n",
      "93:\tlearn: 0.4805408\ttotal: 179ms\tremaining: 1.72s\n",
      "94:\tlearn: 0.4797231\ttotal: 180ms\tremaining: 1.71s\n",
      "95:\tlearn: 0.4788094\ttotal: 181ms\tremaining: 1.71s\n",
      "96:\tlearn: 0.4781171\ttotal: 182ms\tremaining: 1.7s\n",
      "97:\tlearn: 0.4770384\ttotal: 184ms\tremaining: 1.69s\n",
      "98:\tlearn: 0.4762406\ttotal: 185ms\tremaining: 1.69s\n",
      "99:\tlearn: 0.4756339\ttotal: 186ms\tremaining: 1.67s\n",
      "100:\tlearn: 0.4747263\ttotal: 187ms\tremaining: 1.67s\n",
      "101:\tlearn: 0.4738032\ttotal: 188ms\tremaining: 1.66s\n",
      "102:\tlearn: 0.4728172\ttotal: 190ms\tremaining: 1.65s\n",
      "103:\tlearn: 0.4718529\ttotal: 192ms\tremaining: 1.65s\n",
      "104:\tlearn: 0.4708201\ttotal: 193ms\tremaining: 1.64s\n",
      "105:\tlearn: 0.4699173\ttotal: 194ms\tremaining: 1.64s\n",
      "106:\tlearn: 0.4689940\ttotal: 195ms\tremaining: 1.63s\n",
      "107:\tlearn: 0.4680500\ttotal: 197ms\tremaining: 1.63s\n",
      "108:\tlearn: 0.4672863\ttotal: 198ms\tremaining: 1.62s\n",
      "109:\tlearn: 0.4664131\ttotal: 199ms\tremaining: 1.61s\n",
      "110:\tlearn: 0.4656667\ttotal: 201ms\tremaining: 1.61s\n",
      "111:\tlearn: 0.4646389\ttotal: 202ms\tremaining: 1.6s\n",
      "112:\tlearn: 0.4639664\ttotal: 203ms\tremaining: 1.59s\n",
      "113:\tlearn: 0.4631702\ttotal: 205ms\tremaining: 1.59s\n",
      "114:\tlearn: 0.4623920\ttotal: 206ms\tremaining: 1.58s\n",
      "115:\tlearn: 0.4615084\ttotal: 207ms\tremaining: 1.58s\n",
      "116:\tlearn: 0.4610519\ttotal: 208ms\tremaining: 1.57s\n",
      "117:\tlearn: 0.4598922\ttotal: 209ms\tremaining: 1.56s\n",
      "118:\tlearn: 0.4589556\ttotal: 210ms\tremaining: 1.56s\n",
      "119:\tlearn: 0.4584601\ttotal: 212ms\tremaining: 1.55s\n",
      "120:\tlearn: 0.4578290\ttotal: 213ms\tremaining: 1.55s\n",
      "121:\tlearn: 0.4571436\ttotal: 214ms\tremaining: 1.54s\n",
      "122:\tlearn: 0.4565285\ttotal: 216ms\tremaining: 1.54s\n",
      "123:\tlearn: 0.4558920\ttotal: 217ms\tremaining: 1.53s\n",
      "124:\tlearn: 0.4553287\ttotal: 218ms\tremaining: 1.53s\n",
      "125:\tlearn: 0.4548768\ttotal: 219ms\tremaining: 1.52s\n",
      "126:\tlearn: 0.4546074\ttotal: 221ms\tremaining: 1.52s\n",
      "127:\tlearn: 0.4539673\ttotal: 222ms\tremaining: 1.51s\n",
      "128:\tlearn: 0.4531941\ttotal: 223ms\tremaining: 1.51s\n",
      "129:\tlearn: 0.4526203\ttotal: 224ms\tremaining: 1.5s\n",
      "130:\tlearn: 0.4519903\ttotal: 226ms\tremaining: 1.5s\n",
      "131:\tlearn: 0.4514433\ttotal: 227ms\tremaining: 1.49s\n",
      "132:\tlearn: 0.4508152\ttotal: 228ms\tremaining: 1.49s\n",
      "133:\tlearn: 0.4497911\ttotal: 230ms\tremaining: 1.48s\n",
      "134:\tlearn: 0.4492069\ttotal: 231ms\tremaining: 1.48s\n",
      "135:\tlearn: 0.4485221\ttotal: 232ms\tremaining: 1.48s\n",
      "136:\tlearn: 0.4477664\ttotal: 234ms\tremaining: 1.47s\n",
      "137:\tlearn: 0.4472120\ttotal: 235ms\tremaining: 1.47s\n",
      "138:\tlearn: 0.4467154\ttotal: 236ms\tremaining: 1.46s\n",
      "139:\tlearn: 0.4460570\ttotal: 237ms\tremaining: 1.46s\n",
      "140:\tlearn: 0.4454881\ttotal: 239ms\tremaining: 1.45s\n",
      "141:\tlearn: 0.4448397\ttotal: 240ms\tremaining: 1.45s\n",
      "142:\tlearn: 0.4443425\ttotal: 241ms\tremaining: 1.45s\n",
      "143:\tlearn: 0.4435301\ttotal: 243ms\tremaining: 1.44s\n",
      "144:\tlearn: 0.4429325\ttotal: 244ms\tremaining: 1.44s\n",
      "145:\tlearn: 0.4425068\ttotal: 245ms\tremaining: 1.43s\n",
      "146:\tlearn: 0.4421139\ttotal: 246ms\tremaining: 1.43s\n",
      "147:\tlearn: 0.4415339\ttotal: 248ms\tremaining: 1.43s\n",
      "148:\tlearn: 0.4408624\ttotal: 249ms\tremaining: 1.42s\n",
      "149:\tlearn: 0.4402581\ttotal: 250ms\tremaining: 1.42s\n",
      "150:\tlearn: 0.4393870\ttotal: 252ms\tremaining: 1.41s\n",
      "151:\tlearn: 0.4390145\ttotal: 253ms\tremaining: 1.41s\n",
      "152:\tlearn: 0.4385274\ttotal: 254ms\tremaining: 1.41s\n",
      "153:\tlearn: 0.4380691\ttotal: 255ms\tremaining: 1.4s\n",
      "154:\tlearn: 0.4374462\ttotal: 257ms\tremaining: 1.4s\n",
      "155:\tlearn: 0.4369488\ttotal: 258ms\tremaining: 1.4s\n",
      "156:\tlearn: 0.4364982\ttotal: 259ms\tremaining: 1.39s\n",
      "157:\tlearn: 0.4362085\ttotal: 260ms\tremaining: 1.39s\n",
      "158:\tlearn: 0.4360520\ttotal: 261ms\tremaining: 1.38s\n",
      "159:\tlearn: 0.4356081\ttotal: 262ms\tremaining: 1.38s\n",
      "160:\tlearn: 0.4352063\ttotal: 264ms\tremaining: 1.37s\n",
      "161:\tlearn: 0.4346425\ttotal: 265ms\tremaining: 1.37s\n",
      "162:\tlearn: 0.4340809\ttotal: 266ms\tremaining: 1.37s\n",
      "163:\tlearn: 0.4336528\ttotal: 268ms\tremaining: 1.36s\n",
      "164:\tlearn: 0.4331037\ttotal: 269ms\tremaining: 1.36s\n",
      "165:\tlearn: 0.4325812\ttotal: 271ms\tremaining: 1.36s\n",
      "166:\tlearn: 0.4320122\ttotal: 272ms\tremaining: 1.36s\n",
      "167:\tlearn: 0.4312836\ttotal: 273ms\tremaining: 1.35s\n",
      "168:\tlearn: 0.4309305\ttotal: 275ms\tremaining: 1.35s\n",
      "169:\tlearn: 0.4303223\ttotal: 276ms\tremaining: 1.35s\n",
      "170:\tlearn: 0.4299252\ttotal: 277ms\tremaining: 1.34s\n",
      "171:\tlearn: 0.4297259\ttotal: 279ms\tremaining: 1.34s\n",
      "172:\tlearn: 0.4292863\ttotal: 280ms\tremaining: 1.34s\n",
      "173:\tlearn: 0.4286856\ttotal: 281ms\tremaining: 1.33s\n",
      "174:\tlearn: 0.4282063\ttotal: 283ms\tremaining: 1.33s\n",
      "175:\tlearn: 0.4276479\ttotal: 284ms\tremaining: 1.33s\n",
      "176:\tlearn: 0.4272400\ttotal: 285ms\tremaining: 1.32s\n",
      "177:\tlearn: 0.4268913\ttotal: 287ms\tremaining: 1.32s\n",
      "178:\tlearn: 0.4266067\ttotal: 288ms\tremaining: 1.32s\n",
      "179:\tlearn: 0.4260193\ttotal: 289ms\tremaining: 1.32s\n",
      "180:\tlearn: 0.4255328\ttotal: 290ms\tremaining: 1.31s\n",
      "181:\tlearn: 0.4251674\ttotal: 292ms\tremaining: 1.31s\n",
      "182:\tlearn: 0.4247287\ttotal: 293ms\tremaining: 1.31s\n",
      "183:\tlearn: 0.4244140\ttotal: 294ms\tremaining: 1.3s\n",
      "184:\tlearn: 0.4240169\ttotal: 295ms\tremaining: 1.3s\n",
      "185:\tlearn: 0.4235670\ttotal: 297ms\tremaining: 1.3s\n",
      "186:\tlearn: 0.4231970\ttotal: 298ms\tremaining: 1.29s\n",
      "187:\tlearn: 0.4227340\ttotal: 299ms\tremaining: 1.29s\n",
      "188:\tlearn: 0.4223307\ttotal: 301ms\tremaining: 1.29s\n",
      "189:\tlearn: 0.4218769\ttotal: 302ms\tremaining: 1.29s\n",
      "190:\tlearn: 0.4213578\ttotal: 303ms\tremaining: 1.28s\n",
      "191:\tlearn: 0.4210005\ttotal: 304ms\tremaining: 1.28s\n",
      "192:\tlearn: 0.4205749\ttotal: 306ms\tremaining: 1.28s\n",
      "193:\tlearn: 0.4201654\ttotal: 307ms\tremaining: 1.28s\n",
      "194:\tlearn: 0.4200521\ttotal: 308ms\tremaining: 1.27s\n",
      "195:\tlearn: 0.4194996\ttotal: 310ms\tremaining: 1.27s\n",
      "196:\tlearn: 0.4189701\ttotal: 311ms\tremaining: 1.27s\n",
      "197:\tlearn: 0.4183919\ttotal: 312ms\tremaining: 1.26s\n",
      "198:\tlearn: 0.4180615\ttotal: 313ms\tremaining: 1.26s\n",
      "199:\tlearn: 0.4176475\ttotal: 315ms\tremaining: 1.26s\n",
      "200:\tlearn: 0.4171462\ttotal: 316ms\tremaining: 1.26s\n",
      "201:\tlearn: 0.4165564\ttotal: 317ms\tremaining: 1.25s\n",
      "202:\tlearn: 0.4161638\ttotal: 319ms\tremaining: 1.25s\n",
      "203:\tlearn: 0.4157646\ttotal: 320ms\tremaining: 1.25s\n",
      "204:\tlearn: 0.4151947\ttotal: 321ms\tremaining: 1.25s\n",
      "205:\tlearn: 0.4145545\ttotal: 323ms\tremaining: 1.24s\n",
      "206:\tlearn: 0.4143541\ttotal: 324ms\tremaining: 1.24s\n",
      "207:\tlearn: 0.4139299\ttotal: 325ms\tremaining: 1.24s\n",
      "208:\tlearn: 0.4135045\ttotal: 327ms\tremaining: 1.24s\n",
      "209:\tlearn: 0.4131982\ttotal: 328ms\tremaining: 1.23s\n",
      "210:\tlearn: 0.4129849\ttotal: 329ms\tremaining: 1.23s\n",
      "211:\tlearn: 0.4126415\ttotal: 331ms\tremaining: 1.23s\n",
      "212:\tlearn: 0.4123896\ttotal: 332ms\tremaining: 1.23s\n",
      "213:\tlearn: 0.4120478\ttotal: 333ms\tremaining: 1.22s\n",
      "214:\tlearn: 0.4117253\ttotal: 335ms\tremaining: 1.22s\n",
      "215:\tlearn: 0.4112953\ttotal: 336ms\tremaining: 1.22s\n",
      "216:\tlearn: 0.4108549\ttotal: 338ms\tremaining: 1.22s\n",
      "217:\tlearn: 0.4103298\ttotal: 339ms\tremaining: 1.22s\n",
      "218:\tlearn: 0.4098680\ttotal: 340ms\tremaining: 1.21s\n",
      "219:\tlearn: 0.4095089\ttotal: 342ms\tremaining: 1.21s\n",
      "220:\tlearn: 0.4091936\ttotal: 343ms\tremaining: 1.21s\n",
      "221:\tlearn: 0.4090632\ttotal: 344ms\tremaining: 1.2s\n",
      "222:\tlearn: 0.4088631\ttotal: 345ms\tremaining: 1.2s\n",
      "223:\tlearn: 0.4085164\ttotal: 346ms\tremaining: 1.2s\n",
      "224:\tlearn: 0.4081284\ttotal: 348ms\tremaining: 1.2s\n",
      "225:\tlearn: 0.4079241\ttotal: 349ms\tremaining: 1.19s\n",
      "226:\tlearn: 0.4077616\ttotal: 350ms\tremaining: 1.19s\n",
      "227:\tlearn: 0.4073575\ttotal: 351ms\tremaining: 1.19s\n",
      "228:\tlearn: 0.4069450\ttotal: 353ms\tremaining: 1.19s\n",
      "229:\tlearn: 0.4066888\ttotal: 354ms\tremaining: 1.19s\n",
      "230:\tlearn: 0.4063459\ttotal: 355ms\tremaining: 1.18s\n",
      "231:\tlearn: 0.4060318\ttotal: 357ms\tremaining: 1.18s\n",
      "232:\tlearn: 0.4057282\ttotal: 358ms\tremaining: 1.18s\n",
      "233:\tlearn: 0.4053561\ttotal: 360ms\tremaining: 1.18s\n",
      "234:\tlearn: 0.4049336\ttotal: 361ms\tremaining: 1.18s\n",
      "235:\tlearn: 0.4047019\ttotal: 363ms\tremaining: 1.17s\n",
      "236:\tlearn: 0.4042013\ttotal: 364ms\tremaining: 1.17s\n",
      "237:\tlearn: 0.4039008\ttotal: 365ms\tremaining: 1.17s\n",
      "238:\tlearn: 0.4034733\ttotal: 366ms\tremaining: 1.17s\n",
      "239:\tlearn: 0.4031558\ttotal: 368ms\tremaining: 1.16s\n",
      "240:\tlearn: 0.4030644\ttotal: 369ms\tremaining: 1.16s\n",
      "241:\tlearn: 0.4028784\ttotal: 370ms\tremaining: 1.16s\n",
      "242:\tlearn: 0.4025741\ttotal: 371ms\tremaining: 1.16s\n",
      "243:\tlearn: 0.4022029\ttotal: 373ms\tremaining: 1.16s\n",
      "244:\tlearn: 0.4017602\ttotal: 375ms\tremaining: 1.15s\n",
      "245:\tlearn: 0.4014658\ttotal: 376ms\tremaining: 1.15s\n",
      "246:\tlearn: 0.4010348\ttotal: 377ms\tremaining: 1.15s\n",
      "247:\tlearn: 0.4007685\ttotal: 378ms\tremaining: 1.15s\n",
      "248:\tlearn: 0.4002793\ttotal: 380ms\tremaining: 1.15s\n",
      "249:\tlearn: 0.3999105\ttotal: 381ms\tremaining: 1.14s\n",
      "250:\tlearn: 0.3994627\ttotal: 382ms\tremaining: 1.14s\n",
      "251:\tlearn: 0.3991795\ttotal: 384ms\tremaining: 1.14s\n",
      "252:\tlearn: 0.3988526\ttotal: 385ms\tremaining: 1.14s\n",
      "253:\tlearn: 0.3983079\ttotal: 387ms\tremaining: 1.14s\n",
      "254:\tlearn: 0.3980711\ttotal: 388ms\tremaining: 1.13s\n",
      "255:\tlearn: 0.3975238\ttotal: 389ms\tremaining: 1.13s\n",
      "256:\tlearn: 0.3970691\ttotal: 391ms\tremaining: 1.13s\n",
      "257:\tlearn: 0.3967509\ttotal: 393ms\tremaining: 1.13s\n",
      "258:\tlearn: 0.3964642\ttotal: 394ms\tremaining: 1.13s\n",
      "259:\tlearn: 0.3962703\ttotal: 396ms\tremaining: 1.13s\n",
      "260:\tlearn: 0.3960462\ttotal: 397ms\tremaining: 1.12s\n",
      "261:\tlearn: 0.3958441\ttotal: 398ms\tremaining: 1.12s\n",
      "262:\tlearn: 0.3956380\ttotal: 400ms\tremaining: 1.12s\n",
      "263:\tlearn: 0.3954002\ttotal: 401ms\tremaining: 1.12s\n",
      "264:\tlearn: 0.3953394\ttotal: 402ms\tremaining: 1.11s\n",
      "265:\tlearn: 0.3950614\ttotal: 404ms\tremaining: 1.11s\n",
      "266:\tlearn: 0.3946204\ttotal: 405ms\tremaining: 1.11s\n",
      "267:\tlearn: 0.3943033\ttotal: 406ms\tremaining: 1.11s\n",
      "268:\tlearn: 0.3940089\ttotal: 408ms\tremaining: 1.11s\n",
      "269:\tlearn: 0.3937493\ttotal: 409ms\tremaining: 1.1s\n",
      "270:\tlearn: 0.3935340\ttotal: 410ms\tremaining: 1.1s\n",
      "271:\tlearn: 0.3932235\ttotal: 411ms\tremaining: 1.1s\n",
      "272:\tlearn: 0.3927989\ttotal: 413ms\tremaining: 1.1s\n",
      "273:\tlearn: 0.3925024\ttotal: 414ms\tremaining: 1.1s\n",
      "274:\tlearn: 0.3922609\ttotal: 415ms\tremaining: 1.09s\n",
      "275:\tlearn: 0.3919003\ttotal: 417ms\tremaining: 1.09s\n",
      "276:\tlearn: 0.3915847\ttotal: 419ms\tremaining: 1.09s\n",
      "277:\tlearn: 0.3913713\ttotal: 420ms\tremaining: 1.09s\n",
      "278:\tlearn: 0.3909061\ttotal: 421ms\tremaining: 1.09s\n",
      "279:\tlearn: 0.3908190\ttotal: 422ms\tremaining: 1.08s\n",
      "280:\tlearn: 0.3903794\ttotal: 424ms\tremaining: 1.08s\n",
      "281:\tlearn: 0.3901243\ttotal: 425ms\tremaining: 1.08s\n",
      "282:\tlearn: 0.3897240\ttotal: 426ms\tremaining: 1.08s\n",
      "283:\tlearn: 0.3894050\ttotal: 428ms\tremaining: 1.08s\n",
      "284:\tlearn: 0.3890832\ttotal: 429ms\tremaining: 1.07s\n",
      "285:\tlearn: 0.3889148\ttotal: 430ms\tremaining: 1.07s\n",
      "286:\tlearn: 0.3886605\ttotal: 431ms\tremaining: 1.07s\n",
      "287:\tlearn: 0.3879941\ttotal: 432ms\tremaining: 1.07s\n",
      "288:\tlearn: 0.3876363\ttotal: 434ms\tremaining: 1.07s\n",
      "289:\tlearn: 0.3873662\ttotal: 435ms\tremaining: 1.06s\n",
      "290:\tlearn: 0.3870606\ttotal: 436ms\tremaining: 1.06s\n",
      "291:\tlearn: 0.3867940\ttotal: 438ms\tremaining: 1.06s\n",
      "292:\tlearn: 0.3864381\ttotal: 439ms\tremaining: 1.06s\n",
      "293:\tlearn: 0.3863275\ttotal: 440ms\tremaining: 1.06s\n",
      "294:\tlearn: 0.3861212\ttotal: 442ms\tremaining: 1.05s\n",
      "295:\tlearn: 0.3857802\ttotal: 443ms\tremaining: 1.05s\n",
      "296:\tlearn: 0.3853308\ttotal: 444ms\tremaining: 1.05s\n",
      "297:\tlearn: 0.3850613\ttotal: 446ms\tremaining: 1.05s\n",
      "298:\tlearn: 0.3847587\ttotal: 447ms\tremaining: 1.05s\n",
      "299:\tlearn: 0.3844735\ttotal: 448ms\tremaining: 1.04s\n",
      "300:\tlearn: 0.3842246\ttotal: 449ms\tremaining: 1.04s\n",
      "301:\tlearn: 0.3840719\ttotal: 451ms\tremaining: 1.04s\n",
      "302:\tlearn: 0.3838922\ttotal: 452ms\tremaining: 1.04s\n",
      "303:\tlearn: 0.3833895\ttotal: 453ms\tremaining: 1.04s\n",
      "304:\tlearn: 0.3831755\ttotal: 455ms\tremaining: 1.04s\n",
      "305:\tlearn: 0.3829017\ttotal: 456ms\tremaining: 1.03s\n",
      "306:\tlearn: 0.3827488\ttotal: 457ms\tremaining: 1.03s\n",
      "307:\tlearn: 0.3824230\ttotal: 459ms\tremaining: 1.03s\n",
      "308:\tlearn: 0.3820954\ttotal: 460ms\tremaining: 1.03s\n",
      "309:\tlearn: 0.3819423\ttotal: 461ms\tremaining: 1.03s\n",
      "310:\tlearn: 0.3816233\ttotal: 462ms\tremaining: 1.02s\n",
      "311:\tlearn: 0.3814745\ttotal: 464ms\tremaining: 1.02s\n",
      "312:\tlearn: 0.3814024\ttotal: 465ms\tremaining: 1.02s\n",
      "313:\tlearn: 0.3811440\ttotal: 466ms\tremaining: 1.02s\n",
      "314:\tlearn: 0.3808757\ttotal: 467ms\tremaining: 1.02s\n",
      "315:\tlearn: 0.3804837\ttotal: 469ms\tremaining: 1.01s\n",
      "316:\tlearn: 0.3801533\ttotal: 470ms\tremaining: 1.01s\n",
      "317:\tlearn: 0.3798890\ttotal: 471ms\tremaining: 1.01s\n",
      "318:\tlearn: 0.3795861\ttotal: 472ms\tremaining: 1.01s\n",
      "319:\tlearn: 0.3792677\ttotal: 474ms\tremaining: 1.01s\n",
      "320:\tlearn: 0.3788053\ttotal: 475ms\tremaining: 1s\n",
      "321:\tlearn: 0.3785147\ttotal: 476ms\tremaining: 1s\n",
      "322:\tlearn: 0.3782799\ttotal: 477ms\tremaining: 1s\n",
      "323:\tlearn: 0.3780298\ttotal: 479ms\tremaining: 999ms\n",
      "324:\tlearn: 0.3777476\ttotal: 480ms\tremaining: 997ms\n",
      "325:\tlearn: 0.3775157\ttotal: 481ms\tremaining: 995ms\n",
      "326:\tlearn: 0.3771808\ttotal: 483ms\tremaining: 993ms\n",
      "327:\tlearn: 0.3769814\ttotal: 484ms\tremaining: 991ms\n",
      "328:\tlearn: 0.3766511\ttotal: 485ms\tremaining: 990ms\n",
      "329:\tlearn: 0.3763784\ttotal: 486ms\tremaining: 988ms\n",
      "330:\tlearn: 0.3760146\ttotal: 488ms\tremaining: 986ms\n",
      "331:\tlearn: 0.3758154\ttotal: 489ms\tremaining: 984ms\n",
      "332:\tlearn: 0.3756209\ttotal: 490ms\tremaining: 982ms\n",
      "333:\tlearn: 0.3752582\ttotal: 492ms\tremaining: 980ms\n",
      "334:\tlearn: 0.3750878\ttotal: 493ms\tremaining: 979ms\n",
      "335:\tlearn: 0.3749640\ttotal: 494ms\tremaining: 977ms\n",
      "336:\tlearn: 0.3745369\ttotal: 496ms\tremaining: 975ms\n",
      "337:\tlearn: 0.3744438\ttotal: 497ms\tremaining: 973ms\n",
      "338:\tlearn: 0.3743098\ttotal: 498ms\tremaining: 971ms\n",
      "339:\tlearn: 0.3738928\ttotal: 499ms\tremaining: 969ms\n",
      "340:\tlearn: 0.3737288\ttotal: 501ms\tremaining: 967ms\n",
      "341:\tlearn: 0.3733847\ttotal: 502ms\tremaining: 965ms\n",
      "342:\tlearn: 0.3730288\ttotal: 503ms\tremaining: 964ms\n",
      "343:\tlearn: 0.3729410\ttotal: 505ms\tremaining: 962ms\n",
      "344:\tlearn: 0.3729173\ttotal: 505ms\tremaining: 959ms\n",
      "345:\tlearn: 0.3726193\ttotal: 507ms\tremaining: 958ms\n",
      "346:\tlearn: 0.3724336\ttotal: 508ms\tremaining: 956ms\n",
      "347:\tlearn: 0.3722248\ttotal: 510ms\tremaining: 955ms\n",
      "348:\tlearn: 0.3717922\ttotal: 511ms\tremaining: 953ms\n",
      "349:\tlearn: 0.3715498\ttotal: 512ms\tremaining: 951ms\n",
      "350:\tlearn: 0.3712971\ttotal: 514ms\tremaining: 950ms\n",
      "351:\tlearn: 0.3709630\ttotal: 515ms\tremaining: 948ms\n",
      "352:\tlearn: 0.3707412\ttotal: 516ms\tremaining: 946ms\n",
      "353:\tlearn: 0.3704014\ttotal: 518ms\tremaining: 945ms\n",
      "354:\tlearn: 0.3701635\ttotal: 519ms\tremaining: 943ms\n",
      "355:\tlearn: 0.3699800\ttotal: 520ms\tremaining: 941ms\n",
      "356:\tlearn: 0.3696239\ttotal: 521ms\tremaining: 939ms\n",
      "357:\tlearn: 0.3692109\ttotal: 523ms\tremaining: 938ms\n",
      "358:\tlearn: 0.3691097\ttotal: 524ms\tremaining: 936ms\n",
      "359:\tlearn: 0.3689110\ttotal: 526ms\tremaining: 934ms\n",
      "360:\tlearn: 0.3686692\ttotal: 527ms\tremaining: 933ms\n",
      "361:\tlearn: 0.3682446\ttotal: 529ms\tremaining: 932ms\n",
      "362:\tlearn: 0.3679408\ttotal: 530ms\tremaining: 931ms\n",
      "363:\tlearn: 0.3676375\ttotal: 532ms\tremaining: 929ms\n",
      "364:\tlearn: 0.3672595\ttotal: 533ms\tremaining: 927ms\n",
      "365:\tlearn: 0.3670483\ttotal: 534ms\tremaining: 925ms\n",
      "366:\tlearn: 0.3667506\ttotal: 535ms\tremaining: 923ms\n",
      "367:\tlearn: 0.3665968\ttotal: 537ms\tremaining: 922ms\n",
      "368:\tlearn: 0.3664903\ttotal: 538ms\tremaining: 920ms\n",
      "369:\tlearn: 0.3663273\ttotal: 539ms\tremaining: 918ms\n",
      "370:\tlearn: 0.3662254\ttotal: 541ms\tremaining: 917ms\n",
      "371:\tlearn: 0.3659938\ttotal: 542ms\tremaining: 916ms\n",
      "372:\tlearn: 0.3657918\ttotal: 544ms\tremaining: 914ms\n",
      "373:\tlearn: 0.3654906\ttotal: 545ms\tremaining: 912ms\n",
      "374:\tlearn: 0.3653814\ttotal: 546ms\tremaining: 910ms\n",
      "375:\tlearn: 0.3652576\ttotal: 547ms\tremaining: 908ms\n",
      "376:\tlearn: 0.3650029\ttotal: 548ms\tremaining: 906ms\n",
      "377:\tlearn: 0.3648790\ttotal: 550ms\tremaining: 904ms\n",
      "378:\tlearn: 0.3644177\ttotal: 551ms\tremaining: 903ms\n",
      "379:\tlearn: 0.3643866\ttotal: 552ms\tremaining: 900ms\n",
      "380:\tlearn: 0.3642062\ttotal: 553ms\tremaining: 898ms\n",
      "381:\tlearn: 0.3637955\ttotal: 554ms\tremaining: 897ms\n",
      "382:\tlearn: 0.3636026\ttotal: 556ms\tremaining: 895ms\n",
      "383:\tlearn: 0.3634471\ttotal: 557ms\tremaining: 893ms\n",
      "384:\tlearn: 0.3631291\ttotal: 558ms\tremaining: 892ms\n",
      "385:\tlearn: 0.3628385\ttotal: 559ms\tremaining: 890ms\n",
      "386:\tlearn: 0.3623617\ttotal: 561ms\tremaining: 888ms\n",
      "387:\tlearn: 0.3623153\ttotal: 562ms\tremaining: 887ms\n",
      "388:\tlearn: 0.3620735\ttotal: 564ms\tremaining: 885ms\n",
      "389:\tlearn: 0.3617831\ttotal: 565ms\tremaining: 883ms\n",
      "390:\tlearn: 0.3616212\ttotal: 566ms\tremaining: 882ms\n",
      "391:\tlearn: 0.3614713\ttotal: 568ms\tremaining: 881ms\n",
      "392:\tlearn: 0.3611939\ttotal: 569ms\tremaining: 879ms\n",
      "393:\tlearn: 0.3609505\ttotal: 571ms\tremaining: 878ms\n",
      "394:\tlearn: 0.3607488\ttotal: 572ms\tremaining: 876ms\n",
      "395:\tlearn: 0.3605867\ttotal: 573ms\tremaining: 874ms\n",
      "396:\tlearn: 0.3604174\ttotal: 574ms\tremaining: 873ms\n",
      "397:\tlearn: 0.3601612\ttotal: 576ms\tremaining: 871ms\n",
      "398:\tlearn: 0.3599498\ttotal: 577ms\tremaining: 869ms\n",
      "399:\tlearn: 0.3597209\ttotal: 578ms\tremaining: 868ms\n",
      "400:\tlearn: 0.3594990\ttotal: 580ms\tremaining: 866ms\n",
      "401:\tlearn: 0.3591869\ttotal: 581ms\tremaining: 864ms\n",
      "402:\tlearn: 0.3590059\ttotal: 582ms\tremaining: 863ms\n",
      "403:\tlearn: 0.3589474\ttotal: 583ms\tremaining: 861ms\n",
      "404:\tlearn: 0.3587067\ttotal: 585ms\tremaining: 859ms\n",
      "405:\tlearn: 0.3585841\ttotal: 586ms\tremaining: 857ms\n",
      "406:\tlearn: 0.3584573\ttotal: 587ms\tremaining: 856ms\n",
      "407:\tlearn: 0.3581909\ttotal: 589ms\tremaining: 854ms\n",
      "408:\tlearn: 0.3580196\ttotal: 590ms\tremaining: 852ms\n",
      "409:\tlearn: 0.3577596\ttotal: 591ms\tremaining: 851ms\n",
      "410:\tlearn: 0.3576082\ttotal: 592ms\tremaining: 849ms\n",
      "411:\tlearn: 0.3573399\ttotal: 594ms\tremaining: 847ms\n",
      "412:\tlearn: 0.3570047\ttotal: 595ms\tremaining: 846ms\n",
      "413:\tlearn: 0.3567603\ttotal: 596ms\tremaining: 844ms\n",
      "414:\tlearn: 0.3565855\ttotal: 598ms\tremaining: 842ms\n",
      "415:\tlearn: 0.3563089\ttotal: 599ms\tremaining: 841ms\n",
      "416:\tlearn: 0.3558360\ttotal: 600ms\tremaining: 839ms\n",
      "417:\tlearn: 0.3557731\ttotal: 601ms\tremaining: 837ms\n",
      "418:\tlearn: 0.3555014\ttotal: 602ms\tremaining: 835ms\n",
      "419:\tlearn: 0.3552096\ttotal: 604ms\tremaining: 833ms\n",
      "420:\tlearn: 0.3549848\ttotal: 605ms\tremaining: 832ms\n",
      "421:\tlearn: 0.3546598\ttotal: 606ms\tremaining: 830ms\n",
      "422:\tlearn: 0.3543268\ttotal: 607ms\tremaining: 828ms\n",
      "423:\tlearn: 0.3541949\ttotal: 608ms\tremaining: 826ms\n",
      "424:\tlearn: 0.3539823\ttotal: 610ms\tremaining: 825ms\n",
      "425:\tlearn: 0.3537269\ttotal: 611ms\tremaining: 823ms\n",
      "426:\tlearn: 0.3534635\ttotal: 612ms\tremaining: 821ms\n",
      "427:\tlearn: 0.3531055\ttotal: 613ms\tremaining: 820ms\n",
      "428:\tlearn: 0.3529035\ttotal: 614ms\tremaining: 818ms\n",
      "429:\tlearn: 0.3526959\ttotal: 616ms\tremaining: 816ms\n",
      "430:\tlearn: 0.3524625\ttotal: 617ms\tremaining: 814ms\n",
      "431:\tlearn: 0.3522216\ttotal: 618ms\tremaining: 813ms\n",
      "432:\tlearn: 0.3521168\ttotal: 619ms\tremaining: 811ms\n",
      "433:\tlearn: 0.3518560\ttotal: 621ms\tremaining: 809ms\n",
      "434:\tlearn: 0.3516920\ttotal: 622ms\tremaining: 808ms\n",
      "435:\tlearn: 0.3515935\ttotal: 623ms\tremaining: 806ms\n",
      "436:\tlearn: 0.3513186\ttotal: 624ms\tremaining: 804ms\n",
      "437:\tlearn: 0.3511554\ttotal: 626ms\tremaining: 803ms\n",
      "438:\tlearn: 0.3509069\ttotal: 627ms\tremaining: 801ms\n",
      "439:\tlearn: 0.3507728\ttotal: 628ms\tremaining: 799ms\n",
      "440:\tlearn: 0.3507050\ttotal: 629ms\tremaining: 797ms\n",
      "441:\tlearn: 0.3503613\ttotal: 630ms\tremaining: 796ms\n",
      "442:\tlearn: 0.3501746\ttotal: 632ms\tremaining: 794ms\n",
      "443:\tlearn: 0.3500629\ttotal: 633ms\tremaining: 792ms\n",
      "444:\tlearn: 0.3499410\ttotal: 634ms\tremaining: 791ms\n",
      "445:\tlearn: 0.3496718\ttotal: 635ms\tremaining: 789ms\n",
      "446:\tlearn: 0.3494372\ttotal: 637ms\tremaining: 787ms\n",
      "447:\tlearn: 0.3492279\ttotal: 638ms\tremaining: 786ms\n",
      "448:\tlearn: 0.3490870\ttotal: 639ms\tremaining: 784ms\n",
      "449:\tlearn: 0.3488921\ttotal: 640ms\tremaining: 783ms\n",
      "450:\tlearn: 0.3487001\ttotal: 642ms\tremaining: 781ms\n",
      "451:\tlearn: 0.3485633\ttotal: 643ms\tremaining: 780ms\n",
      "452:\tlearn: 0.3483816\ttotal: 645ms\tremaining: 779ms\n",
      "453:\tlearn: 0.3482465\ttotal: 646ms\tremaining: 777ms\n",
      "454:\tlearn: 0.3481082\ttotal: 648ms\tremaining: 776ms\n",
      "455:\tlearn: 0.3479233\ttotal: 649ms\tremaining: 774ms\n",
      "456:\tlearn: 0.3477971\ttotal: 650ms\tremaining: 773ms\n",
      "457:\tlearn: 0.3474909\ttotal: 652ms\tremaining: 771ms\n",
      "458:\tlearn: 0.3474022\ttotal: 653ms\tremaining: 770ms\n",
      "459:\tlearn: 0.3472019\ttotal: 654ms\tremaining: 768ms\n",
      "460:\tlearn: 0.3469428\ttotal: 655ms\tremaining: 766ms\n",
      "461:\tlearn: 0.3466378\ttotal: 657ms\tremaining: 765ms\n",
      "462:\tlearn: 0.3465393\ttotal: 658ms\tremaining: 763ms\n",
      "463:\tlearn: 0.3464190\ttotal: 659ms\tremaining: 762ms\n",
      "464:\tlearn: 0.3462494\ttotal: 661ms\tremaining: 760ms\n",
      "465:\tlearn: 0.3459300\ttotal: 662ms\tremaining: 758ms\n",
      "466:\tlearn: 0.3458469\ttotal: 663ms\tremaining: 757ms\n",
      "467:\tlearn: 0.3455205\ttotal: 664ms\tremaining: 755ms\n",
      "468:\tlearn: 0.3453340\ttotal: 666ms\tremaining: 754ms\n",
      "469:\tlearn: 0.3451461\ttotal: 667ms\tremaining: 752ms\n",
      "470:\tlearn: 0.3450502\ttotal: 668ms\tremaining: 750ms\n",
      "471:\tlearn: 0.3448772\ttotal: 669ms\tremaining: 748ms\n",
      "472:\tlearn: 0.3445293\ttotal: 670ms\tremaining: 747ms\n",
      "473:\tlearn: 0.3442028\ttotal: 671ms\tremaining: 745ms\n",
      "474:\tlearn: 0.3440733\ttotal: 673ms\tremaining: 744ms\n",
      "475:\tlearn: 0.3439471\ttotal: 674ms\tremaining: 742ms\n",
      "476:\tlearn: 0.3436522\ttotal: 675ms\tremaining: 740ms\n",
      "477:\tlearn: 0.3433840\ttotal: 676ms\tremaining: 739ms\n",
      "478:\tlearn: 0.3430311\ttotal: 678ms\tremaining: 737ms\n",
      "479:\tlearn: 0.3428704\ttotal: 679ms\tremaining: 736ms\n",
      "480:\tlearn: 0.3428106\ttotal: 680ms\tremaining: 734ms\n",
      "481:\tlearn: 0.3425865\ttotal: 682ms\tremaining: 733ms\n",
      "482:\tlearn: 0.3423793\ttotal: 683ms\tremaining: 731ms\n",
      "483:\tlearn: 0.3421554\ttotal: 685ms\tremaining: 730ms\n",
      "484:\tlearn: 0.3420048\ttotal: 686ms\tremaining: 728ms\n",
      "485:\tlearn: 0.3417952\ttotal: 687ms\tremaining: 727ms\n",
      "486:\tlearn: 0.3415535\ttotal: 688ms\tremaining: 725ms\n",
      "487:\tlearn: 0.3413518\ttotal: 690ms\tremaining: 723ms\n",
      "488:\tlearn: 0.3411789\ttotal: 691ms\tremaining: 722ms\n",
      "489:\tlearn: 0.3410315\ttotal: 692ms\tremaining: 720ms\n",
      "490:\tlearn: 0.3408625\ttotal: 693ms\tremaining: 719ms\n",
      "491:\tlearn: 0.3406102\ttotal: 695ms\tremaining: 717ms\n",
      "492:\tlearn: 0.3405622\ttotal: 696ms\tremaining: 715ms\n",
      "493:\tlearn: 0.3404027\ttotal: 697ms\tremaining: 714ms\n",
      "494:\tlearn: 0.3403074\ttotal: 699ms\tremaining: 713ms\n",
      "495:\tlearn: 0.3400811\ttotal: 700ms\tremaining: 711ms\n",
      "496:\tlearn: 0.3398698\ttotal: 701ms\tremaining: 710ms\n",
      "497:\tlearn: 0.3396236\ttotal: 703ms\tremaining: 708ms\n",
      "498:\tlearn: 0.3395092\ttotal: 704ms\tremaining: 707ms\n",
      "499:\tlearn: 0.3392863\ttotal: 705ms\tremaining: 705ms\n",
      "500:\tlearn: 0.3391349\ttotal: 706ms\tremaining: 704ms\n",
      "501:\tlearn: 0.3390176\ttotal: 708ms\tremaining: 702ms\n",
      "502:\tlearn: 0.3386680\ttotal: 709ms\tremaining: 701ms\n",
      "503:\tlearn: 0.3384374\ttotal: 711ms\tremaining: 699ms\n",
      "504:\tlearn: 0.3383433\ttotal: 712ms\tremaining: 698ms\n",
      "505:\tlearn: 0.3379736\ttotal: 713ms\tremaining: 696ms\n",
      "506:\tlearn: 0.3378940\ttotal: 714ms\tremaining: 695ms\n",
      "507:\tlearn: 0.3376961\ttotal: 716ms\tremaining: 693ms\n",
      "508:\tlearn: 0.3376095\ttotal: 717ms\tremaining: 692ms\n",
      "509:\tlearn: 0.3374424\ttotal: 718ms\tremaining: 690ms\n",
      "510:\tlearn: 0.3371229\ttotal: 719ms\tremaining: 688ms\n",
      "511:\tlearn: 0.3370194\ttotal: 721ms\tremaining: 687ms\n",
      "512:\tlearn: 0.3368329\ttotal: 722ms\tremaining: 685ms\n",
      "513:\tlearn: 0.3365576\ttotal: 723ms\tremaining: 684ms\n",
      "514:\tlearn: 0.3363978\ttotal: 725ms\tremaining: 682ms\n",
      "515:\tlearn: 0.3362974\ttotal: 726ms\tremaining: 681ms\n",
      "516:\tlearn: 0.3360180\ttotal: 727ms\tremaining: 679ms\n",
      "517:\tlearn: 0.3358559\ttotal: 728ms\tremaining: 678ms\n",
      "518:\tlearn: 0.3355472\ttotal: 730ms\tremaining: 676ms\n",
      "519:\tlearn: 0.3352633\ttotal: 731ms\tremaining: 675ms\n",
      "520:\tlearn: 0.3351357\ttotal: 732ms\tremaining: 673ms\n",
      "521:\tlearn: 0.3349284\ttotal: 734ms\tremaining: 672ms\n",
      "522:\tlearn: 0.3347480\ttotal: 735ms\tremaining: 670ms\n",
      "523:\tlearn: 0.3346138\ttotal: 736ms\tremaining: 669ms\n",
      "524:\tlearn: 0.3344620\ttotal: 738ms\tremaining: 667ms\n",
      "525:\tlearn: 0.3342281\ttotal: 739ms\tremaining: 666ms\n",
      "526:\tlearn: 0.3341639\ttotal: 740ms\tremaining: 664ms\n",
      "527:\tlearn: 0.3338344\ttotal: 742ms\tremaining: 663ms\n",
      "528:\tlearn: 0.3336088\ttotal: 743ms\tremaining: 661ms\n",
      "529:\tlearn: 0.3334036\ttotal: 744ms\tremaining: 660ms\n",
      "530:\tlearn: 0.3332778\ttotal: 745ms\tremaining: 658ms\n",
      "531:\tlearn: 0.3330087\ttotal: 747ms\tremaining: 657ms\n",
      "532:\tlearn: 0.3326946\ttotal: 748ms\tremaining: 655ms\n",
      "533:\tlearn: 0.3325516\ttotal: 749ms\tremaining: 654ms\n",
      "534:\tlearn: 0.3324042\ttotal: 751ms\tremaining: 652ms\n",
      "535:\tlearn: 0.3322153\ttotal: 752ms\tremaining: 651ms\n",
      "536:\tlearn: 0.3320523\ttotal: 753ms\tremaining: 649ms\n",
      "537:\tlearn: 0.3319441\ttotal: 755ms\tremaining: 648ms\n",
      "538:\tlearn: 0.3314737\ttotal: 756ms\tremaining: 647ms\n",
      "539:\tlearn: 0.3312003\ttotal: 757ms\tremaining: 645ms\n",
      "540:\tlearn: 0.3310643\ttotal: 758ms\tremaining: 644ms\n",
      "541:\tlearn: 0.3307420\ttotal: 760ms\tremaining: 642ms\n",
      "542:\tlearn: 0.3306447\ttotal: 761ms\tremaining: 640ms\n",
      "543:\tlearn: 0.3304186\ttotal: 762ms\tremaining: 639ms\n",
      "544:\tlearn: 0.3302820\ttotal: 763ms\tremaining: 637ms\n",
      "545:\tlearn: 0.3299605\ttotal: 765ms\tremaining: 636ms\n",
      "546:\tlearn: 0.3296506\ttotal: 766ms\tremaining: 634ms\n",
      "547:\tlearn: 0.3294907\ttotal: 767ms\tremaining: 633ms\n",
      "548:\tlearn: 0.3293661\ttotal: 768ms\tremaining: 631ms\n",
      "549:\tlearn: 0.3292024\ttotal: 770ms\tremaining: 630ms\n",
      "550:\tlearn: 0.3289157\ttotal: 771ms\tremaining: 628ms\n",
      "551:\tlearn: 0.3288226\ttotal: 772ms\tremaining: 627ms\n",
      "552:\tlearn: 0.3285161\ttotal: 773ms\tremaining: 625ms\n",
      "553:\tlearn: 0.3283668\ttotal: 775ms\tremaining: 624ms\n",
      "554:\tlearn: 0.3280037\ttotal: 776ms\tremaining: 622ms\n",
      "555:\tlearn: 0.3278419\ttotal: 777ms\tremaining: 621ms\n",
      "556:\tlearn: 0.3274021\ttotal: 779ms\tremaining: 619ms\n",
      "557:\tlearn: 0.3271728\ttotal: 780ms\tremaining: 618ms\n",
      "558:\tlearn: 0.3268238\ttotal: 781ms\tremaining: 616ms\n",
      "559:\tlearn: 0.3265989\ttotal: 783ms\tremaining: 615ms\n",
      "560:\tlearn: 0.3263900\ttotal: 784ms\tremaining: 613ms\n",
      "561:\tlearn: 0.3261069\ttotal: 785ms\tremaining: 612ms\n",
      "562:\tlearn: 0.3259333\ttotal: 787ms\tremaining: 611ms\n",
      "563:\tlearn: 0.3257277\ttotal: 788ms\tremaining: 609ms\n",
      "564:\tlearn: 0.3255113\ttotal: 790ms\tremaining: 608ms\n",
      "565:\tlearn: 0.3252581\ttotal: 791ms\tremaining: 607ms\n",
      "566:\tlearn: 0.3251097\ttotal: 792ms\tremaining: 605ms\n",
      "567:\tlearn: 0.3249854\ttotal: 794ms\tremaining: 604ms\n",
      "568:\tlearn: 0.3248409\ttotal: 795ms\tremaining: 602ms\n",
      "569:\tlearn: 0.3247706\ttotal: 796ms\tremaining: 601ms\n",
      "570:\tlearn: 0.3246643\ttotal: 797ms\tremaining: 599ms\n",
      "571:\tlearn: 0.3244888\ttotal: 799ms\tremaining: 598ms\n",
      "572:\tlearn: 0.3243011\ttotal: 800ms\tremaining: 596ms\n",
      "573:\tlearn: 0.3241507\ttotal: 802ms\tremaining: 595ms\n",
      "574:\tlearn: 0.3240178\ttotal: 803ms\tremaining: 593ms\n",
      "575:\tlearn: 0.3235617\ttotal: 804ms\tremaining: 592ms\n",
      "576:\tlearn: 0.3231529\ttotal: 806ms\tremaining: 591ms\n",
      "577:\tlearn: 0.3229144\ttotal: 807ms\tremaining: 589ms\n",
      "578:\tlearn: 0.3225614\ttotal: 808ms\tremaining: 588ms\n",
      "579:\tlearn: 0.3223411\ttotal: 810ms\tremaining: 586ms\n",
      "580:\tlearn: 0.3219736\ttotal: 811ms\tremaining: 585ms\n",
      "581:\tlearn: 0.3219348\ttotal: 812ms\tremaining: 583ms\n",
      "582:\tlearn: 0.3218310\ttotal: 813ms\tremaining: 582ms\n",
      "583:\tlearn: 0.3216837\ttotal: 815ms\tremaining: 580ms\n",
      "584:\tlearn: 0.3214632\ttotal: 816ms\tremaining: 579ms\n",
      "585:\tlearn: 0.3213280\ttotal: 817ms\tremaining: 577ms\n",
      "586:\tlearn: 0.3209538\ttotal: 819ms\tremaining: 576ms\n",
      "587:\tlearn: 0.3207263\ttotal: 820ms\tremaining: 575ms\n",
      "588:\tlearn: 0.3206366\ttotal: 822ms\tremaining: 574ms\n",
      "589:\tlearn: 0.3203655\ttotal: 823ms\tremaining: 572ms\n",
      "590:\tlearn: 0.3201640\ttotal: 825ms\tremaining: 571ms\n",
      "591:\tlearn: 0.3200076\ttotal: 826ms\tremaining: 569ms\n",
      "592:\tlearn: 0.3198251\ttotal: 828ms\tremaining: 568ms\n",
      "593:\tlearn: 0.3196923\ttotal: 829ms\tremaining: 567ms\n",
      "594:\tlearn: 0.3194841\ttotal: 830ms\tremaining: 565ms\n",
      "595:\tlearn: 0.3193577\ttotal: 831ms\tremaining: 564ms\n",
      "596:\tlearn: 0.3191565\ttotal: 833ms\tremaining: 563ms\n",
      "597:\tlearn: 0.3189935\ttotal: 835ms\tremaining: 561ms\n",
      "598:\tlearn: 0.3188645\ttotal: 837ms\tremaining: 560ms\n",
      "599:\tlearn: 0.3187087\ttotal: 839ms\tremaining: 559ms\n",
      "600:\tlearn: 0.3183956\ttotal: 840ms\tremaining: 558ms\n",
      "601:\tlearn: 0.3181863\ttotal: 841ms\tremaining: 556ms\n",
      "602:\tlearn: 0.3179741\ttotal: 843ms\tremaining: 555ms\n",
      "603:\tlearn: 0.3179612\ttotal: 844ms\tremaining: 553ms\n",
      "604:\tlearn: 0.3177631\ttotal: 845ms\tremaining: 552ms\n",
      "605:\tlearn: 0.3176877\ttotal: 846ms\tremaining: 550ms\n",
      "606:\tlearn: 0.3175253\ttotal: 848ms\tremaining: 549ms\n",
      "607:\tlearn: 0.3174025\ttotal: 849ms\tremaining: 547ms\n",
      "608:\tlearn: 0.3172096\ttotal: 851ms\tremaining: 546ms\n",
      "609:\tlearn: 0.3169297\ttotal: 852ms\tremaining: 545ms\n",
      "610:\tlearn: 0.3167329\ttotal: 854ms\tremaining: 544ms\n",
      "611:\tlearn: 0.3165045\ttotal: 856ms\tremaining: 542ms\n",
      "612:\tlearn: 0.3162050\ttotal: 857ms\tremaining: 541ms\n",
      "613:\tlearn: 0.3159544\ttotal: 858ms\tremaining: 540ms\n",
      "614:\tlearn: 0.3157828\ttotal: 859ms\tremaining: 538ms\n",
      "615:\tlearn: 0.3155894\ttotal: 861ms\tremaining: 537ms\n",
      "616:\tlearn: 0.3154006\ttotal: 862ms\tremaining: 535ms\n",
      "617:\tlearn: 0.3152128\ttotal: 864ms\tremaining: 534ms\n",
      "618:\tlearn: 0.3151403\ttotal: 865ms\tremaining: 532ms\n",
      "619:\tlearn: 0.3147390\ttotal: 866ms\tremaining: 531ms\n",
      "620:\tlearn: 0.3146216\ttotal: 868ms\tremaining: 530ms\n",
      "621:\tlearn: 0.3145769\ttotal: 869ms\tremaining: 528ms\n",
      "622:\tlearn: 0.3142234\ttotal: 870ms\tremaining: 527ms\n",
      "623:\tlearn: 0.3141249\ttotal: 872ms\tremaining: 525ms\n",
      "624:\tlearn: 0.3139405\ttotal: 873ms\tremaining: 524ms\n",
      "625:\tlearn: 0.3138281\ttotal: 874ms\tremaining: 522ms\n",
      "626:\tlearn: 0.3137004\ttotal: 876ms\tremaining: 521ms\n",
      "627:\tlearn: 0.3136037\ttotal: 878ms\tremaining: 520ms\n",
      "628:\tlearn: 0.3132888\ttotal: 879ms\tremaining: 519ms\n",
      "629:\tlearn: 0.3130161\ttotal: 881ms\tremaining: 517ms\n",
      "630:\tlearn: 0.3128080\ttotal: 882ms\tremaining: 516ms\n",
      "631:\tlearn: 0.3126236\ttotal: 884ms\tremaining: 515ms\n",
      "632:\tlearn: 0.3123715\ttotal: 885ms\tremaining: 513ms\n",
      "633:\tlearn: 0.3122290\ttotal: 887ms\tremaining: 512ms\n",
      "634:\tlearn: 0.3120875\ttotal: 888ms\tremaining: 510ms\n",
      "635:\tlearn: 0.3119260\ttotal: 889ms\tremaining: 509ms\n",
      "636:\tlearn: 0.3118133\ttotal: 891ms\tremaining: 508ms\n",
      "637:\tlearn: 0.3116858\ttotal: 893ms\tremaining: 507ms\n",
      "638:\tlearn: 0.3114907\ttotal: 894ms\tremaining: 505ms\n",
      "639:\tlearn: 0.3112471\ttotal: 896ms\tremaining: 504ms\n",
      "640:\tlearn: 0.3112175\ttotal: 897ms\tremaining: 503ms\n",
      "641:\tlearn: 0.3110604\ttotal: 899ms\tremaining: 501ms\n",
      "642:\tlearn: 0.3106856\ttotal: 900ms\tremaining: 500ms\n",
      "643:\tlearn: 0.3104407\ttotal: 901ms\tremaining: 498ms\n",
      "644:\tlearn: 0.3102498\ttotal: 903ms\tremaining: 497ms\n",
      "645:\tlearn: 0.3100298\ttotal: 904ms\tremaining: 495ms\n",
      "646:\tlearn: 0.3099178\ttotal: 905ms\tremaining: 494ms\n",
      "647:\tlearn: 0.3098465\ttotal: 907ms\tremaining: 493ms\n",
      "648:\tlearn: 0.3095656\ttotal: 909ms\tremaining: 491ms\n",
      "649:\tlearn: 0.3094409\ttotal: 910ms\tremaining: 490ms\n",
      "650:\tlearn: 0.3092194\ttotal: 912ms\tremaining: 489ms\n",
      "651:\tlearn: 0.3090387\ttotal: 913ms\tremaining: 487ms\n",
      "652:\tlearn: 0.3088497\ttotal: 915ms\tremaining: 486ms\n",
      "653:\tlearn: 0.3087224\ttotal: 916ms\tremaining: 485ms\n",
      "654:\tlearn: 0.3084037\ttotal: 917ms\tremaining: 483ms\n",
      "655:\tlearn: 0.3082700\ttotal: 918ms\tremaining: 482ms\n",
      "656:\tlearn: 0.3081086\ttotal: 920ms\tremaining: 480ms\n",
      "657:\tlearn: 0.3078744\ttotal: 921ms\tremaining: 479ms\n",
      "658:\tlearn: 0.3075261\ttotal: 923ms\tremaining: 478ms\n",
      "659:\tlearn: 0.3072302\ttotal: 924ms\tremaining: 476ms\n",
      "660:\tlearn: 0.3070570\ttotal: 926ms\tremaining: 475ms\n",
      "661:\tlearn: 0.3070184\ttotal: 927ms\tremaining: 473ms\n",
      "662:\tlearn: 0.3067527\ttotal: 928ms\tremaining: 472ms\n",
      "663:\tlearn: 0.3065301\ttotal: 929ms\tremaining: 470ms\n",
      "664:\tlearn: 0.3063332\ttotal: 931ms\tremaining: 469ms\n",
      "665:\tlearn: 0.3063291\ttotal: 931ms\tremaining: 467ms\n",
      "666:\tlearn: 0.3060676\ttotal: 933ms\tremaining: 466ms\n",
      "667:\tlearn: 0.3059435\ttotal: 934ms\tremaining: 464ms\n",
      "668:\tlearn: 0.3057419\ttotal: 935ms\tremaining: 463ms\n",
      "669:\tlearn: 0.3056383\ttotal: 937ms\tremaining: 462ms\n",
      "670:\tlearn: 0.3054459\ttotal: 939ms\tremaining: 460ms\n",
      "671:\tlearn: 0.3050671\ttotal: 940ms\tremaining: 459ms\n",
      "672:\tlearn: 0.3049888\ttotal: 942ms\tremaining: 458ms\n",
      "673:\tlearn: 0.3047492\ttotal: 943ms\tremaining: 456ms\n",
      "674:\tlearn: 0.3046438\ttotal: 944ms\tremaining: 455ms\n",
      "675:\tlearn: 0.3044164\ttotal: 946ms\tremaining: 453ms\n",
      "676:\tlearn: 0.3040466\ttotal: 947ms\tremaining: 452ms\n",
      "677:\tlearn: 0.3039351\ttotal: 948ms\tremaining: 450ms\n",
      "678:\tlearn: 0.3036668\ttotal: 950ms\tremaining: 449ms\n",
      "679:\tlearn: 0.3035402\ttotal: 951ms\tremaining: 447ms\n",
      "680:\tlearn: 0.3033960\ttotal: 952ms\tremaining: 446ms\n",
      "681:\tlearn: 0.3031692\ttotal: 954ms\tremaining: 445ms\n",
      "682:\tlearn: 0.3028756\ttotal: 955ms\tremaining: 443ms\n",
      "683:\tlearn: 0.3026086\ttotal: 956ms\tremaining: 442ms\n",
      "684:\tlearn: 0.3024871\ttotal: 958ms\tremaining: 440ms\n",
      "685:\tlearn: 0.3022518\ttotal: 959ms\tremaining: 439ms\n",
      "686:\tlearn: 0.3020164\ttotal: 960ms\tremaining: 438ms\n",
      "687:\tlearn: 0.3017930\ttotal: 962ms\tremaining: 436ms\n",
      "688:\tlearn: 0.3016140\ttotal: 963ms\tremaining: 435ms\n",
      "689:\tlearn: 0.3014271\ttotal: 964ms\tremaining: 433ms\n",
      "690:\tlearn: 0.3012275\ttotal: 965ms\tremaining: 432ms\n",
      "691:\tlearn: 0.3010398\ttotal: 967ms\tremaining: 430ms\n",
      "692:\tlearn: 0.3009344\ttotal: 968ms\tremaining: 429ms\n",
      "693:\tlearn: 0.3006471\ttotal: 969ms\tremaining: 427ms\n",
      "694:\tlearn: 0.3005266\ttotal: 971ms\tremaining: 426ms\n",
      "695:\tlearn: 0.3004641\ttotal: 973ms\tremaining: 425ms\n",
      "696:\tlearn: 0.3003582\ttotal: 974ms\tremaining: 423ms\n",
      "697:\tlearn: 0.3001032\ttotal: 976ms\tremaining: 422ms\n",
      "698:\tlearn: 0.2998442\ttotal: 977ms\tremaining: 421ms\n",
      "699:\tlearn: 0.2996251\ttotal: 978ms\tremaining: 419ms\n",
      "700:\tlearn: 0.2994156\ttotal: 980ms\tremaining: 418ms\n",
      "701:\tlearn: 0.2991815\ttotal: 981ms\tremaining: 416ms\n",
      "702:\tlearn: 0.2991308\ttotal: 983ms\tremaining: 415ms\n",
      "703:\tlearn: 0.2990702\ttotal: 984ms\tremaining: 414ms\n",
      "704:\tlearn: 0.2989142\ttotal: 986ms\tremaining: 412ms\n",
      "705:\tlearn: 0.2987770\ttotal: 987ms\tremaining: 411ms\n",
      "706:\tlearn: 0.2985948\ttotal: 989ms\tremaining: 410ms\n",
      "707:\tlearn: 0.2984087\ttotal: 990ms\tremaining: 408ms\n",
      "708:\tlearn: 0.2981787\ttotal: 991ms\tremaining: 407ms\n",
      "709:\tlearn: 0.2978769\ttotal: 993ms\tremaining: 406ms\n",
      "710:\tlearn: 0.2977339\ttotal: 994ms\tremaining: 404ms\n",
      "711:\tlearn: 0.2975585\ttotal: 995ms\tremaining: 403ms\n",
      "712:\tlearn: 0.2972667\ttotal: 997ms\tremaining: 401ms\n",
      "713:\tlearn: 0.2971292\ttotal: 999ms\tremaining: 400ms\n",
      "714:\tlearn: 0.2970314\ttotal: 1s\tremaining: 399ms\n",
      "715:\tlearn: 0.2968827\ttotal: 1s\tremaining: 397ms\n",
      "716:\tlearn: 0.2966453\ttotal: 1s\tremaining: 396ms\n",
      "717:\tlearn: 0.2965691\ttotal: 1s\tremaining: 395ms\n",
      "718:\tlearn: 0.2963390\ttotal: 1.01s\tremaining: 393ms\n",
      "719:\tlearn: 0.2962705\ttotal: 1.01s\tremaining: 392ms\n",
      "720:\tlearn: 0.2960364\ttotal: 1.01s\tremaining: 390ms\n",
      "721:\tlearn: 0.2958807\ttotal: 1.01s\tremaining: 389ms\n",
      "722:\tlearn: 0.2957748\ttotal: 1.01s\tremaining: 388ms\n",
      "723:\tlearn: 0.2956394\ttotal: 1.01s\tremaining: 386ms\n",
      "724:\tlearn: 0.2953717\ttotal: 1.01s\tremaining: 385ms\n",
      "725:\tlearn: 0.2952670\ttotal: 1.01s\tremaining: 383ms\n",
      "726:\tlearn: 0.2950094\ttotal: 1.02s\tremaining: 382ms\n",
      "727:\tlearn: 0.2948926\ttotal: 1.02s\tremaining: 381ms\n",
      "728:\tlearn: 0.2946592\ttotal: 1.02s\tremaining: 379ms\n",
      "729:\tlearn: 0.2944381\ttotal: 1.02s\tremaining: 378ms\n",
      "730:\tlearn: 0.2942600\ttotal: 1.02s\tremaining: 377ms\n",
      "731:\tlearn: 0.2940189\ttotal: 1.02s\tremaining: 375ms\n",
      "732:\tlearn: 0.2939027\ttotal: 1.03s\tremaining: 374ms\n",
      "733:\tlearn: 0.2937040\ttotal: 1.03s\tremaining: 373ms\n",
      "734:\tlearn: 0.2936139\ttotal: 1.03s\tremaining: 371ms\n",
      "735:\tlearn: 0.2934965\ttotal: 1.03s\tremaining: 370ms\n",
      "736:\tlearn: 0.2934319\ttotal: 1.03s\tremaining: 368ms\n",
      "737:\tlearn: 0.2933314\ttotal: 1.03s\tremaining: 367ms\n",
      "738:\tlearn: 0.2931659\ttotal: 1.03s\tremaining: 366ms\n",
      "739:\tlearn: 0.2929878\ttotal: 1.04s\tremaining: 364ms\n",
      "740:\tlearn: 0.2926691\ttotal: 1.04s\tremaining: 363ms\n",
      "741:\tlearn: 0.2924582\ttotal: 1.04s\tremaining: 361ms\n",
      "742:\tlearn: 0.2922690\ttotal: 1.04s\tremaining: 360ms\n",
      "743:\tlearn: 0.2920233\ttotal: 1.04s\tremaining: 359ms\n",
      "744:\tlearn: 0.2919506\ttotal: 1.04s\tremaining: 357ms\n",
      "745:\tlearn: 0.2917964\ttotal: 1.04s\tremaining: 356ms\n",
      "746:\tlearn: 0.2916390\ttotal: 1.05s\tremaining: 355ms\n",
      "747:\tlearn: 0.2914209\ttotal: 1.05s\tremaining: 353ms\n",
      "748:\tlearn: 0.2913317\ttotal: 1.05s\tremaining: 352ms\n",
      "749:\tlearn: 0.2912142\ttotal: 1.05s\tremaining: 350ms\n",
      "750:\tlearn: 0.2911111\ttotal: 1.05s\tremaining: 349ms\n",
      "751:\tlearn: 0.2908735\ttotal: 1.05s\tremaining: 347ms\n",
      "752:\tlearn: 0.2908497\ttotal: 1.05s\tremaining: 346ms\n",
      "753:\tlearn: 0.2906995\ttotal: 1.05s\tremaining: 344ms\n",
      "754:\tlearn: 0.2905894\ttotal: 1.06s\tremaining: 343ms\n",
      "755:\tlearn: 0.2904633\ttotal: 1.06s\tremaining: 342ms\n",
      "756:\tlearn: 0.2903697\ttotal: 1.06s\tremaining: 340ms\n",
      "757:\tlearn: 0.2902316\ttotal: 1.06s\tremaining: 339ms\n",
      "758:\tlearn: 0.2901544\ttotal: 1.06s\tremaining: 337ms\n",
      "759:\tlearn: 0.2898430\ttotal: 1.06s\tremaining: 336ms\n",
      "760:\tlearn: 0.2895466\ttotal: 1.06s\tremaining: 334ms\n",
      "761:\tlearn: 0.2894468\ttotal: 1.06s\tremaining: 333ms\n",
      "762:\tlearn: 0.2894032\ttotal: 1.07s\tremaining: 331ms\n",
      "763:\tlearn: 0.2891326\ttotal: 1.07s\tremaining: 330ms\n",
      "764:\tlearn: 0.2887997\ttotal: 1.07s\tremaining: 329ms\n",
      "765:\tlearn: 0.2886944\ttotal: 1.07s\tremaining: 327ms\n",
      "766:\tlearn: 0.2885855\ttotal: 1.07s\tremaining: 326ms\n",
      "767:\tlearn: 0.2883547\ttotal: 1.07s\tremaining: 324ms\n",
      "768:\tlearn: 0.2881850\ttotal: 1.07s\tremaining: 323ms\n",
      "769:\tlearn: 0.2880701\ttotal: 1.08s\tremaining: 322ms\n",
      "770:\tlearn: 0.2879671\ttotal: 1.08s\tremaining: 320ms\n",
      "771:\tlearn: 0.2877205\ttotal: 1.08s\tremaining: 319ms\n",
      "772:\tlearn: 0.2877071\ttotal: 1.08s\tremaining: 317ms\n",
      "773:\tlearn: 0.2876298\ttotal: 1.08s\tremaining: 316ms\n",
      "774:\tlearn: 0.2875958\ttotal: 1.08s\tremaining: 314ms\n",
      "775:\tlearn: 0.2872282\ttotal: 1.08s\tremaining: 313ms\n",
      "776:\tlearn: 0.2870704\ttotal: 1.08s\tremaining: 311ms\n",
      "777:\tlearn: 0.2869472\ttotal: 1.09s\tremaining: 310ms\n",
      "778:\tlearn: 0.2868224\ttotal: 1.09s\tremaining: 309ms\n",
      "779:\tlearn: 0.2866134\ttotal: 1.09s\tremaining: 307ms\n",
      "780:\tlearn: 0.2863807\ttotal: 1.09s\tremaining: 306ms\n",
      "781:\tlearn: 0.2861531\ttotal: 1.09s\tremaining: 304ms\n",
      "782:\tlearn: 0.2861368\ttotal: 1.09s\tremaining: 303ms\n",
      "783:\tlearn: 0.2859497\ttotal: 1.09s\tremaining: 302ms\n",
      "784:\tlearn: 0.2856675\ttotal: 1.09s\tremaining: 300ms\n",
      "785:\tlearn: 0.2855744\ttotal: 1.1s\tremaining: 299ms\n",
      "786:\tlearn: 0.2854654\ttotal: 1.1s\tremaining: 297ms\n",
      "787:\tlearn: 0.2853164\ttotal: 1.1s\tremaining: 296ms\n",
      "788:\tlearn: 0.2850540\ttotal: 1.1s\tremaining: 294ms\n",
      "789:\tlearn: 0.2849980\ttotal: 1.1s\tremaining: 293ms\n",
      "790:\tlearn: 0.2849158\ttotal: 1.1s\tremaining: 292ms\n",
      "791:\tlearn: 0.2846386\ttotal: 1.1s\tremaining: 290ms\n",
      "792:\tlearn: 0.2844839\ttotal: 1.1s\tremaining: 289ms\n",
      "793:\tlearn: 0.2843442\ttotal: 1.11s\tremaining: 287ms\n",
      "794:\tlearn: 0.2843264\ttotal: 1.11s\tremaining: 286ms\n",
      "795:\tlearn: 0.2841203\ttotal: 1.11s\tremaining: 284ms\n",
      "796:\tlearn: 0.2838962\ttotal: 1.11s\tremaining: 283ms\n",
      "797:\tlearn: 0.2837835\ttotal: 1.11s\tremaining: 282ms\n",
      "798:\tlearn: 0.2836655\ttotal: 1.11s\tremaining: 280ms\n",
      "799:\tlearn: 0.2835696\ttotal: 1.11s\tremaining: 279ms\n",
      "800:\tlearn: 0.2833552\ttotal: 1.11s\tremaining: 277ms\n",
      "801:\tlearn: 0.2831158\ttotal: 1.12s\tremaining: 276ms\n",
      "802:\tlearn: 0.2830454\ttotal: 1.12s\tremaining: 274ms\n",
      "803:\tlearn: 0.2830048\ttotal: 1.12s\tremaining: 273ms\n",
      "804:\tlearn: 0.2827920\ttotal: 1.12s\tremaining: 271ms\n",
      "805:\tlearn: 0.2825251\ttotal: 1.12s\tremaining: 270ms\n",
      "806:\tlearn: 0.2822396\ttotal: 1.12s\tremaining: 269ms\n",
      "807:\tlearn: 0.2821335\ttotal: 1.12s\tremaining: 267ms\n",
      "808:\tlearn: 0.2818515\ttotal: 1.13s\tremaining: 266ms\n",
      "809:\tlearn: 0.2817714\ttotal: 1.13s\tremaining: 264ms\n",
      "810:\tlearn: 0.2816355\ttotal: 1.13s\tremaining: 263ms\n",
      "811:\tlearn: 0.2816054\ttotal: 1.13s\tremaining: 262ms\n",
      "812:\tlearn: 0.2814603\ttotal: 1.13s\tremaining: 260ms\n",
      "813:\tlearn: 0.2812715\ttotal: 1.13s\tremaining: 259ms\n",
      "814:\tlearn: 0.2811309\ttotal: 1.13s\tremaining: 257ms\n",
      "815:\tlearn: 0.2809701\ttotal: 1.14s\tremaining: 256ms\n",
      "816:\tlearn: 0.2808887\ttotal: 1.14s\tremaining: 255ms\n",
      "817:\tlearn: 0.2806681\ttotal: 1.14s\tremaining: 253ms\n",
      "818:\tlearn: 0.2803657\ttotal: 1.14s\tremaining: 252ms\n",
      "819:\tlearn: 0.2800199\ttotal: 1.14s\tremaining: 250ms\n",
      "820:\tlearn: 0.2799273\ttotal: 1.14s\tremaining: 249ms\n",
      "821:\tlearn: 0.2797748\ttotal: 1.14s\tremaining: 248ms\n",
      "822:\tlearn: 0.2796469\ttotal: 1.14s\tremaining: 246ms\n",
      "823:\tlearn: 0.2794710\ttotal: 1.15s\tremaining: 245ms\n",
      "824:\tlearn: 0.2793602\ttotal: 1.15s\tremaining: 243ms\n",
      "825:\tlearn: 0.2792236\ttotal: 1.15s\tremaining: 242ms\n",
      "826:\tlearn: 0.2790672\ttotal: 1.15s\tremaining: 240ms\n",
      "827:\tlearn: 0.2789253\ttotal: 1.15s\tremaining: 239ms\n",
      "828:\tlearn: 0.2788111\ttotal: 1.15s\tremaining: 238ms\n",
      "829:\tlearn: 0.2786684\ttotal: 1.15s\tremaining: 236ms\n",
      "830:\tlearn: 0.2784914\ttotal: 1.15s\tremaining: 235ms\n",
      "831:\tlearn: 0.2781271\ttotal: 1.16s\tremaining: 233ms\n",
      "832:\tlearn: 0.2779930\ttotal: 1.16s\tremaining: 232ms\n",
      "833:\tlearn: 0.2778337\ttotal: 1.16s\tremaining: 231ms\n",
      "834:\tlearn: 0.2777823\ttotal: 1.16s\tremaining: 229ms\n",
      "835:\tlearn: 0.2775738\ttotal: 1.16s\tremaining: 228ms\n",
      "836:\tlearn: 0.2774894\ttotal: 1.16s\tremaining: 226ms\n",
      "837:\tlearn: 0.2772757\ttotal: 1.16s\tremaining: 225ms\n",
      "838:\tlearn: 0.2771657\ttotal: 1.17s\tremaining: 224ms\n",
      "839:\tlearn: 0.2769796\ttotal: 1.17s\tremaining: 222ms\n",
      "840:\tlearn: 0.2768899\ttotal: 1.17s\tremaining: 221ms\n",
      "841:\tlearn: 0.2768334\ttotal: 1.17s\tremaining: 220ms\n",
      "842:\tlearn: 0.2766294\ttotal: 1.17s\tremaining: 218ms\n",
      "843:\tlearn: 0.2765933\ttotal: 1.17s\tremaining: 217ms\n",
      "844:\tlearn: 0.2764452\ttotal: 1.17s\tremaining: 215ms\n",
      "845:\tlearn: 0.2762540\ttotal: 1.18s\tremaining: 214ms\n",
      "846:\tlearn: 0.2760473\ttotal: 1.18s\tremaining: 213ms\n",
      "847:\tlearn: 0.2759451\ttotal: 1.18s\tremaining: 211ms\n",
      "848:\tlearn: 0.2758355\ttotal: 1.18s\tremaining: 210ms\n",
      "849:\tlearn: 0.2757435\ttotal: 1.18s\tremaining: 209ms\n",
      "850:\tlearn: 0.2755578\ttotal: 1.18s\tremaining: 207ms\n",
      "851:\tlearn: 0.2753418\ttotal: 1.18s\tremaining: 206ms\n",
      "852:\tlearn: 0.2751226\ttotal: 1.19s\tremaining: 204ms\n",
      "853:\tlearn: 0.2749144\ttotal: 1.19s\tremaining: 203ms\n",
      "854:\tlearn: 0.2747485\ttotal: 1.19s\tremaining: 202ms\n",
      "855:\tlearn: 0.2746236\ttotal: 1.19s\tremaining: 200ms\n",
      "856:\tlearn: 0.2743907\ttotal: 1.19s\tremaining: 199ms\n",
      "857:\tlearn: 0.2743099\ttotal: 1.19s\tremaining: 197ms\n",
      "858:\tlearn: 0.2741392\ttotal: 1.19s\tremaining: 196ms\n",
      "859:\tlearn: 0.2739967\ttotal: 1.2s\tremaining: 195ms\n",
      "860:\tlearn: 0.2738618\ttotal: 1.2s\tremaining: 193ms\n",
      "861:\tlearn: 0.2737011\ttotal: 1.2s\tremaining: 192ms\n",
      "862:\tlearn: 0.2735421\ttotal: 1.2s\tremaining: 191ms\n",
      "863:\tlearn: 0.2734537\ttotal: 1.2s\tremaining: 189ms\n",
      "864:\tlearn: 0.2733043\ttotal: 1.2s\tremaining: 188ms\n",
      "865:\tlearn: 0.2732230\ttotal: 1.2s\tremaining: 186ms\n",
      "866:\tlearn: 0.2731470\ttotal: 1.21s\tremaining: 185ms\n",
      "867:\tlearn: 0.2729445\ttotal: 1.21s\tremaining: 184ms\n",
      "868:\tlearn: 0.2728922\ttotal: 1.21s\tremaining: 182ms\n",
      "869:\tlearn: 0.2727254\ttotal: 1.21s\tremaining: 181ms\n",
      "870:\tlearn: 0.2724241\ttotal: 1.21s\tremaining: 179ms\n",
      "871:\tlearn: 0.2722230\ttotal: 1.21s\tremaining: 178ms\n",
      "872:\tlearn: 0.2720669\ttotal: 1.21s\tremaining: 177ms\n",
      "873:\tlearn: 0.2719402\ttotal: 1.22s\tremaining: 175ms\n",
      "874:\tlearn: 0.2718582\ttotal: 1.22s\tremaining: 174ms\n",
      "875:\tlearn: 0.2716758\ttotal: 1.22s\tremaining: 172ms\n",
      "876:\tlearn: 0.2714716\ttotal: 1.22s\tremaining: 171ms\n",
      "877:\tlearn: 0.2713465\ttotal: 1.22s\tremaining: 170ms\n",
      "878:\tlearn: 0.2711921\ttotal: 1.22s\tremaining: 168ms\n",
      "879:\tlearn: 0.2711102\ttotal: 1.22s\tremaining: 167ms\n",
      "880:\tlearn: 0.2710100\ttotal: 1.23s\tremaining: 166ms\n",
      "881:\tlearn: 0.2709702\ttotal: 1.23s\tremaining: 164ms\n",
      "882:\tlearn: 0.2708204\ttotal: 1.23s\tremaining: 163ms\n",
      "883:\tlearn: 0.2707878\ttotal: 1.23s\tremaining: 161ms\n",
      "884:\tlearn: 0.2705848\ttotal: 1.23s\tremaining: 160ms\n",
      "885:\tlearn: 0.2705204\ttotal: 1.23s\tremaining: 159ms\n",
      "886:\tlearn: 0.2703286\ttotal: 1.23s\tremaining: 157ms\n",
      "887:\tlearn: 0.2702607\ttotal: 1.24s\tremaining: 156ms\n",
      "888:\tlearn: 0.2702031\ttotal: 1.24s\tremaining: 154ms\n",
      "889:\tlearn: 0.2701419\ttotal: 1.24s\tremaining: 153ms\n",
      "890:\tlearn: 0.2698816\ttotal: 1.24s\tremaining: 152ms\n",
      "891:\tlearn: 0.2697145\ttotal: 1.24s\tremaining: 150ms\n",
      "892:\tlearn: 0.2696029\ttotal: 1.24s\tremaining: 149ms\n",
      "893:\tlearn: 0.2694707\ttotal: 1.25s\tremaining: 148ms\n",
      "894:\tlearn: 0.2692110\ttotal: 1.25s\tremaining: 146ms\n",
      "895:\tlearn: 0.2691767\ttotal: 1.25s\tremaining: 145ms\n",
      "896:\tlearn: 0.2689273\ttotal: 1.25s\tremaining: 143ms\n",
      "897:\tlearn: 0.2688091\ttotal: 1.25s\tremaining: 142ms\n",
      "898:\tlearn: 0.2686177\ttotal: 1.25s\tremaining: 141ms\n",
      "899:\tlearn: 0.2685634\ttotal: 1.25s\tremaining: 139ms\n",
      "900:\tlearn: 0.2684438\ttotal: 1.25s\tremaining: 138ms\n",
      "901:\tlearn: 0.2683476\ttotal: 1.26s\tremaining: 137ms\n",
      "902:\tlearn: 0.2682120\ttotal: 1.26s\tremaining: 135ms\n",
      "903:\tlearn: 0.2680710\ttotal: 1.26s\tremaining: 134ms\n",
      "904:\tlearn: 0.2680068\ttotal: 1.26s\tremaining: 132ms\n",
      "905:\tlearn: 0.2678011\ttotal: 1.26s\tremaining: 131ms\n",
      "906:\tlearn: 0.2676163\ttotal: 1.26s\tremaining: 130ms\n",
      "907:\tlearn: 0.2674920\ttotal: 1.26s\tremaining: 128ms\n",
      "908:\tlearn: 0.2674625\ttotal: 1.27s\tremaining: 127ms\n",
      "909:\tlearn: 0.2672459\ttotal: 1.27s\tremaining: 125ms\n",
      "910:\tlearn: 0.2672277\ttotal: 1.27s\tremaining: 124ms\n",
      "911:\tlearn: 0.2671631\ttotal: 1.27s\tremaining: 123ms\n",
      "912:\tlearn: 0.2671340\ttotal: 1.27s\tremaining: 121ms\n",
      "913:\tlearn: 0.2670421\ttotal: 1.27s\tremaining: 120ms\n",
      "914:\tlearn: 0.2667665\ttotal: 1.27s\tremaining: 118ms\n",
      "915:\tlearn: 0.2667246\ttotal: 1.28s\tremaining: 117ms\n",
      "916:\tlearn: 0.2666319\ttotal: 1.28s\tremaining: 116ms\n",
      "917:\tlearn: 0.2664846\ttotal: 1.28s\tremaining: 114ms\n",
      "918:\tlearn: 0.2663876\ttotal: 1.28s\tremaining: 113ms\n",
      "919:\tlearn: 0.2662291\ttotal: 1.28s\tremaining: 111ms\n",
      "920:\tlearn: 0.2660733\ttotal: 1.28s\tremaining: 110ms\n",
      "921:\tlearn: 0.2660388\ttotal: 1.28s\tremaining: 109ms\n",
      "922:\tlearn: 0.2658027\ttotal: 1.29s\tremaining: 107ms\n",
      "923:\tlearn: 0.2657305\ttotal: 1.29s\tremaining: 106ms\n",
      "924:\tlearn: 0.2655142\ttotal: 1.29s\tremaining: 105ms\n",
      "925:\tlearn: 0.2654043\ttotal: 1.29s\tremaining: 103ms\n",
      "926:\tlearn: 0.2651803\ttotal: 1.29s\tremaining: 102ms\n",
      "927:\tlearn: 0.2651014\ttotal: 1.29s\tremaining: 100ms\n",
      "928:\tlearn: 0.2649643\ttotal: 1.29s\tremaining: 98.9ms\n",
      "929:\tlearn: 0.2648631\ttotal: 1.29s\tremaining: 97.5ms\n",
      "930:\tlearn: 0.2647117\ttotal: 1.3s\tremaining: 96.1ms\n",
      "931:\tlearn: 0.2645556\ttotal: 1.3s\tremaining: 94.7ms\n",
      "932:\tlearn: 0.2644383\ttotal: 1.3s\tremaining: 93.3ms\n",
      "933:\tlearn: 0.2643563\ttotal: 1.3s\tremaining: 91.9ms\n",
      "934:\tlearn: 0.2641507\ttotal: 1.3s\tremaining: 90.6ms\n",
      "935:\tlearn: 0.2640870\ttotal: 1.3s\tremaining: 89.2ms\n",
      "936:\tlearn: 0.2639872\ttotal: 1.3s\tremaining: 87.8ms\n",
      "937:\tlearn: 0.2639226\ttotal: 1.31s\tremaining: 86.4ms\n",
      "938:\tlearn: 0.2637010\ttotal: 1.31s\tremaining: 85ms\n",
      "939:\tlearn: 0.2636072\ttotal: 1.31s\tremaining: 83.6ms\n",
      "940:\tlearn: 0.2634841\ttotal: 1.31s\tremaining: 82.2ms\n",
      "941:\tlearn: 0.2633053\ttotal: 1.31s\tremaining: 80.8ms\n",
      "942:\tlearn: 0.2630706\ttotal: 1.31s\tremaining: 79.4ms\n",
      "943:\tlearn: 0.2627805\ttotal: 1.31s\tremaining: 78ms\n",
      "944:\tlearn: 0.2627181\ttotal: 1.32s\tremaining: 76.6ms\n",
      "945:\tlearn: 0.2625924\ttotal: 1.32s\tremaining: 75.2ms\n",
      "946:\tlearn: 0.2624442\ttotal: 1.32s\tremaining: 73.8ms\n",
      "947:\tlearn: 0.2622261\ttotal: 1.32s\tremaining: 72.4ms\n",
      "948:\tlearn: 0.2619932\ttotal: 1.32s\tremaining: 71ms\n",
      "949:\tlearn: 0.2619347\ttotal: 1.32s\tremaining: 69.6ms\n",
      "950:\tlearn: 0.2617504\ttotal: 1.32s\tremaining: 68.2ms\n",
      "951:\tlearn: 0.2616919\ttotal: 1.32s\tremaining: 66.8ms\n",
      "952:\tlearn: 0.2616041\ttotal: 1.33s\tremaining: 65.4ms\n",
      "953:\tlearn: 0.2615133\ttotal: 1.33s\tremaining: 64.1ms\n",
      "954:\tlearn: 0.2612682\ttotal: 1.33s\tremaining: 62.7ms\n",
      "955:\tlearn: 0.2611421\ttotal: 1.33s\tremaining: 61.3ms\n",
      "956:\tlearn: 0.2608725\ttotal: 1.33s\tremaining: 59.9ms\n",
      "957:\tlearn: 0.2608354\ttotal: 1.33s\tremaining: 58.5ms\n",
      "958:\tlearn: 0.2607791\ttotal: 1.33s\tremaining: 57.1ms\n",
      "959:\tlearn: 0.2606565\ttotal: 1.34s\tremaining: 55.7ms\n",
      "960:\tlearn: 0.2603970\ttotal: 1.34s\tremaining: 54.3ms\n",
      "961:\tlearn: 0.2602506\ttotal: 1.34s\tremaining: 52.9ms\n",
      "962:\tlearn: 0.2602117\ttotal: 1.34s\tremaining: 51.5ms\n",
      "963:\tlearn: 0.2599931\ttotal: 1.34s\tremaining: 50.1ms\n",
      "964:\tlearn: 0.2598553\ttotal: 1.34s\tremaining: 48.7ms\n",
      "965:\tlearn: 0.2597573\ttotal: 1.34s\tremaining: 47.3ms\n",
      "966:\tlearn: 0.2594955\ttotal: 1.35s\tremaining: 46ms\n",
      "967:\tlearn: 0.2594148\ttotal: 1.35s\tremaining: 44.6ms\n",
      "968:\tlearn: 0.2592010\ttotal: 1.35s\tremaining: 43.2ms\n",
      "969:\tlearn: 0.2591275\ttotal: 1.35s\tremaining: 41.8ms\n",
      "970:\tlearn: 0.2588724\ttotal: 1.35s\tremaining: 40.4ms\n",
      "971:\tlearn: 0.2586946\ttotal: 1.35s\tremaining: 39ms\n",
      "972:\tlearn: 0.2586476\ttotal: 1.35s\tremaining: 37.6ms\n",
      "973:\tlearn: 0.2583979\ttotal: 1.35s\tremaining: 36.2ms\n",
      "974:\tlearn: 0.2583689\ttotal: 1.36s\tremaining: 34.8ms\n",
      "975:\tlearn: 0.2581286\ttotal: 1.36s\tremaining: 33.4ms\n",
      "976:\tlearn: 0.2580408\ttotal: 1.36s\tremaining: 32ms\n",
      "977:\tlearn: 0.2578278\ttotal: 1.36s\tremaining: 30.7ms\n",
      "978:\tlearn: 0.2576857\ttotal: 1.36s\tremaining: 29.3ms\n",
      "979:\tlearn: 0.2574785\ttotal: 1.36s\tremaining: 27.9ms\n",
      "980:\tlearn: 0.2574200\ttotal: 1.37s\tremaining: 26.5ms\n",
      "981:\tlearn: 0.2572162\ttotal: 1.37s\tremaining: 25.1ms\n",
      "982:\tlearn: 0.2571195\ttotal: 1.37s\tremaining: 23.7ms\n",
      "983:\tlearn: 0.2570676\ttotal: 1.37s\tremaining: 22.3ms\n",
      "984:\tlearn: 0.2568553\ttotal: 1.37s\tremaining: 20.9ms\n",
      "985:\tlearn: 0.2567721\ttotal: 1.37s\tremaining: 19.5ms\n",
      "986:\tlearn: 0.2565532\ttotal: 1.38s\tremaining: 18.1ms\n",
      "987:\tlearn: 0.2564895\ttotal: 1.38s\tremaining: 16.7ms\n",
      "988:\tlearn: 0.2564366\ttotal: 1.38s\tremaining: 15.3ms\n",
      "989:\tlearn: 0.2562434\ttotal: 1.38s\tremaining: 13.9ms\n",
      "990:\tlearn: 0.2562039\ttotal: 1.38s\tremaining: 12.5ms\n",
      "991:\tlearn: 0.2560525\ttotal: 1.38s\tremaining: 11.1ms\n",
      "992:\tlearn: 0.2557767\ttotal: 1.38s\tremaining: 9.75ms\n",
      "993:\tlearn: 0.2555766\ttotal: 1.38s\tremaining: 8.36ms\n",
      "994:\tlearn: 0.2554928\ttotal: 1.39s\tremaining: 6.96ms\n",
      "995:\tlearn: 0.2553009\ttotal: 1.39s\tremaining: 5.57ms\n",
      "996:\tlearn: 0.2552560\ttotal: 1.39s\tremaining: 4.18ms\n",
      "997:\tlearn: 0.2552201\ttotal: 1.39s\tremaining: 2.79ms\n",
      "998:\tlearn: 0.2551510\ttotal: 1.39s\tremaining: 1.39ms\n",
      "999:\tlearn: 0.2550190\ttotal: 1.39s\tremaining: 0us\n"
     ]
    },
    {
     "data": {
      "text/plain": [
       "<catboost.core.CatBoostClassifier at 0x25f8451f188>"
      ]
     },
     "execution_count": 211,
     "metadata": {},
     "output_type": "execute_result"
    }
   ],
   "source": [
    "cat.fit(X_train_data, y_train_data)"
   ]
  },
  {
   "cell_type": "code",
   "execution_count": 212,
   "metadata": {},
   "outputs": [
    {
     "data": {
      "text/plain": [
       "0.8925081433224755"
      ]
     },
     "execution_count": 212,
     "metadata": {},
     "output_type": "execute_result"
    }
   ],
   "source": [
    "cat.score(X_train_data, y_train_data)"
   ]
  },
  {
   "cell_type": "code",
   "execution_count": 213,
   "metadata": {},
   "outputs": [],
   "source": [
    "preds = cat.predict(X_test_data)"
   ]
  },
  {
   "cell_type": "code",
   "execution_count": 214,
   "metadata": {},
   "outputs": [
    {
     "data": {
      "text/plain": [
       "array([1, 1, 1, 1, 1, 1, 1, 0, 1, 1, 1, 1, 1, 0, 1, 1, 1, 1, 1, 1, 1, 1,\n",
       "       1, 1, 1, 0, 1, 1, 1, 1, 1, 1, 1, 1, 1, 0, 1, 1, 1, 1, 1, 1, 1, 1,\n",
       "       1, 1, 1, 1, 1, 1, 1, 1, 1, 1, 1, 0, 1, 1, 0, 1, 1, 1, 1, 0, 1, 1,\n",
       "       0, 0, 1, 0, 1, 1, 1, 1, 1, 1, 1, 1, 1, 1, 0, 1, 0, 1, 0, 1, 1, 1,\n",
       "       1, 1, 1, 1, 1, 1, 0, 1, 1, 1, 1, 1, 1, 0, 1, 1, 1, 1, 0, 1, 1, 1,\n",
       "       1, 1, 1, 1, 1, 1, 0, 0, 0, 0, 1, 1, 1, 0, 0, 1, 0, 1, 1, 1, 1, 1,\n",
       "       1, 1, 1, 1, 1, 1, 1, 1, 0, 1, 0, 1, 1, 1, 1, 0, 1, 1, 1, 1, 1, 0,\n",
       "       1, 1, 1, 1, 1, 1, 1, 0, 1, 1, 1, 0, 0, 1, 0, 1, 1, 1, 1, 0, 0, 1,\n",
       "       1, 1, 1, 1, 1, 1, 1, 1, 1, 1, 1, 1, 1, 1, 1, 1, 0, 0, 1, 1, 0, 1,\n",
       "       0, 1, 1, 1, 1, 1, 1, 1, 1, 1, 1, 1, 1, 0, 1, 1, 1, 1, 1, 1, 1, 1,\n",
       "       1, 1, 1, 1, 0, 1, 1, 1, 1, 0, 1, 1, 1, 1, 1, 0, 0, 1, 1, 0, 1, 0,\n",
       "       1, 0, 1, 0, 1, 1, 1, 1, 0, 1, 1, 1, 1, 0, 1, 1, 1, 0, 1, 1, 1, 1,\n",
       "       1, 1, 0, 1, 0, 1, 1, 1, 1, 0, 0, 1, 1, 1, 0, 1, 1, 1, 1, 1, 1, 1,\n",
       "       1, 1, 1, 1, 1, 1, 1, 0, 1, 1, 1, 1, 1, 1, 1, 0, 1, 1, 1, 1, 1, 1,\n",
       "       1, 1, 1, 0, 1, 1, 1, 1, 1, 0, 1, 1, 1, 1, 1, 1, 1, 0, 1, 1, 1, 1,\n",
       "       1, 1, 1, 1, 1, 1, 1, 1, 1, 0, 1, 1, 0, 1, 1, 1, 0, 1, 1, 1, 1, 1,\n",
       "       1, 1, 0, 1, 1, 1, 1, 1, 1, 1, 1, 1, 1, 1, 1], dtype=int64)"
      ]
     },
     "execution_count": 214,
     "metadata": {},
     "output_type": "execute_result"
    }
   ],
   "source": [
    "preds"
   ]
  },
  {
   "cell_type": "code",
   "execution_count": 215,
   "metadata": {},
   "outputs": [],
   "source": [
    "list1=[]\n",
    "for i in preds:\n",
    "    if i==1:\n",
    "        list1.append('Y')\n",
    "    else:\n",
    "        list1.append('N')"
   ]
  },
  {
   "cell_type": "code",
   "execution_count": 228,
   "metadata": {},
   "outputs": [],
   "source": [
    "submit = pd.DataFrame()\n",
    "submit['Loan_ID'] = test['Loan_ID']"
   ]
  },
  {
   "cell_type": "code",
   "execution_count": 229,
   "metadata": {},
   "outputs": [],
   "source": [
    "submit['Predictions'] = list1"
   ]
  },
  {
   "cell_type": "code",
   "execution_count": 230,
   "metadata": {},
   "outputs": [],
   "source": [
    "submit.to_csv('submit.csv', index=False)"
   ]
  },
  {
   "cell_type": "code",
   "execution_count": 231,
   "metadata": {},
   "outputs": [
    {
     "data": {
      "text/html": [
       "<div>\n",
       "<style scoped>\n",
       "    .dataframe tbody tr th:only-of-type {\n",
       "        vertical-align: middle;\n",
       "    }\n",
       "\n",
       "    .dataframe tbody tr th {\n",
       "        vertical-align: top;\n",
       "    }\n",
       "\n",
       "    .dataframe thead th {\n",
       "        text-align: right;\n",
       "    }\n",
       "</style>\n",
       "<table border=\"1\" class=\"dataframe\">\n",
       "  <thead>\n",
       "    <tr style=\"text-align: right;\">\n",
       "      <th></th>\n",
       "      <th>Loan_ID</th>\n",
       "      <th>Predictions</th>\n",
       "    </tr>\n",
       "  </thead>\n",
       "  <tbody>\n",
       "    <tr>\n",
       "      <th>0</th>\n",
       "      <td>0</td>\n",
       "      <td>Y</td>\n",
       "    </tr>\n",
       "    <tr>\n",
       "      <th>1</th>\n",
       "      <td>1</td>\n",
       "      <td>Y</td>\n",
       "    </tr>\n",
       "    <tr>\n",
       "      <th>2</th>\n",
       "      <td>2</td>\n",
       "      <td>Y</td>\n",
       "    </tr>\n",
       "    <tr>\n",
       "      <th>3</th>\n",
       "      <td>3</td>\n",
       "      <td>Y</td>\n",
       "    </tr>\n",
       "    <tr>\n",
       "      <th>4</th>\n",
       "      <td>4</td>\n",
       "      <td>Y</td>\n",
       "    </tr>\n",
       "  </tbody>\n",
       "</table>\n",
       "</div>"
      ],
      "text/plain": [
       "   Loan_ID Predictions\n",
       "0        0           Y\n",
       "1        1           Y\n",
       "2        2           Y\n",
       "3        3           Y\n",
       "4        4           Y"
      ]
     },
     "execution_count": 231,
     "metadata": {},
     "output_type": "execute_result"
    }
   ],
   "source": [
    "submit.head()"
   ]
  },
  {
   "cell_type": "code",
   "execution_count": 232,
   "metadata": {},
   "outputs": [],
   "source": [
    "test = pd.read_csv('test.csv')"
   ]
  },
  {
   "cell_type": "code",
   "execution_count": 233,
   "metadata": {},
   "outputs": [],
   "source": [
    "submit['Loan_ID'] = test['Loan_ID']"
   ]
  },
  {
   "cell_type": "code",
   "execution_count": 234,
   "metadata": {},
   "outputs": [
    {
     "data": {
      "text/html": [
       "<div>\n",
       "<style scoped>\n",
       "    .dataframe tbody tr th:only-of-type {\n",
       "        vertical-align: middle;\n",
       "    }\n",
       "\n",
       "    .dataframe tbody tr th {\n",
       "        vertical-align: top;\n",
       "    }\n",
       "\n",
       "    .dataframe thead th {\n",
       "        text-align: right;\n",
       "    }\n",
       "</style>\n",
       "<table border=\"1\" class=\"dataframe\">\n",
       "  <thead>\n",
       "    <tr style=\"text-align: right;\">\n",
       "      <th></th>\n",
       "      <th>Loan_ID</th>\n",
       "      <th>Predictions</th>\n",
       "    </tr>\n",
       "  </thead>\n",
       "  <tbody>\n",
       "    <tr>\n",
       "      <th>0</th>\n",
       "      <td>LP001015</td>\n",
       "      <td>Y</td>\n",
       "    </tr>\n",
       "    <tr>\n",
       "      <th>1</th>\n",
       "      <td>LP001022</td>\n",
       "      <td>Y</td>\n",
       "    </tr>\n",
       "    <tr>\n",
       "      <th>2</th>\n",
       "      <td>LP001031</td>\n",
       "      <td>Y</td>\n",
       "    </tr>\n",
       "    <tr>\n",
       "      <th>3</th>\n",
       "      <td>LP001035</td>\n",
       "      <td>Y</td>\n",
       "    </tr>\n",
       "    <tr>\n",
       "      <th>4</th>\n",
       "      <td>LP001051</td>\n",
       "      <td>Y</td>\n",
       "    </tr>\n",
       "  </tbody>\n",
       "</table>\n",
       "</div>"
      ],
      "text/plain": [
       "    Loan_ID Predictions\n",
       "0  LP001015           Y\n",
       "1  LP001022           Y\n",
       "2  LP001031           Y\n",
       "3  LP001035           Y\n",
       "4  LP001051           Y"
      ]
     },
     "execution_count": 234,
     "metadata": {},
     "output_type": "execute_result"
    }
   ],
   "source": [
    "submit.head()"
   ]
  },
  {
   "cell_type": "code",
   "execution_count": 235,
   "metadata": {},
   "outputs": [],
   "source": [
    "submit.to_csv('submit.csv', index=False)"
   ]
  },
  {
   "cell_type": "code",
   "execution_count": null,
   "metadata": {},
   "outputs": [],
   "source": []
  }
 ],
 "metadata": {
  "kernelspec": {
   "display_name": "Python 3",
   "language": "python",
   "name": "python3"
  },
  "language_info": {
   "codemirror_mode": {
    "name": "ipython",
    "version": 3
   },
   "file_extension": ".py",
   "mimetype": "text/x-python",
   "name": "python",
   "nbconvert_exporter": "python",
   "pygments_lexer": "ipython3",
   "version": "3.7.4"
  }
 },
 "nbformat": 4,
 "nbformat_minor": 4
}
